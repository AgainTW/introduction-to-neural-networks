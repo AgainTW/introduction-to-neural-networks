{
  "nbformat": 4,
  "nbformat_minor": 0,
  "metadata": {
    "colab": {
      "provenance": []
    },
    "kernelspec": {
      "name": "python3",
      "display_name": "Python 3"
    },
    "language_info": {
      "name": "python"
    }
  },
  "cells": [
    {
      "cell_type": "markdown",
      "source": [
        "## 環境設定"
      ],
      "metadata": {
        "id": "FO5-h98MaWPa"
      }
    },
    {
      "cell_type": "code",
      "execution_count": 1,
      "metadata": {
        "colab": {
          "base_uri": "https://localhost:8080/"
        },
        "id": "XV60W3MUZcLs",
        "outputId": "d939d216-800f-4d6b-c6b5-6f9448f97481"
      },
      "outputs": [
        {
          "output_type": "stream",
          "name": "stdout",
          "text": [
            "Tensorflow version: 2.9.2\n"
          ]
        }
      ],
      "source": [
        "import math\n",
        "import pandas as pd\n",
        "import numpy as np\n",
        "import seaborn as sns\n",
        "import matplotlib.pyplot as plt\n",
        "import tensorflow as tf\n",
        "from sklearn.model_selection import train_test_split\n",
        "from sklearn.preprocessing import StandardScaler\n",
        "from sklearn.metrics import confusion_matrix, classification_report\n",
        "from sklearn import metrics\n",
        "\n",
        "%matplotlib inline\n",
        "\n",
        "print(f'Tensorflow version: {tf.__version__}')"
      ]
    },
    {
      "cell_type": "code",
      "source": [
        "from google.colab import drive\n",
        "drive.mount('/content/drive')\n",
        "%cd drive/MyDrive/Colab Notebooks"
      ],
      "metadata": {
        "colab": {
          "base_uri": "https://localhost:8080/"
        },
        "id": "qV5wxoi1aa2t",
        "outputId": "8cdd81b9-fedf-4f52-8aae-1d1499559fa4"
      },
      "execution_count": 2,
      "outputs": [
        {
          "output_type": "stream",
          "name": "stdout",
          "text": [
            "Drive already mounted at /content/drive; to attempt to forcibly remount, call drive.mount(\"/content/drive\", force_remount=True).\n",
            "/content/drive/MyDrive/Colab Notebooks\n"
          ]
        }
      ]
    },
    {
      "cell_type": "markdown",
      "source": [
        "## Load data"
      ],
      "metadata": {
        "id": "uxO5G6QIaY8h"
      }
    },
    {
      "cell_type": "code",
      "source": [
        "bean_train = pd.read_csv('/content/drive/MyDrive/NN_HW4/train_data.csv')\n",
        "bean_test = pd.read_csv('/content/drive/MyDrive/NN_HW4/test_data.csv')"
      ],
      "metadata": {
        "id": "imdBeAgramGF"
      },
      "execution_count": 3,
      "outputs": []
    },
    {
      "cell_type": "code",
      "source": [
        "bean_train.head()"
      ],
      "metadata": {
        "colab": {
          "base_uri": "https://localhost:8080/",
          "height": 270
        },
        "id": "aiV-ZdZ-aqop",
        "outputId": "2f163483-1f44-49fd-e20a-50d0eb574a56"
      },
      "execution_count": 4,
      "outputs": [
        {
          "output_type": "execute_result",
          "data": {
            "text/plain": [
              "    Area  Perimeter  MajorAxisLength  MinorAxisLength  AspectRation  \\\n",
              "0  29076    636.353       235.061517       158.033619      1.487415   \n",
              "1  38091    755.186       271.077683       179.756984      1.508023   \n",
              "2  30969    651.527       230.164083       171.903953      1.338911   \n",
              "3  34589    685.425       253.001232       174.609358      1.448956   \n",
              "4  35954    710.093       251.660769       182.014822      1.382639   \n",
              "\n",
              "   Eccentricity  ConvexArea  EquivDiameter    Extent  Solidity  roundness  \\\n",
              "0      0.740272       29490     192.407674  0.693524  0.985961   0.902295   \n",
              "1      0.748513       38716     220.224811  0.706318  0.983857   0.839314   \n",
              "2      0.664964       31318     198.572293  0.733689  0.988856   0.916795   \n",
              "3      0.723664       34965     209.857291  0.784331  0.989246   0.925184   \n",
              "4      0.690581       36380     213.958067  0.794564  0.988290   0.896038   \n",
              "\n",
              "   Compactness  ShapeFactor1  ShapeFactor2  ShapeFactor3  ShapeFactor4  \\\n",
              "0     0.818542      0.008084      0.002239      0.670011      0.996584   \n",
              "1     0.812405      0.007117      0.001912      0.660002      0.995298   \n",
              "2     0.862742      0.007432      0.002540      0.744324      0.996584   \n",
              "3     0.829471      0.007314      0.002136      0.688023      0.996915   \n",
              "4     0.850184      0.007000      0.002256      0.722814      0.999390   \n",
              "\n",
              "      Class  \n",
              "0  DERMASON  \n",
              "1  DERMASON  \n",
              "2  DERMASON  \n",
              "3  DERMASON  \n",
              "4     SEKER  "
            ],
            "text/html": [
              "\n",
              "  <div id=\"df-bd705a41-12b3-428d-ae2b-245cce88bdf0\">\n",
              "    <div class=\"colab-df-container\">\n",
              "      <div>\n",
              "<style scoped>\n",
              "    .dataframe tbody tr th:only-of-type {\n",
              "        vertical-align: middle;\n",
              "    }\n",
              "\n",
              "    .dataframe tbody tr th {\n",
              "        vertical-align: top;\n",
              "    }\n",
              "\n",
              "    .dataframe thead th {\n",
              "        text-align: right;\n",
              "    }\n",
              "</style>\n",
              "<table border=\"1\" class=\"dataframe\">\n",
              "  <thead>\n",
              "    <tr style=\"text-align: right;\">\n",
              "      <th></th>\n",
              "      <th>Area</th>\n",
              "      <th>Perimeter</th>\n",
              "      <th>MajorAxisLength</th>\n",
              "      <th>MinorAxisLength</th>\n",
              "      <th>AspectRation</th>\n",
              "      <th>Eccentricity</th>\n",
              "      <th>ConvexArea</th>\n",
              "      <th>EquivDiameter</th>\n",
              "      <th>Extent</th>\n",
              "      <th>Solidity</th>\n",
              "      <th>roundness</th>\n",
              "      <th>Compactness</th>\n",
              "      <th>ShapeFactor1</th>\n",
              "      <th>ShapeFactor2</th>\n",
              "      <th>ShapeFactor3</th>\n",
              "      <th>ShapeFactor4</th>\n",
              "      <th>Class</th>\n",
              "    </tr>\n",
              "  </thead>\n",
              "  <tbody>\n",
              "    <tr>\n",
              "      <th>0</th>\n",
              "      <td>29076</td>\n",
              "      <td>636.353</td>\n",
              "      <td>235.061517</td>\n",
              "      <td>158.033619</td>\n",
              "      <td>1.487415</td>\n",
              "      <td>0.740272</td>\n",
              "      <td>29490</td>\n",
              "      <td>192.407674</td>\n",
              "      <td>0.693524</td>\n",
              "      <td>0.985961</td>\n",
              "      <td>0.902295</td>\n",
              "      <td>0.818542</td>\n",
              "      <td>0.008084</td>\n",
              "      <td>0.002239</td>\n",
              "      <td>0.670011</td>\n",
              "      <td>0.996584</td>\n",
              "      <td>DERMASON</td>\n",
              "    </tr>\n",
              "    <tr>\n",
              "      <th>1</th>\n",
              "      <td>38091</td>\n",
              "      <td>755.186</td>\n",
              "      <td>271.077683</td>\n",
              "      <td>179.756984</td>\n",
              "      <td>1.508023</td>\n",
              "      <td>0.748513</td>\n",
              "      <td>38716</td>\n",
              "      <td>220.224811</td>\n",
              "      <td>0.706318</td>\n",
              "      <td>0.983857</td>\n",
              "      <td>0.839314</td>\n",
              "      <td>0.812405</td>\n",
              "      <td>0.007117</td>\n",
              "      <td>0.001912</td>\n",
              "      <td>0.660002</td>\n",
              "      <td>0.995298</td>\n",
              "      <td>DERMASON</td>\n",
              "    </tr>\n",
              "    <tr>\n",
              "      <th>2</th>\n",
              "      <td>30969</td>\n",
              "      <td>651.527</td>\n",
              "      <td>230.164083</td>\n",
              "      <td>171.903953</td>\n",
              "      <td>1.338911</td>\n",
              "      <td>0.664964</td>\n",
              "      <td>31318</td>\n",
              "      <td>198.572293</td>\n",
              "      <td>0.733689</td>\n",
              "      <td>0.988856</td>\n",
              "      <td>0.916795</td>\n",
              "      <td>0.862742</td>\n",
              "      <td>0.007432</td>\n",
              "      <td>0.002540</td>\n",
              "      <td>0.744324</td>\n",
              "      <td>0.996584</td>\n",
              "      <td>DERMASON</td>\n",
              "    </tr>\n",
              "    <tr>\n",
              "      <th>3</th>\n",
              "      <td>34589</td>\n",
              "      <td>685.425</td>\n",
              "      <td>253.001232</td>\n",
              "      <td>174.609358</td>\n",
              "      <td>1.448956</td>\n",
              "      <td>0.723664</td>\n",
              "      <td>34965</td>\n",
              "      <td>209.857291</td>\n",
              "      <td>0.784331</td>\n",
              "      <td>0.989246</td>\n",
              "      <td>0.925184</td>\n",
              "      <td>0.829471</td>\n",
              "      <td>0.007314</td>\n",
              "      <td>0.002136</td>\n",
              "      <td>0.688023</td>\n",
              "      <td>0.996915</td>\n",
              "      <td>DERMASON</td>\n",
              "    </tr>\n",
              "    <tr>\n",
              "      <th>4</th>\n",
              "      <td>35954</td>\n",
              "      <td>710.093</td>\n",
              "      <td>251.660769</td>\n",
              "      <td>182.014822</td>\n",
              "      <td>1.382639</td>\n",
              "      <td>0.690581</td>\n",
              "      <td>36380</td>\n",
              "      <td>213.958067</td>\n",
              "      <td>0.794564</td>\n",
              "      <td>0.988290</td>\n",
              "      <td>0.896038</td>\n",
              "      <td>0.850184</td>\n",
              "      <td>0.007000</td>\n",
              "      <td>0.002256</td>\n",
              "      <td>0.722814</td>\n",
              "      <td>0.999390</td>\n",
              "      <td>SEKER</td>\n",
              "    </tr>\n",
              "  </tbody>\n",
              "</table>\n",
              "</div>\n",
              "      <button class=\"colab-df-convert\" onclick=\"convertToInteractive('df-bd705a41-12b3-428d-ae2b-245cce88bdf0')\"\n",
              "              title=\"Convert this dataframe to an interactive table.\"\n",
              "              style=\"display:none;\">\n",
              "        \n",
              "  <svg xmlns=\"http://www.w3.org/2000/svg\" height=\"24px\"viewBox=\"0 0 24 24\"\n",
              "       width=\"24px\">\n",
              "    <path d=\"M0 0h24v24H0V0z\" fill=\"none\"/>\n",
              "    <path d=\"M18.56 5.44l.94 2.06.94-2.06 2.06-.94-2.06-.94-.94-2.06-.94 2.06-2.06.94zm-11 1L8.5 8.5l.94-2.06 2.06-.94-2.06-.94L8.5 2.5l-.94 2.06-2.06.94zm10 10l.94 2.06.94-2.06 2.06-.94-2.06-.94-.94-2.06-.94 2.06-2.06.94z\"/><path d=\"M17.41 7.96l-1.37-1.37c-.4-.4-.92-.59-1.43-.59-.52 0-1.04.2-1.43.59L10.3 9.45l-7.72 7.72c-.78.78-.78 2.05 0 2.83L4 21.41c.39.39.9.59 1.41.59.51 0 1.02-.2 1.41-.59l7.78-7.78 2.81-2.81c.8-.78.8-2.07 0-2.86zM5.41 20L4 18.59l7.72-7.72 1.47 1.35L5.41 20z\"/>\n",
              "  </svg>\n",
              "      </button>\n",
              "      \n",
              "  <style>\n",
              "    .colab-df-container {\n",
              "      display:flex;\n",
              "      flex-wrap:wrap;\n",
              "      gap: 12px;\n",
              "    }\n",
              "\n",
              "    .colab-df-convert {\n",
              "      background-color: #E8F0FE;\n",
              "      border: none;\n",
              "      border-radius: 50%;\n",
              "      cursor: pointer;\n",
              "      display: none;\n",
              "      fill: #1967D2;\n",
              "      height: 32px;\n",
              "      padding: 0 0 0 0;\n",
              "      width: 32px;\n",
              "    }\n",
              "\n",
              "    .colab-df-convert:hover {\n",
              "      background-color: #E2EBFA;\n",
              "      box-shadow: 0px 1px 2px rgba(60, 64, 67, 0.3), 0px 1px 3px 1px rgba(60, 64, 67, 0.15);\n",
              "      fill: #174EA6;\n",
              "    }\n",
              "\n",
              "    [theme=dark] .colab-df-convert {\n",
              "      background-color: #3B4455;\n",
              "      fill: #D2E3FC;\n",
              "    }\n",
              "\n",
              "    [theme=dark] .colab-df-convert:hover {\n",
              "      background-color: #434B5C;\n",
              "      box-shadow: 0px 1px 3px 1px rgba(0, 0, 0, 0.15);\n",
              "      filter: drop-shadow(0px 1px 2px rgba(0, 0, 0, 0.3));\n",
              "      fill: #FFFFFF;\n",
              "    }\n",
              "  </style>\n",
              "\n",
              "      <script>\n",
              "        const buttonEl =\n",
              "          document.querySelector('#df-bd705a41-12b3-428d-ae2b-245cce88bdf0 button.colab-df-convert');\n",
              "        buttonEl.style.display =\n",
              "          google.colab.kernel.accessAllowed ? 'block' : 'none';\n",
              "\n",
              "        async function convertToInteractive(key) {\n",
              "          const element = document.querySelector('#df-bd705a41-12b3-428d-ae2b-245cce88bdf0');\n",
              "          const dataTable =\n",
              "            await google.colab.kernel.invokeFunction('convertToInteractive',\n",
              "                                                     [key], {});\n",
              "          if (!dataTable) return;\n",
              "\n",
              "          const docLinkHtml = 'Like what you see? Visit the ' +\n",
              "            '<a target=\"_blank\" href=https://colab.research.google.com/notebooks/data_table.ipynb>data table notebook</a>'\n",
              "            + ' to learn more about interactive tables.';\n",
              "          element.innerHTML = '';\n",
              "          dataTable['output_type'] = 'display_data';\n",
              "          await google.colab.output.renderOutput(dataTable, element);\n",
              "          const docLink = document.createElement('div');\n",
              "          docLink.innerHTML = docLinkHtml;\n",
              "          element.appendChild(docLink);\n",
              "        }\n",
              "      </script>\n",
              "    </div>\n",
              "  </div>\n",
              "  "
            ]
          },
          "metadata": {},
          "execution_count": 4
        }
      ]
    },
    {
      "cell_type": "code",
      "source": [
        "bean_test.head()"
      ],
      "metadata": {
        "colab": {
          "base_uri": "https://localhost:8080/",
          "height": 270
        },
        "id": "1euS6z6TarrZ",
        "outputId": "3388be5b-aa47-407b-f65d-05ea3dc48fc8"
      },
      "execution_count": 5,
      "outputs": [
        {
          "output_type": "execute_result",
          "data": {
            "text/plain": [
              "    Area  Perimeter  MajorAxisLength  MinorAxisLength  AspectRation  \\\n",
              "0  42339    741.226       260.199330       207.306394      1.255144   \n",
              "1  68247   1088.754       370.368146       237.863792      1.557060   \n",
              "2  37856    708.716       248.430330       194.360324      1.278195   \n",
              "3  33143    648.385       222.526309       189.737379      1.172812   \n",
              "4  29925    647.570       237.714031       161.004849      1.476440   \n",
              "\n",
              "   Eccentricity  ConvexArea  EquivDiameter    Extent  Solidity  roundness  \\\n",
              "0      0.604347       42676     232.180294  0.771202  0.992103   0.968387   \n",
              "1      0.766507       70172     294.779204  0.767683  0.972567   0.723492   \n",
              "2      0.622835       38232     219.544429  0.744640  0.990165   0.947109   \n",
              "3      0.522480       33377     205.423899  0.769980  0.992989   0.990685   \n",
              "4      0.735703       30321     195.196551  0.785309  0.986940   0.896748   \n",
              "\n",
              "   Compactness  ShapeFactor1  ShapeFactor2  ShapeFactor3  ShapeFactor4  \n",
              "0     0.892317      0.006146      0.002403      0.796230      0.999383  \n",
              "1     0.795909      0.005427      0.001343      0.633471      0.986352  \n",
              "2     0.883726      0.006563      0.002469      0.780972      0.998235  \n",
              "3     0.923144      0.006714      0.003008      0.852195      0.999465  \n",
              "4     0.821140      0.007944      0.002228      0.674271      0.995521  "
            ],
            "text/html": [
              "\n",
              "  <div id=\"df-a7ca64e9-8c20-4c40-b2d7-6a2d161b6b8e\">\n",
              "    <div class=\"colab-df-container\">\n",
              "      <div>\n",
              "<style scoped>\n",
              "    .dataframe tbody tr th:only-of-type {\n",
              "        vertical-align: middle;\n",
              "    }\n",
              "\n",
              "    .dataframe tbody tr th {\n",
              "        vertical-align: top;\n",
              "    }\n",
              "\n",
              "    .dataframe thead th {\n",
              "        text-align: right;\n",
              "    }\n",
              "</style>\n",
              "<table border=\"1\" class=\"dataframe\">\n",
              "  <thead>\n",
              "    <tr style=\"text-align: right;\">\n",
              "      <th></th>\n",
              "      <th>Area</th>\n",
              "      <th>Perimeter</th>\n",
              "      <th>MajorAxisLength</th>\n",
              "      <th>MinorAxisLength</th>\n",
              "      <th>AspectRation</th>\n",
              "      <th>Eccentricity</th>\n",
              "      <th>ConvexArea</th>\n",
              "      <th>EquivDiameter</th>\n",
              "      <th>Extent</th>\n",
              "      <th>Solidity</th>\n",
              "      <th>roundness</th>\n",
              "      <th>Compactness</th>\n",
              "      <th>ShapeFactor1</th>\n",
              "      <th>ShapeFactor2</th>\n",
              "      <th>ShapeFactor3</th>\n",
              "      <th>ShapeFactor4</th>\n",
              "    </tr>\n",
              "  </thead>\n",
              "  <tbody>\n",
              "    <tr>\n",
              "      <th>0</th>\n",
              "      <td>42339</td>\n",
              "      <td>741.226</td>\n",
              "      <td>260.199330</td>\n",
              "      <td>207.306394</td>\n",
              "      <td>1.255144</td>\n",
              "      <td>0.604347</td>\n",
              "      <td>42676</td>\n",
              "      <td>232.180294</td>\n",
              "      <td>0.771202</td>\n",
              "      <td>0.992103</td>\n",
              "      <td>0.968387</td>\n",
              "      <td>0.892317</td>\n",
              "      <td>0.006146</td>\n",
              "      <td>0.002403</td>\n",
              "      <td>0.796230</td>\n",
              "      <td>0.999383</td>\n",
              "    </tr>\n",
              "    <tr>\n",
              "      <th>1</th>\n",
              "      <td>68247</td>\n",
              "      <td>1088.754</td>\n",
              "      <td>370.368146</td>\n",
              "      <td>237.863792</td>\n",
              "      <td>1.557060</td>\n",
              "      <td>0.766507</td>\n",
              "      <td>70172</td>\n",
              "      <td>294.779204</td>\n",
              "      <td>0.767683</td>\n",
              "      <td>0.972567</td>\n",
              "      <td>0.723492</td>\n",
              "      <td>0.795909</td>\n",
              "      <td>0.005427</td>\n",
              "      <td>0.001343</td>\n",
              "      <td>0.633471</td>\n",
              "      <td>0.986352</td>\n",
              "    </tr>\n",
              "    <tr>\n",
              "      <th>2</th>\n",
              "      <td>37856</td>\n",
              "      <td>708.716</td>\n",
              "      <td>248.430330</td>\n",
              "      <td>194.360324</td>\n",
              "      <td>1.278195</td>\n",
              "      <td>0.622835</td>\n",
              "      <td>38232</td>\n",
              "      <td>219.544429</td>\n",
              "      <td>0.744640</td>\n",
              "      <td>0.990165</td>\n",
              "      <td>0.947109</td>\n",
              "      <td>0.883726</td>\n",
              "      <td>0.006563</td>\n",
              "      <td>0.002469</td>\n",
              "      <td>0.780972</td>\n",
              "      <td>0.998235</td>\n",
              "    </tr>\n",
              "    <tr>\n",
              "      <th>3</th>\n",
              "      <td>33143</td>\n",
              "      <td>648.385</td>\n",
              "      <td>222.526309</td>\n",
              "      <td>189.737379</td>\n",
              "      <td>1.172812</td>\n",
              "      <td>0.522480</td>\n",
              "      <td>33377</td>\n",
              "      <td>205.423899</td>\n",
              "      <td>0.769980</td>\n",
              "      <td>0.992989</td>\n",
              "      <td>0.990685</td>\n",
              "      <td>0.923144</td>\n",
              "      <td>0.006714</td>\n",
              "      <td>0.003008</td>\n",
              "      <td>0.852195</td>\n",
              "      <td>0.999465</td>\n",
              "    </tr>\n",
              "    <tr>\n",
              "      <th>4</th>\n",
              "      <td>29925</td>\n",
              "      <td>647.570</td>\n",
              "      <td>237.714031</td>\n",
              "      <td>161.004849</td>\n",
              "      <td>1.476440</td>\n",
              "      <td>0.735703</td>\n",
              "      <td>30321</td>\n",
              "      <td>195.196551</td>\n",
              "      <td>0.785309</td>\n",
              "      <td>0.986940</td>\n",
              "      <td>0.896748</td>\n",
              "      <td>0.821140</td>\n",
              "      <td>0.007944</td>\n",
              "      <td>0.002228</td>\n",
              "      <td>0.674271</td>\n",
              "      <td>0.995521</td>\n",
              "    </tr>\n",
              "  </tbody>\n",
              "</table>\n",
              "</div>\n",
              "      <button class=\"colab-df-convert\" onclick=\"convertToInteractive('df-a7ca64e9-8c20-4c40-b2d7-6a2d161b6b8e')\"\n",
              "              title=\"Convert this dataframe to an interactive table.\"\n",
              "              style=\"display:none;\">\n",
              "        \n",
              "  <svg xmlns=\"http://www.w3.org/2000/svg\" height=\"24px\"viewBox=\"0 0 24 24\"\n",
              "       width=\"24px\">\n",
              "    <path d=\"M0 0h24v24H0V0z\" fill=\"none\"/>\n",
              "    <path d=\"M18.56 5.44l.94 2.06.94-2.06 2.06-.94-2.06-.94-.94-2.06-.94 2.06-2.06.94zm-11 1L8.5 8.5l.94-2.06 2.06-.94-2.06-.94L8.5 2.5l-.94 2.06-2.06.94zm10 10l.94 2.06.94-2.06 2.06-.94-2.06-.94-.94-2.06-.94 2.06-2.06.94z\"/><path d=\"M17.41 7.96l-1.37-1.37c-.4-.4-.92-.59-1.43-.59-.52 0-1.04.2-1.43.59L10.3 9.45l-7.72 7.72c-.78.78-.78 2.05 0 2.83L4 21.41c.39.39.9.59 1.41.59.51 0 1.02-.2 1.41-.59l7.78-7.78 2.81-2.81c.8-.78.8-2.07 0-2.86zM5.41 20L4 18.59l7.72-7.72 1.47 1.35L5.41 20z\"/>\n",
              "  </svg>\n",
              "      </button>\n",
              "      \n",
              "  <style>\n",
              "    .colab-df-container {\n",
              "      display:flex;\n",
              "      flex-wrap:wrap;\n",
              "      gap: 12px;\n",
              "    }\n",
              "\n",
              "    .colab-df-convert {\n",
              "      background-color: #E8F0FE;\n",
              "      border: none;\n",
              "      border-radius: 50%;\n",
              "      cursor: pointer;\n",
              "      display: none;\n",
              "      fill: #1967D2;\n",
              "      height: 32px;\n",
              "      padding: 0 0 0 0;\n",
              "      width: 32px;\n",
              "    }\n",
              "\n",
              "    .colab-df-convert:hover {\n",
              "      background-color: #E2EBFA;\n",
              "      box-shadow: 0px 1px 2px rgba(60, 64, 67, 0.3), 0px 1px 3px 1px rgba(60, 64, 67, 0.15);\n",
              "      fill: #174EA6;\n",
              "    }\n",
              "\n",
              "    [theme=dark] .colab-df-convert {\n",
              "      background-color: #3B4455;\n",
              "      fill: #D2E3FC;\n",
              "    }\n",
              "\n",
              "    [theme=dark] .colab-df-convert:hover {\n",
              "      background-color: #434B5C;\n",
              "      box-shadow: 0px 1px 3px 1px rgba(0, 0, 0, 0.15);\n",
              "      filter: drop-shadow(0px 1px 2px rgba(0, 0, 0, 0.3));\n",
              "      fill: #FFFFFF;\n",
              "    }\n",
              "  </style>\n",
              "\n",
              "      <script>\n",
              "        const buttonEl =\n",
              "          document.querySelector('#df-a7ca64e9-8c20-4c40-b2d7-6a2d161b6b8e button.colab-df-convert');\n",
              "        buttonEl.style.display =\n",
              "          google.colab.kernel.accessAllowed ? 'block' : 'none';\n",
              "\n",
              "        async function convertToInteractive(key) {\n",
              "          const element = document.querySelector('#df-a7ca64e9-8c20-4c40-b2d7-6a2d161b6b8e');\n",
              "          const dataTable =\n",
              "            await google.colab.kernel.invokeFunction('convertToInteractive',\n",
              "                                                     [key], {});\n",
              "          if (!dataTable) return;\n",
              "\n",
              "          const docLinkHtml = 'Like what you see? Visit the ' +\n",
              "            '<a target=\"_blank\" href=https://colab.research.google.com/notebooks/data_table.ipynb>data table notebook</a>'\n",
              "            + ' to learn more about interactive tables.';\n",
              "          element.innerHTML = '';\n",
              "          dataTable['output_type'] = 'display_data';\n",
              "          await google.colab.output.renderOutput(dataTable, element);\n",
              "          const docLink = document.createElement('div');\n",
              "          docLink.innerHTML = docLinkHtml;\n",
              "          element.appendChild(docLink);\n",
              "        }\n",
              "      </script>\n",
              "    </div>\n",
              "  </div>\n",
              "  "
            ]
          },
          "metadata": {},
          "execution_count": 5
        }
      ]
    },
    {
      "cell_type": "markdown",
      "source": [
        "## Preprocessing"
      ],
      "metadata": {
        "id": "0cNy1235bQFG"
      }
    },
    {
      "cell_type": "code",
      "source": [
        "train = bean_train\n",
        "test = bean_test"
      ],
      "metadata": {
        "id": "dkOHkmisbsKd"
      },
      "execution_count": 6,
      "outputs": []
    },
    {
      "cell_type": "markdown",
      "source": [
        "### Convert category"
      ],
      "metadata": {
        "id": "enwZAKenbXfp"
      }
    },
    {
      "cell_type": "code",
      "source": [
        "train['Class'] = train['Class'].apply(lambda x: 1 if x == 'DERMASON' else x)\n",
        "train['Class'] = train['Class'].apply(lambda x: 2 if x == 'SIRA' else x)\n",
        "train['Class'] = train['Class'].apply(lambda x: 3 if x == 'SEKER' else x)\n",
        "train['Class'] = train['Class'].apply(lambda x: 4 if x == 'HOROZ' else x)\n",
        "train['Class'] = train['Class'].apply(lambda x: 5 if x == 'CALI' else x)\n",
        "train['Class'] = train['Class'].apply(lambda x: 6 if x == 'BARBUNYA' else x)\n",
        "train['Class'] = train['Class'].apply(lambda x: 7 if x == 'BOMBAY' else x)"
      ],
      "metadata": {
        "id": "JDnvvHMSboBY"
      },
      "execution_count": 7,
      "outputs": []
    },
    {
      "cell_type": "markdown",
      "source": [
        "### Data cleaning & Data filling"
      ],
      "metadata": {
        "id": "t6c_vpZ0bYxZ"
      }
    },
    {
      "cell_type": "code",
      "source": [
        "train_full = train.fillna(0)\n",
        "train_full.isna().sum()"
      ],
      "metadata": {
        "colab": {
          "base_uri": "https://localhost:8080/"
        },
        "id": "BGzhrOa2cOVN",
        "outputId": "f82f38af-05ff-467d-f1d6-1b43b9c69b59"
      },
      "execution_count": 8,
      "outputs": [
        {
          "output_type": "execute_result",
          "data": {
            "text/plain": [
              "Area               0\n",
              "Perimeter          0\n",
              "MajorAxisLength    0\n",
              "MinorAxisLength    0\n",
              "AspectRation       0\n",
              "Eccentricity       0\n",
              "ConvexArea         0\n",
              "EquivDiameter      0\n",
              "Extent             0\n",
              "Solidity           0\n",
              "roundness          0\n",
              "Compactness        0\n",
              "ShapeFactor1       0\n",
              "ShapeFactor2       0\n",
              "ShapeFactor3       0\n",
              "ShapeFactor4       0\n",
              "Class              0\n",
              "dtype: int64"
            ]
          },
          "metadata": {},
          "execution_count": 8
        }
      ]
    },
    {
      "cell_type": "markdown",
      "source": [
        "### remove outliers"
      ],
      "metadata": {
        "id": "kS4RDre-blOE"
      }
    },
    {
      "cell_type": "code",
      "source": [
        "#剔除離群值\n",
        "n=3\n",
        "IQR = 0\n",
        "count = []\n",
        "\n",
        "#IQR = Q3-Q1\n",
        "for i in range(len(train_full.iloc[0,:-1])):\n",
        "  if(1):\n",
        "    IQR = np.percentile(train_full.iloc[:,i],75) - np.percentile(train_full.iloc[:,i],25)\n",
        "\n",
        "    count = []\n",
        "    for j in range(len(train_full.iloc[:,i])):\n",
        "      if( train_full.iloc[j,i] > np.percentile(train_full.iloc[:,i],75)+n*IQR ):\n",
        "        count.append(j) \n",
        "\n",
        "    for j in range(len(train_full.iloc[:,i])):\n",
        "      if( train_full.iloc[j,i] < np.percentile(train_full.iloc[:,i],75)-n*IQR ):\n",
        "        count.append(j)\n",
        "\n",
        "    for k in count:\n",
        "      train_full = train_full.drop(labels=k, axis=0) \n",
        "    train_full = train_full.reset_index(drop=True)\n",
        " \n",
        "train_full"
      ],
      "metadata": {
        "id": "ROaMDHrv789D",
        "colab": {
          "base_uri": "https://localhost:8080/",
          "height": 488
        },
        "outputId": "a2f2d115-482e-47cf-8f10-d5eb45911672"
      },
      "execution_count": 9,
      "outputs": [
        {
          "output_type": "execute_result",
          "data": {
            "text/plain": [
              "       Area  Perimeter  MajorAxisLength  MinorAxisLength  AspectRation  \\\n",
              "0     29076    636.353       235.061517       158.033619      1.487415   \n",
              "1     38091    755.186       271.077683       179.756984      1.508023   \n",
              "2     30969    651.527       230.164083       171.903953      1.338911   \n",
              "3     34589    685.425       253.001232       174.609358      1.448956   \n",
              "4     35954    710.093       251.660769       182.014822      1.382639   \n",
              "...     ...        ...              ...              ...           ...   \n",
              "9591  83266   1117.778       448.473710       237.747098      1.886348   \n",
              "9592  39857    755.392       283.623668       179.430885      1.580685   \n",
              "9593  90004   1156.599       456.836383       252.353553      1.810303   \n",
              "9594  38426    711.412       246.696608       198.555756      1.242455   \n",
              "9595  63628    997.390       400.784151       204.033966      1.964301   \n",
              "\n",
              "      Eccentricity  ConvexArea  EquivDiameter    Extent  Solidity  roundness  \\\n",
              "0         0.740272       29490     192.407674  0.693524  0.985961   0.902295   \n",
              "1         0.748513       38716     220.224811  0.706318  0.983857   0.839314   \n",
              "2         0.664964       31318     198.572293  0.733689  0.988856   0.916795   \n",
              "3         0.723664       34965     209.857291  0.784331  0.989246   0.925184   \n",
              "4         0.690581       36380     213.958067  0.794564  0.988290   0.896038   \n",
              "...            ...         ...            ...       ...       ...        ...   \n",
              "9591      0.847920       84030     325.603384  0.797239  0.990908   0.837465   \n",
              "9592      0.774448       40330     225.272077  0.692154  0.988272   0.877748   \n",
              "9593      0.833583       90790     338.521273  0.783939  0.991343   0.845485   \n",
              "9594      0.593467       38799     221.191100  0.752094  0.990386   0.954097   \n",
              "9595      0.860715       64287     284.629032  0.622583  0.989749   0.803763   \n",
              "\n",
              "      Compactness  ShapeFactor1  ShapeFactor2  ShapeFactor3  ShapeFactor4  \\\n",
              "0        0.818542      0.008084      0.002239      0.670011      0.996584   \n",
              "1        0.812405      0.007117      0.001912      0.660002      0.995298   \n",
              "2        0.862742      0.007432      0.002540      0.744324      0.996584   \n",
              "3        0.829471      0.007314      0.002136      0.688023      0.996915   \n",
              "4        0.850184      0.007000      0.002256      0.722814      0.999390   \n",
              "...           ...           ...           ...           ...           ...   \n",
              "9591     0.726026      0.005386      0.000923      0.527113      0.994319   \n",
              "9592     0.794264      0.007116      0.001747      0.630855      0.997183   \n",
              "9593     0.741012      0.005076      0.000944      0.549099      0.994035   \n",
              "9594     0.896612      0.006420      0.002559      0.803913      0.998826   \n",
              "9595     0.710180      0.006299      0.000988      0.504356      0.990707   \n",
              "\n",
              "      Class  \n",
              "0         1  \n",
              "1         1  \n",
              "2         1  \n",
              "3         1  \n",
              "4         3  \n",
              "...     ...  \n",
              "9591      5  \n",
              "9592      1  \n",
              "9593      5  \n",
              "9594      3  \n",
              "9595      4  \n",
              "\n",
              "[9596 rows x 17 columns]"
            ],
            "text/html": [
              "\n",
              "  <div id=\"df-c9280a6b-e57e-4991-bde6-8be17f855d0d\">\n",
              "    <div class=\"colab-df-container\">\n",
              "      <div>\n",
              "<style scoped>\n",
              "    .dataframe tbody tr th:only-of-type {\n",
              "        vertical-align: middle;\n",
              "    }\n",
              "\n",
              "    .dataframe tbody tr th {\n",
              "        vertical-align: top;\n",
              "    }\n",
              "\n",
              "    .dataframe thead th {\n",
              "        text-align: right;\n",
              "    }\n",
              "</style>\n",
              "<table border=\"1\" class=\"dataframe\">\n",
              "  <thead>\n",
              "    <tr style=\"text-align: right;\">\n",
              "      <th></th>\n",
              "      <th>Area</th>\n",
              "      <th>Perimeter</th>\n",
              "      <th>MajorAxisLength</th>\n",
              "      <th>MinorAxisLength</th>\n",
              "      <th>AspectRation</th>\n",
              "      <th>Eccentricity</th>\n",
              "      <th>ConvexArea</th>\n",
              "      <th>EquivDiameter</th>\n",
              "      <th>Extent</th>\n",
              "      <th>Solidity</th>\n",
              "      <th>roundness</th>\n",
              "      <th>Compactness</th>\n",
              "      <th>ShapeFactor1</th>\n",
              "      <th>ShapeFactor2</th>\n",
              "      <th>ShapeFactor3</th>\n",
              "      <th>ShapeFactor4</th>\n",
              "      <th>Class</th>\n",
              "    </tr>\n",
              "  </thead>\n",
              "  <tbody>\n",
              "    <tr>\n",
              "      <th>0</th>\n",
              "      <td>29076</td>\n",
              "      <td>636.353</td>\n",
              "      <td>235.061517</td>\n",
              "      <td>158.033619</td>\n",
              "      <td>1.487415</td>\n",
              "      <td>0.740272</td>\n",
              "      <td>29490</td>\n",
              "      <td>192.407674</td>\n",
              "      <td>0.693524</td>\n",
              "      <td>0.985961</td>\n",
              "      <td>0.902295</td>\n",
              "      <td>0.818542</td>\n",
              "      <td>0.008084</td>\n",
              "      <td>0.002239</td>\n",
              "      <td>0.670011</td>\n",
              "      <td>0.996584</td>\n",
              "      <td>1</td>\n",
              "    </tr>\n",
              "    <tr>\n",
              "      <th>1</th>\n",
              "      <td>38091</td>\n",
              "      <td>755.186</td>\n",
              "      <td>271.077683</td>\n",
              "      <td>179.756984</td>\n",
              "      <td>1.508023</td>\n",
              "      <td>0.748513</td>\n",
              "      <td>38716</td>\n",
              "      <td>220.224811</td>\n",
              "      <td>0.706318</td>\n",
              "      <td>0.983857</td>\n",
              "      <td>0.839314</td>\n",
              "      <td>0.812405</td>\n",
              "      <td>0.007117</td>\n",
              "      <td>0.001912</td>\n",
              "      <td>0.660002</td>\n",
              "      <td>0.995298</td>\n",
              "      <td>1</td>\n",
              "    </tr>\n",
              "    <tr>\n",
              "      <th>2</th>\n",
              "      <td>30969</td>\n",
              "      <td>651.527</td>\n",
              "      <td>230.164083</td>\n",
              "      <td>171.903953</td>\n",
              "      <td>1.338911</td>\n",
              "      <td>0.664964</td>\n",
              "      <td>31318</td>\n",
              "      <td>198.572293</td>\n",
              "      <td>0.733689</td>\n",
              "      <td>0.988856</td>\n",
              "      <td>0.916795</td>\n",
              "      <td>0.862742</td>\n",
              "      <td>0.007432</td>\n",
              "      <td>0.002540</td>\n",
              "      <td>0.744324</td>\n",
              "      <td>0.996584</td>\n",
              "      <td>1</td>\n",
              "    </tr>\n",
              "    <tr>\n",
              "      <th>3</th>\n",
              "      <td>34589</td>\n",
              "      <td>685.425</td>\n",
              "      <td>253.001232</td>\n",
              "      <td>174.609358</td>\n",
              "      <td>1.448956</td>\n",
              "      <td>0.723664</td>\n",
              "      <td>34965</td>\n",
              "      <td>209.857291</td>\n",
              "      <td>0.784331</td>\n",
              "      <td>0.989246</td>\n",
              "      <td>0.925184</td>\n",
              "      <td>0.829471</td>\n",
              "      <td>0.007314</td>\n",
              "      <td>0.002136</td>\n",
              "      <td>0.688023</td>\n",
              "      <td>0.996915</td>\n",
              "      <td>1</td>\n",
              "    </tr>\n",
              "    <tr>\n",
              "      <th>4</th>\n",
              "      <td>35954</td>\n",
              "      <td>710.093</td>\n",
              "      <td>251.660769</td>\n",
              "      <td>182.014822</td>\n",
              "      <td>1.382639</td>\n",
              "      <td>0.690581</td>\n",
              "      <td>36380</td>\n",
              "      <td>213.958067</td>\n",
              "      <td>0.794564</td>\n",
              "      <td>0.988290</td>\n",
              "      <td>0.896038</td>\n",
              "      <td>0.850184</td>\n",
              "      <td>0.007000</td>\n",
              "      <td>0.002256</td>\n",
              "      <td>0.722814</td>\n",
              "      <td>0.999390</td>\n",
              "      <td>3</td>\n",
              "    </tr>\n",
              "    <tr>\n",
              "      <th>...</th>\n",
              "      <td>...</td>\n",
              "      <td>...</td>\n",
              "      <td>...</td>\n",
              "      <td>...</td>\n",
              "      <td>...</td>\n",
              "      <td>...</td>\n",
              "      <td>...</td>\n",
              "      <td>...</td>\n",
              "      <td>...</td>\n",
              "      <td>...</td>\n",
              "      <td>...</td>\n",
              "      <td>...</td>\n",
              "      <td>...</td>\n",
              "      <td>...</td>\n",
              "      <td>...</td>\n",
              "      <td>...</td>\n",
              "      <td>...</td>\n",
              "    </tr>\n",
              "    <tr>\n",
              "      <th>9591</th>\n",
              "      <td>83266</td>\n",
              "      <td>1117.778</td>\n",
              "      <td>448.473710</td>\n",
              "      <td>237.747098</td>\n",
              "      <td>1.886348</td>\n",
              "      <td>0.847920</td>\n",
              "      <td>84030</td>\n",
              "      <td>325.603384</td>\n",
              "      <td>0.797239</td>\n",
              "      <td>0.990908</td>\n",
              "      <td>0.837465</td>\n",
              "      <td>0.726026</td>\n",
              "      <td>0.005386</td>\n",
              "      <td>0.000923</td>\n",
              "      <td>0.527113</td>\n",
              "      <td>0.994319</td>\n",
              "      <td>5</td>\n",
              "    </tr>\n",
              "    <tr>\n",
              "      <th>9592</th>\n",
              "      <td>39857</td>\n",
              "      <td>755.392</td>\n",
              "      <td>283.623668</td>\n",
              "      <td>179.430885</td>\n",
              "      <td>1.580685</td>\n",
              "      <td>0.774448</td>\n",
              "      <td>40330</td>\n",
              "      <td>225.272077</td>\n",
              "      <td>0.692154</td>\n",
              "      <td>0.988272</td>\n",
              "      <td>0.877748</td>\n",
              "      <td>0.794264</td>\n",
              "      <td>0.007116</td>\n",
              "      <td>0.001747</td>\n",
              "      <td>0.630855</td>\n",
              "      <td>0.997183</td>\n",
              "      <td>1</td>\n",
              "    </tr>\n",
              "    <tr>\n",
              "      <th>9593</th>\n",
              "      <td>90004</td>\n",
              "      <td>1156.599</td>\n",
              "      <td>456.836383</td>\n",
              "      <td>252.353553</td>\n",
              "      <td>1.810303</td>\n",
              "      <td>0.833583</td>\n",
              "      <td>90790</td>\n",
              "      <td>338.521273</td>\n",
              "      <td>0.783939</td>\n",
              "      <td>0.991343</td>\n",
              "      <td>0.845485</td>\n",
              "      <td>0.741012</td>\n",
              "      <td>0.005076</td>\n",
              "      <td>0.000944</td>\n",
              "      <td>0.549099</td>\n",
              "      <td>0.994035</td>\n",
              "      <td>5</td>\n",
              "    </tr>\n",
              "    <tr>\n",
              "      <th>9594</th>\n",
              "      <td>38426</td>\n",
              "      <td>711.412</td>\n",
              "      <td>246.696608</td>\n",
              "      <td>198.555756</td>\n",
              "      <td>1.242455</td>\n",
              "      <td>0.593467</td>\n",
              "      <td>38799</td>\n",
              "      <td>221.191100</td>\n",
              "      <td>0.752094</td>\n",
              "      <td>0.990386</td>\n",
              "      <td>0.954097</td>\n",
              "      <td>0.896612</td>\n",
              "      <td>0.006420</td>\n",
              "      <td>0.002559</td>\n",
              "      <td>0.803913</td>\n",
              "      <td>0.998826</td>\n",
              "      <td>3</td>\n",
              "    </tr>\n",
              "    <tr>\n",
              "      <th>9595</th>\n",
              "      <td>63628</td>\n",
              "      <td>997.390</td>\n",
              "      <td>400.784151</td>\n",
              "      <td>204.033966</td>\n",
              "      <td>1.964301</td>\n",
              "      <td>0.860715</td>\n",
              "      <td>64287</td>\n",
              "      <td>284.629032</td>\n",
              "      <td>0.622583</td>\n",
              "      <td>0.989749</td>\n",
              "      <td>0.803763</td>\n",
              "      <td>0.710180</td>\n",
              "      <td>0.006299</td>\n",
              "      <td>0.000988</td>\n",
              "      <td>0.504356</td>\n",
              "      <td>0.990707</td>\n",
              "      <td>4</td>\n",
              "    </tr>\n",
              "  </tbody>\n",
              "</table>\n",
              "<p>9596 rows × 17 columns</p>\n",
              "</div>\n",
              "      <button class=\"colab-df-convert\" onclick=\"convertToInteractive('df-c9280a6b-e57e-4991-bde6-8be17f855d0d')\"\n",
              "              title=\"Convert this dataframe to an interactive table.\"\n",
              "              style=\"display:none;\">\n",
              "        \n",
              "  <svg xmlns=\"http://www.w3.org/2000/svg\" height=\"24px\"viewBox=\"0 0 24 24\"\n",
              "       width=\"24px\">\n",
              "    <path d=\"M0 0h24v24H0V0z\" fill=\"none\"/>\n",
              "    <path d=\"M18.56 5.44l.94 2.06.94-2.06 2.06-.94-2.06-.94-.94-2.06-.94 2.06-2.06.94zm-11 1L8.5 8.5l.94-2.06 2.06-.94-2.06-.94L8.5 2.5l-.94 2.06-2.06.94zm10 10l.94 2.06.94-2.06 2.06-.94-2.06-.94-.94-2.06-.94 2.06-2.06.94z\"/><path d=\"M17.41 7.96l-1.37-1.37c-.4-.4-.92-.59-1.43-.59-.52 0-1.04.2-1.43.59L10.3 9.45l-7.72 7.72c-.78.78-.78 2.05 0 2.83L4 21.41c.39.39.9.59 1.41.59.51 0 1.02-.2 1.41-.59l7.78-7.78 2.81-2.81c.8-.78.8-2.07 0-2.86zM5.41 20L4 18.59l7.72-7.72 1.47 1.35L5.41 20z\"/>\n",
              "  </svg>\n",
              "      </button>\n",
              "      \n",
              "  <style>\n",
              "    .colab-df-container {\n",
              "      display:flex;\n",
              "      flex-wrap:wrap;\n",
              "      gap: 12px;\n",
              "    }\n",
              "\n",
              "    .colab-df-convert {\n",
              "      background-color: #E8F0FE;\n",
              "      border: none;\n",
              "      border-radius: 50%;\n",
              "      cursor: pointer;\n",
              "      display: none;\n",
              "      fill: #1967D2;\n",
              "      height: 32px;\n",
              "      padding: 0 0 0 0;\n",
              "      width: 32px;\n",
              "    }\n",
              "\n",
              "    .colab-df-convert:hover {\n",
              "      background-color: #E2EBFA;\n",
              "      box-shadow: 0px 1px 2px rgba(60, 64, 67, 0.3), 0px 1px 3px 1px rgba(60, 64, 67, 0.15);\n",
              "      fill: #174EA6;\n",
              "    }\n",
              "\n",
              "    [theme=dark] .colab-df-convert {\n",
              "      background-color: #3B4455;\n",
              "      fill: #D2E3FC;\n",
              "    }\n",
              "\n",
              "    [theme=dark] .colab-df-convert:hover {\n",
              "      background-color: #434B5C;\n",
              "      box-shadow: 0px 1px 3px 1px rgba(0, 0, 0, 0.15);\n",
              "      filter: drop-shadow(0px 1px 2px rgba(0, 0, 0, 0.3));\n",
              "      fill: #FFFFFF;\n",
              "    }\n",
              "  </style>\n",
              "\n",
              "      <script>\n",
              "        const buttonEl =\n",
              "          document.querySelector('#df-c9280a6b-e57e-4991-bde6-8be17f855d0d button.colab-df-convert');\n",
              "        buttonEl.style.display =\n",
              "          google.colab.kernel.accessAllowed ? 'block' : 'none';\n",
              "\n",
              "        async function convertToInteractive(key) {\n",
              "          const element = document.querySelector('#df-c9280a6b-e57e-4991-bde6-8be17f855d0d');\n",
              "          const dataTable =\n",
              "            await google.colab.kernel.invokeFunction('convertToInteractive',\n",
              "                                                     [key], {});\n",
              "          if (!dataTable) return;\n",
              "\n",
              "          const docLinkHtml = 'Like what you see? Visit the ' +\n",
              "            '<a target=\"_blank\" href=https://colab.research.google.com/notebooks/data_table.ipynb>data table notebook</a>'\n",
              "            + ' to learn more about interactive tables.';\n",
              "          element.innerHTML = '';\n",
              "          dataTable['output_type'] = 'display_data';\n",
              "          await google.colab.output.renderOutput(dataTable, element);\n",
              "          const docLink = document.createElement('div');\n",
              "          docLink.innerHTML = docLinkHtml;\n",
              "          element.appendChild(docLink);\n",
              "        }\n",
              "      </script>\n",
              "    </div>\n",
              "  </div>\n",
              "  "
            ]
          },
          "metadata": {},
          "execution_count": 9
        }
      ]
    },
    {
      "cell_type": "markdown",
      "source": [
        "### Split input and output"
      ],
      "metadata": {
        "id": "hCCv4TtWe6al"
      }
    },
    {
      "cell_type": "code",
      "source": [
        "x = train_full.iloc[:, :-1]\n",
        "y = train_full.iloc[:, -1]\n",
        "\n",
        "print(f\"Columns of input: {list(x.columns)}\")\n",
        "print(f\"Columns of output: {y.name}\")\n",
        "print(f\"Shape of input: {x.shape}\")\n",
        "print(f\"Shape of output: {y.shape}\")"
      ],
      "metadata": {
        "colab": {
          "base_uri": "https://localhost:8080/"
        },
        "id": "yCOHENi6e-dl",
        "outputId": "d55f0ddb-4b0a-426e-f0be-392d1cf4064a"
      },
      "execution_count": 10,
      "outputs": [
        {
          "output_type": "stream",
          "name": "stdout",
          "text": [
            "Columns of input: ['Area', 'Perimeter', 'MajorAxisLength', 'MinorAxisLength', 'AspectRation', 'Eccentricity', 'ConvexArea', 'EquivDiameter', 'Extent', 'Solidity', 'roundness', 'Compactness', 'ShapeFactor1', 'ShapeFactor2', 'ShapeFactor3', 'ShapeFactor4']\n",
            "Columns of output: Class\n",
            "Shape of input: (9596, 16)\n",
            "Shape of output: (9596,)\n"
          ]
        }
      ]
    },
    {
      "cell_type": "markdown",
      "source": [
        "### Split train and test data"
      ],
      "metadata": {
        "id": "T7XVBl4IfHVs"
      }
    },
    {
      "cell_type": "code",
      "source": [
        "from sklearn.model_selection import train_test_split\n",
        "\n",
        "x_train, x_test, y_train, y_test = train_test_split(x, y, test_size=0.2, random_state=1234)\n",
        "\n",
        "print(f\"Shape of x_train: {x_train.shape}\")\n",
        "print(f\"Shape of x_test: {x_test.shape}\")\n",
        "print(f\"Shape of y_train: {y_train.shape}\")\n",
        "print(f\"Shape of y_test: {y_test.shape}\")"
      ],
      "metadata": {
        "colab": {
          "base_uri": "https://localhost:8080/"
        },
        "id": "DMyUBK2pfHRQ",
        "outputId": "a1899172-f783-4d04-9bf3-ea2022fb0ee3"
      },
      "execution_count": 11,
      "outputs": [
        {
          "output_type": "stream",
          "name": "stdout",
          "text": [
            "Shape of x_train: (7676, 16)\n",
            "Shape of x_test: (1920, 16)\n",
            "Shape of y_train: (7676,)\n",
            "Shape of y_test: (1920,)\n"
          ]
        }
      ]
    },
    {
      "cell_type": "markdown",
      "source": [
        "# SVM"
      ],
      "metadata": {
        "id": "RIdaEMjznZ0-"
      }
    },
    {
      "cell_type": "code",
      "source": [
        "from sklearn import svm\n",
        "\n",
        "model_SVM1 = svm.SVC(kernel='linear',C=2,gamma='auto')\n",
        "model_SVM2 = svm.SVC(kernel='linear',C=5,gamma='auto')\n",
        "model_SVM3 = svm.SVC(kernel='rbf',gamma=0.1,C=1)\n",
        "\n",
        "model_SVM1.fit(x_train,y_train)\n",
        "model_SVM2.fit(x_train,y_train)\n",
        "model_SVM3.fit(x_train,y_train)"
      ],
      "metadata": {
        "colab": {
          "base_uri": "https://localhost:8080/"
        },
        "id": "oQ0gcDYQnii_",
        "outputId": "41f9265f-3007-41f6-d165-20065acf60a6"
      },
      "execution_count": 12,
      "outputs": [
        {
          "output_type": "execute_result",
          "data": {
            "text/plain": [
              "SVC(C=1, gamma=0.1)"
            ]
          },
          "metadata": {},
          "execution_count": 12
        }
      ]
    },
    {
      "cell_type": "code",
      "source": [
        "predict_SVM1 = model_SVM1.predict(x_test)\n",
        "predict_SVM2 = model_SVM2.predict(x_test)\n",
        "predict_SVM3 = model_SVM3.predict(x_test)\n",
        "\n",
        "print(\"Accuracy_SVM1:\", metrics.accuracy_score(y_test, predict_SVM1))\n",
        "print(\"Accuracy_SVM2:\", metrics.accuracy_score(y_test, predict_SVM2))\n",
        "print(\"Accuracy_SVM3:\", metrics.accuracy_score(y_test, predict_SVM3))"
      ],
      "metadata": {
        "colab": {
          "base_uri": "https://localhost:8080/"
        },
        "id": "1XU6As0noiBm",
        "outputId": "5ce3ac30-47b3-4737-d081-de320e78551d"
      },
      "execution_count": 13,
      "outputs": [
        {
          "output_type": "stream",
          "name": "stdout",
          "text": [
            "Accuracy_SVM1: 0.903125\n",
            "Accuracy_SVM2: 0.9020833333333333\n",
            "Accuracy_SVM3: 0.30052083333333335\n"
          ]
        }
      ]
    },
    {
      "cell_type": "markdown",
      "source": [
        "# NN"
      ],
      "metadata": {
        "id": "xoLLnCltfPfA"
      }
    },
    {
      "cell_type": "code",
      "source": [
        "scaler = StandardScaler()\n",
        "x_train = scaler.fit_transform(x_train)\n",
        "x_test = scaler.transform(x_test)"
      ],
      "metadata": {
        "id": "W7W6QhVofRUt"
      },
      "execution_count": 14,
      "outputs": []
    },
    {
      "cell_type": "code",
      "source": [
        "# del model_NN1\n",
        "model_NN1 = tf.keras.models.Sequential([\n",
        "  tf.keras.layers.Dense(units=256, input_shape=(x_train.shape[1],), activation='elu'),\n",
        "  tf.keras.layers.Dense(units=128, activation='relu'),\n",
        "  tf.keras.layers.Dense(units=64, activation='relu'),\n",
        "  tf.keras.layers.Dense(units=64, activation='relu'),\n",
        "  tf.keras.layers.Dense(units=8, activation='softmax')\n",
        "])\n",
        "\n",
        "model_NN1.compile(optimizer='adam', loss='sparse_categorical_crossentropy', metrics=['accuracy'])\n",
        "model_NN1.summary()"
      ],
      "metadata": {
        "colab": {
          "base_uri": "https://localhost:8080/"
        },
        "id": "_4qjW5E4fXbo",
        "outputId": "a14df7d2-dd35-4c24-d0c7-14e95031d1d7"
      },
      "execution_count": 15,
      "outputs": [
        {
          "output_type": "stream",
          "name": "stdout",
          "text": [
            "Model: \"sequential\"\n",
            "_________________________________________________________________\n",
            " Layer (type)                Output Shape              Param #   \n",
            "=================================================================\n",
            " dense (Dense)               (None, 256)               4352      \n",
            "                                                                 \n",
            " dense_1 (Dense)             (None, 128)               32896     \n",
            "                                                                 \n",
            " dense_2 (Dense)             (None, 64)                8256      \n",
            "                                                                 \n",
            " dense_3 (Dense)             (None, 64)                4160      \n",
            "                                                                 \n",
            " dense_4 (Dense)             (None, 8)                 520       \n",
            "                                                                 \n",
            "=================================================================\n",
            "Total params: 50,184\n",
            "Trainable params: 50,184\n",
            "Non-trainable params: 0\n",
            "_________________________________________________________________\n"
          ]
        }
      ]
    },
    {
      "cell_type": "code",
      "source": [
        "early_stopping = tf.keras.callbacks.EarlyStopping(\n",
        "    min_delta=0.001, # minimium amount of change to count as an improvement\n",
        "    patience=20, # how many epochs to wait before stopping\n",
        "    restore_best_weights=True,\n",
        ")\n",
        "\n",
        "history = model_NN1.fit(\n",
        "    x_train, y_train,\n",
        "    validation_data=(x_test, y_test),\n",
        "    batch_size=64,\n",
        "    epochs=100,\n",
        "    callbacks=[early_stopping], # put your callbacks in a list\n",
        ")"
      ],
      "metadata": {
        "colab": {
          "base_uri": "https://localhost:8080/"
        },
        "id": "4AV7Nq_nfaK0",
        "outputId": "eb74ee76-2d2d-4ff5-8969-2299ae0e33f7"
      },
      "execution_count": 16,
      "outputs": [
        {
          "output_type": "stream",
          "name": "stdout",
          "text": [
            "Epoch 1/100\n",
            "120/120 [==============================] - 1s 7ms/step - loss: 0.4790 - accuracy: 0.8489 - val_loss: 0.2726 - val_accuracy: 0.9036\n",
            "Epoch 2/100\n",
            "120/120 [==============================] - 1s 6ms/step - loss: 0.2284 - accuracy: 0.9166 - val_loss: 0.2450 - val_accuracy: 0.9068\n",
            "Epoch 3/100\n",
            "120/120 [==============================] - 1s 6ms/step - loss: 0.2184 - accuracy: 0.9182 - val_loss: 0.2498 - val_accuracy: 0.9125\n",
            "Epoch 4/100\n",
            "120/120 [==============================] - 1s 9ms/step - loss: 0.2159 - accuracy: 0.9227 - val_loss: 0.2354 - val_accuracy: 0.9193\n",
            "Epoch 5/100\n",
            "120/120 [==============================] - 1s 8ms/step - loss: 0.2104 - accuracy: 0.9235 - val_loss: 0.2402 - val_accuracy: 0.9115\n",
            "Epoch 6/100\n",
            "120/120 [==============================] - 0s 4ms/step - loss: 0.2115 - accuracy: 0.9190 - val_loss: 0.2322 - val_accuracy: 0.9130\n",
            "Epoch 7/100\n",
            "120/120 [==============================] - 0s 4ms/step - loss: 0.2067 - accuracy: 0.9248 - val_loss: 0.2408 - val_accuracy: 0.9130\n",
            "Epoch 8/100\n",
            "120/120 [==============================] - 1s 5ms/step - loss: 0.1962 - accuracy: 0.9256 - val_loss: 0.2249 - val_accuracy: 0.9182\n",
            "Epoch 9/100\n",
            "120/120 [==============================] - 1s 5ms/step - loss: 0.2038 - accuracy: 0.9244 - val_loss: 0.2253 - val_accuracy: 0.9203\n",
            "Epoch 10/100\n",
            "120/120 [==============================] - 1s 6ms/step - loss: 0.1924 - accuracy: 0.9265 - val_loss: 0.2183 - val_accuracy: 0.9224\n",
            "Epoch 11/100\n",
            "120/120 [==============================] - 1s 5ms/step - loss: 0.1926 - accuracy: 0.9277 - val_loss: 0.2185 - val_accuracy: 0.9250\n",
            "Epoch 12/100\n",
            "120/120 [==============================] - 1s 5ms/step - loss: 0.1887 - accuracy: 0.9290 - val_loss: 0.2159 - val_accuracy: 0.9177\n",
            "Epoch 13/100\n",
            "120/120 [==============================] - 1s 5ms/step - loss: 0.1910 - accuracy: 0.9280 - val_loss: 0.2362 - val_accuracy: 0.9182\n",
            "Epoch 14/100\n",
            "120/120 [==============================] - 1s 5ms/step - loss: 0.1878 - accuracy: 0.9277 - val_loss: 0.2287 - val_accuracy: 0.9172\n",
            "Epoch 15/100\n",
            "120/120 [==============================] - 1s 5ms/step - loss: 0.1861 - accuracy: 0.9274 - val_loss: 0.2273 - val_accuracy: 0.9229\n",
            "Epoch 16/100\n",
            "120/120 [==============================] - 1s 5ms/step - loss: 0.1860 - accuracy: 0.9283 - val_loss: 0.2249 - val_accuracy: 0.9240\n",
            "Epoch 17/100\n",
            "120/120 [==============================] - 1s 5ms/step - loss: 0.1825 - accuracy: 0.9310 - val_loss: 0.2243 - val_accuracy: 0.9208\n",
            "Epoch 18/100\n",
            "120/120 [==============================] - 1s 5ms/step - loss: 0.1816 - accuracy: 0.9294 - val_loss: 0.2303 - val_accuracy: 0.9198\n",
            "Epoch 19/100\n",
            "120/120 [==============================] - 1s 5ms/step - loss: 0.1808 - accuracy: 0.9304 - val_loss: 0.2396 - val_accuracy: 0.9182\n",
            "Epoch 20/100\n",
            "120/120 [==============================] - 1s 4ms/step - loss: 0.1748 - accuracy: 0.9329 - val_loss: 0.2281 - val_accuracy: 0.9187\n",
            "Epoch 21/100\n",
            "120/120 [==============================] - 1s 4ms/step - loss: 0.1752 - accuracy: 0.9324 - val_loss: 0.2219 - val_accuracy: 0.9203\n",
            "Epoch 22/100\n",
            "120/120 [==============================] - 1s 4ms/step - loss: 0.1723 - accuracy: 0.9330 - val_loss: 0.2411 - val_accuracy: 0.9187\n",
            "Epoch 23/100\n",
            "120/120 [==============================] - 1s 4ms/step - loss: 0.1739 - accuracy: 0.9319 - val_loss: 0.2389 - val_accuracy: 0.9161\n",
            "Epoch 24/100\n",
            "120/120 [==============================] - 1s 4ms/step - loss: 0.1762 - accuracy: 0.9316 - val_loss: 0.2348 - val_accuracy: 0.9234\n",
            "Epoch 25/100\n",
            "120/120 [==============================] - 1s 4ms/step - loss: 0.1718 - accuracy: 0.9345 - val_loss: 0.2211 - val_accuracy: 0.9229\n",
            "Epoch 26/100\n",
            "120/120 [==============================] - 1s 4ms/step - loss: 0.1734 - accuracy: 0.9315 - val_loss: 0.2253 - val_accuracy: 0.9219\n",
            "Epoch 27/100\n",
            "120/120 [==============================] - 1s 4ms/step - loss: 0.1640 - accuracy: 0.9360 - val_loss: 0.2343 - val_accuracy: 0.9135\n",
            "Epoch 28/100\n",
            "120/120 [==============================] - 1s 4ms/step - loss: 0.1638 - accuracy: 0.9356 - val_loss: 0.2293 - val_accuracy: 0.9219\n",
            "Epoch 29/100\n",
            "120/120 [==============================] - 1s 5ms/step - loss: 0.1582 - accuracy: 0.9399 - val_loss: 0.2217 - val_accuracy: 0.9240\n",
            "Epoch 30/100\n",
            "120/120 [==============================] - 1s 4ms/step - loss: 0.1615 - accuracy: 0.9355 - val_loss: 0.2487 - val_accuracy: 0.9182\n",
            "Epoch 31/100\n",
            "120/120 [==============================] - 1s 4ms/step - loss: 0.1609 - accuracy: 0.9380 - val_loss: 0.2477 - val_accuracy: 0.9141\n",
            "Epoch 32/100\n",
            "120/120 [==============================] - 1s 4ms/step - loss: 0.1601 - accuracy: 0.9386 - val_loss: 0.2321 - val_accuracy: 0.9198\n"
          ]
        }
      ]
    },
    {
      "cell_type": "code",
      "source": [
        "model_NN1.save(\"bean_model_.h5\")\n",
        "# Loss\n",
        "fig, ax = plt.subplots(figsize=(8,4))\n",
        "plt.title('loss')\n",
        "plt.plot(history.history['loss'], label='loss')\n",
        "plt.plot(history.history['val_loss'], label='val_loss', linestyle='--')\n",
        "plt.legend()\n",
        "plt.show()\n",
        "\n",
        "# Accuracy\n",
        "fig, ax = plt.subplots(figsize=(8,4))\n",
        "plt.title('accuracy')\n",
        "plt.plot(history.history['accuracy'], label='accuracy')\n",
        "plt.plot(history.history['val_accuracy'], label='val_accuracy', linestyle='--')\n",
        "plt.legend()\n",
        "plt.show()"
      ],
      "metadata": {
        "colab": {
          "base_uri": "https://localhost:8080/",
          "height": 545
        },
        "id": "rEJl66CMfdp0",
        "outputId": "42c08b3d-dfce-48d4-f4eb-4cefd0a9191d"
      },
      "execution_count": 17,
      "outputs": [
        {
          "output_type": "display_data",
          "data": {
            "text/plain": [
              "<Figure size 576x288 with 1 Axes>"
            ],
            "image/png": "[encoded data removed]"
          },
          "metadata": {
            "needs_background": "light"
          }
        },
        {
          "output_type": "display_data",
          "data": {
            "text/plain": [
              "<Figure size 576x288 with 1 Axes>"
            ],
            "image/png": "[encoded data removed]"
          },
          "metadata": {
            "needs_background": "light"
          }
        }
      ]
    },
    {
      "cell_type": "markdown",
      "source": [
        "# bagging"
      ],
      "metadata": {
        "id": "PiWeUDbshcEL"
      }
    },
    {
      "cell_type": "markdown",
      "source": [
        "### NN bagging"
      ],
      "metadata": {
        "id": "zq2j8UusnPNR"
      }
    },
    {
      "cell_type": "code",
      "source": [
        "x_bag = train_full.iloc[:, :-1]\n",
        "y_bag = train_full.iloc[:, -1]\n",
        "x_bagging = x_bag\n",
        "\n",
        "scaler = StandardScaler()\n",
        "x_bag_norm = scaler.fit_transform(x_bag)\n",
        "\n",
        "predict_bag = model_NN1.predict(x_bag_norm)\n",
        "predict_bag = np.argmax(predict_bag, axis=1)\n",
        "\n",
        "x_bagging.insert(x_bagging.shape[1], 'bagging_NN', predict_bag)"
      ],
      "metadata": {
        "colab": {
          "base_uri": "https://localhost:8080/"
        },
        "id": "0MmZN88ghelj",
        "outputId": "5d191cb5-421b-41eb-9bdc-912cca85e3eb"
      },
      "execution_count": 18,
      "outputs": [
        {
          "output_type": "stream",
          "name": "stdout",
          "text": [
            "300/300 [==============================] - 1s 2ms/step\n"
          ]
        }
      ]
    },
    {
      "cell_type": "markdown",
      "source": [
        "### SVM bagging"
      ],
      "metadata": {
        "id": "Gg7BKjsKtc6g"
      }
    },
    {
      "cell_type": "code",
      "source": [
        "x_bag = train_full.iloc[:, :-1]\n",
        "y_bag = train_full.iloc[:, -1]\n",
        "\n",
        "bag_SVM1 = model_SVM1.predict(x_bag)\n",
        "bag_SVM2 = model_SVM2.predict(x_bag)\n",
        "\n",
        "x_bagging.insert(x_bagging.shape[1], 'bagging_SVM1', bag_SVM1)\n",
        "x_bagging.insert(x_bagging.shape[1], 'bagging_SVM2', bag_SVM2)"
      ],
      "metadata": {
        "id": "uNkxJKPltuU1"
      },
      "execution_count": 19,
      "outputs": []
    },
    {
      "cell_type": "markdown",
      "source": [
        "### fit NN2(寬的)"
      ],
      "metadata": {
        "id": "9cLJ1e8ZtvW9"
      }
    },
    {
      "cell_type": "code",
      "source": [
        "x_bag_train, x_bag_test, y_bag_train, y_bag_test = train_test_split(x_bagging, y, test_size=0.2, random_state=1234)\n",
        "\n",
        "scaler = StandardScaler()\n",
        "x_bag_train = scaler.fit_transform(x_bag_train)\n",
        "x_bag_test = scaler.transform(x_bag_test)"
      ],
      "metadata": {
        "id": "-fe79EtdirFc"
      },
      "execution_count": 20,
      "outputs": []
    },
    {
      "cell_type": "code",
      "source": [
        "# del model\n",
        "model_NN2 = tf.keras.models.Sequential([\n",
        "  tf.keras.layers.Dense(units=512, input_shape=(x_bag_train.shape[1],), activation='elu'),\n",
        "  tf.keras.layers.Dense(units=128, activation='relu'),\n",
        "  tf.keras.layers.Dense(units=64, activation='relu'),\n",
        "  tf.keras.layers.Dense(units=8, activation='softmax')\n",
        "])\n",
        "\n",
        "model_NN2.compile(optimizer='sgd', loss='sparse_categorical_crossentropy', metrics=['accuracy'])\n",
        "model_NN2.summary()"
      ],
      "metadata": {
        "colab": {
          "base_uri": "https://localhost:8080/"
        },
        "id": "RDMhfyZUi-Gf",
        "outputId": "35bb8f19-f9ca-4cf2-e1a9-fe9ceca32b45"
      },
      "execution_count": 21,
      "outputs": [
        {
          "output_type": "stream",
          "name": "stdout",
          "text": [
            "Model: \"sequential_1\"\n",
            "_________________________________________________________________\n",
            " Layer (type)                Output Shape              Param #   \n",
            "=================================================================\n",
            " dense_5 (Dense)             (None, 512)               10240     \n",
            "                                                                 \n",
            " dense_6 (Dense)             (None, 128)               65664     \n",
            "                                                                 \n",
            " dense_7 (Dense)             (None, 64)                8256      \n",
            "                                                                 \n",
            " dense_8 (Dense)             (None, 8)                 520       \n",
            "                                                                 \n",
            "=================================================================\n",
            "Total params: 84,680\n",
            "Trainable params: 84,680\n",
            "Non-trainable params: 0\n",
            "_________________________________________________________________\n"
          ]
        }
      ]
    },
    {
      "cell_type": "code",
      "source": [
        "early_stopping = tf.keras.callbacks.EarlyStopping(\n",
        "    min_delta=0.001, # minimium amount of change to count as an improvement\n",
        "    patience=20, # how many epochs to wait before stopping\n",
        "    restore_best_weights=True,\n",
        ")\n",
        "\n",
        "history = model_NN2.fit(\n",
        "    x_bag_train, y_bag_train,\n",
        "    validation_data=(x_bag_test, y_bag_test),\n",
        "    batch_size=64,\n",
        "    epochs=100,\n",
        "    callbacks=[early_stopping], # put your callbacks in a list\n",
        ")"
      ],
      "metadata": {
        "colab": {
          "base_uri": "https://localhost:8080/"
        },
        "id": "vPHSR11VjDh_",
        "outputId": "d5ddcd8c-4422-4eb4-9d1d-b6cb4b80768a"
      },
      "execution_count": 22,
      "outputs": [
        {
          "output_type": "stream",
          "name": "stdout",
          "text": [
            "Epoch 1/100\n",
            "120/120 [==============================] - 1s 6ms/step - loss: 1.0467 - accuracy: 0.7774 - val_loss: 0.6407 - val_accuracy: 0.8453\n",
            "Epoch 2/100\n",
            "120/120 [==============================] - 1s 5ms/step - loss: 0.4912 - accuracy: 0.8822 - val_loss: 0.4035 - val_accuracy: 0.9052\n",
            "Epoch 3/100\n",
            "120/120 [==============================] - 1s 5ms/step - loss: 0.3370 - accuracy: 0.9102 - val_loss: 0.3127 - val_accuracy: 0.9146\n",
            "Epoch 4/100\n",
            "120/120 [==============================] - 1s 6ms/step - loss: 0.2799 - accuracy: 0.9117 - val_loss: 0.2812 - val_accuracy: 0.9167\n",
            "Epoch 5/100\n",
            "120/120 [==============================] - 1s 5ms/step - loss: 0.2571 - accuracy: 0.9140 - val_loss: 0.2675 - val_accuracy: 0.9182\n",
            "Epoch 6/100\n",
            "120/120 [==============================] - 1s 6ms/step - loss: 0.2455 - accuracy: 0.9143 - val_loss: 0.2598 - val_accuracy: 0.9172\n",
            "Epoch 7/100\n",
            "120/120 [==============================] - 1s 6ms/step - loss: 0.2387 - accuracy: 0.9160 - val_loss: 0.2540 - val_accuracy: 0.9161\n",
            "Epoch 8/100\n",
            "120/120 [==============================] - 1s 6ms/step - loss: 0.2338 - accuracy: 0.9191 - val_loss: 0.2507 - val_accuracy: 0.9161\n",
            "Epoch 9/100\n",
            "120/120 [==============================] - 1s 6ms/step - loss: 0.2308 - accuracy: 0.9187 - val_loss: 0.2502 - val_accuracy: 0.9167\n",
            "Epoch 10/100\n",
            "120/120 [==============================] - 1s 5ms/step - loss: 0.2279 - accuracy: 0.9187 - val_loss: 0.2471 - val_accuracy: 0.9161\n",
            "Epoch 11/100\n",
            "120/120 [==============================] - 1s 6ms/step - loss: 0.2252 - accuracy: 0.9203 - val_loss: 0.2460 - val_accuracy: 0.9161\n",
            "Epoch 12/100\n",
            "120/120 [==============================] - 1s 8ms/step - loss: 0.2232 - accuracy: 0.9213 - val_loss: 0.2447 - val_accuracy: 0.9161\n",
            "Epoch 13/100\n",
            "120/120 [==============================] - 1s 8ms/step - loss: 0.2213 - accuracy: 0.9220 - val_loss: 0.2440 - val_accuracy: 0.9167\n",
            "Epoch 14/100\n",
            "120/120 [==============================] - 1s 11ms/step - loss: 0.2200 - accuracy: 0.9211 - val_loss: 0.2421 - val_accuracy: 0.9172\n",
            "Epoch 15/100\n",
            "120/120 [==============================] - 2s 17ms/step - loss: 0.2185 - accuracy: 0.9214 - val_loss: 0.2413 - val_accuracy: 0.9182\n",
            "Epoch 16/100\n",
            "120/120 [==============================] - 2s 15ms/step - loss: 0.2171 - accuracy: 0.9217 - val_loss: 0.2405 - val_accuracy: 0.9182\n",
            "Epoch 17/100\n",
            "120/120 [==============================] - 1s 8ms/step - loss: 0.2158 - accuracy: 0.9240 - val_loss: 0.2394 - val_accuracy: 0.9177\n",
            "Epoch 18/100\n",
            "120/120 [==============================] - 1s 8ms/step - loss: 0.2147 - accuracy: 0.9229 - val_loss: 0.2397 - val_accuracy: 0.9177\n",
            "Epoch 19/100\n",
            "120/120 [==============================] - 1s 6ms/step - loss: 0.2136 - accuracy: 0.9237 - val_loss: 0.2407 - val_accuracy: 0.9146\n",
            "Epoch 20/100\n",
            "120/120 [==============================] - 1s 5ms/step - loss: 0.2130 - accuracy: 0.9237 - val_loss: 0.2383 - val_accuracy: 0.9167\n",
            "Epoch 21/100\n",
            "120/120 [==============================] - 1s 4ms/step - loss: 0.2119 - accuracy: 0.9242 - val_loss: 0.2364 - val_accuracy: 0.9208\n",
            "Epoch 22/100\n",
            "120/120 [==============================] - 1s 5ms/step - loss: 0.2113 - accuracy: 0.9234 - val_loss: 0.2359 - val_accuracy: 0.9193\n",
            "Epoch 23/100\n",
            "120/120 [==============================] - 1s 5ms/step - loss: 0.2103 - accuracy: 0.9237 - val_loss: 0.2360 - val_accuracy: 0.9177\n",
            "Epoch 24/100\n",
            "120/120 [==============================] - 1s 5ms/step - loss: 0.2098 - accuracy: 0.9238 - val_loss: 0.2360 - val_accuracy: 0.9187\n",
            "Epoch 25/100\n",
            "120/120 [==============================] - 1s 5ms/step - loss: 0.2091 - accuracy: 0.9263 - val_loss: 0.2342 - val_accuracy: 0.9182\n",
            "Epoch 26/100\n",
            "120/120 [==============================] - 1s 5ms/step - loss: 0.2083 - accuracy: 0.9260 - val_loss: 0.2340 - val_accuracy: 0.9187\n",
            "Epoch 27/100\n",
            "120/120 [==============================] - 1s 5ms/step - loss: 0.2077 - accuracy: 0.9267 - val_loss: 0.2338 - val_accuracy: 0.9182\n",
            "Epoch 28/100\n",
            "120/120 [==============================] - 1s 5ms/step - loss: 0.2074 - accuracy: 0.9248 - val_loss: 0.2326 - val_accuracy: 0.9172\n",
            "Epoch 29/100\n",
            "120/120 [==============================] - 1s 5ms/step - loss: 0.2063 - accuracy: 0.9239 - val_loss: 0.2323 - val_accuracy: 0.9182\n",
            "Epoch 30/100\n",
            "120/120 [==============================] - 1s 7ms/step - loss: 0.2058 - accuracy: 0.9257 - val_loss: 0.2322 - val_accuracy: 0.9214\n",
            "Epoch 31/100\n",
            "120/120 [==============================] - 1s 8ms/step - loss: 0.2057 - accuracy: 0.9260 - val_loss: 0.2324 - val_accuracy: 0.9224\n",
            "Epoch 32/100\n",
            "120/120 [==============================] - 1s 5ms/step - loss: 0.2049 - accuracy: 0.9256 - val_loss: 0.2328 - val_accuracy: 0.9203\n",
            "Epoch 33/100\n",
            "120/120 [==============================] - 1s 4ms/step - loss: 0.2042 - accuracy: 0.9261 - val_loss: 0.2339 - val_accuracy: 0.9214\n",
            "Epoch 34/100\n",
            "120/120 [==============================] - 1s 5ms/step - loss: 0.2039 - accuracy: 0.9265 - val_loss: 0.2321 - val_accuracy: 0.9198\n",
            "Epoch 35/100\n",
            "120/120 [==============================] - 1s 4ms/step - loss: 0.2034 - accuracy: 0.9264 - val_loss: 0.2299 - val_accuracy: 0.9167\n",
            "Epoch 36/100\n",
            "120/120 [==============================] - 1s 5ms/step - loss: 0.2030 - accuracy: 0.9259 - val_loss: 0.2295 - val_accuracy: 0.9193\n",
            "Epoch 37/100\n",
            "120/120 [==============================] - 1s 5ms/step - loss: 0.2023 - accuracy: 0.9257 - val_loss: 0.2297 - val_accuracy: 0.9203\n",
            "Epoch 38/100\n",
            "120/120 [==============================] - 1s 5ms/step - loss: 0.2022 - accuracy: 0.9267 - val_loss: 0.2281 - val_accuracy: 0.9172\n",
            "Epoch 39/100\n",
            "120/120 [==============================] - 1s 5ms/step - loss: 0.2012 - accuracy: 0.9265 - val_loss: 0.2322 - val_accuracy: 0.9208\n",
            "Epoch 40/100\n",
            "120/120 [==============================] - 1s 6ms/step - loss: 0.2014 - accuracy: 0.9257 - val_loss: 0.2296 - val_accuracy: 0.9224\n",
            "Epoch 41/100\n",
            "120/120 [==============================] - 1s 6ms/step - loss: 0.2005 - accuracy: 0.9280 - val_loss: 0.2275 - val_accuracy: 0.9208\n",
            "Epoch 42/100\n",
            "120/120 [==============================] - 1s 10ms/step - loss: 0.2011 - accuracy: 0.9264 - val_loss: 0.2271 - val_accuracy: 0.9214\n",
            "Epoch 43/100\n",
            "120/120 [==============================] - 1s 12ms/step - loss: 0.2009 - accuracy: 0.9277 - val_loss: 0.2263 - val_accuracy: 0.9198\n",
            "Epoch 44/100\n",
            "120/120 [==============================] - 1s 10ms/step - loss: 0.2004 - accuracy: 0.9281 - val_loss: 0.2278 - val_accuracy: 0.9224\n",
            "Epoch 45/100\n",
            "120/120 [==============================] - 2s 13ms/step - loss: 0.1997 - accuracy: 0.9274 - val_loss: 0.2280 - val_accuracy: 0.9198\n",
            "Epoch 46/100\n",
            "120/120 [==============================] - 1s 11ms/step - loss: 0.1997 - accuracy: 0.9276 - val_loss: 0.2279 - val_accuracy: 0.9203\n",
            "Epoch 47/100\n",
            "120/120 [==============================] - 2s 13ms/step - loss: 0.1989 - accuracy: 0.9274 - val_loss: 0.2291 - val_accuracy: 0.9229\n",
            "Epoch 48/100\n",
            "120/120 [==============================] - 1s 10ms/step - loss: 0.1992 - accuracy: 0.9294 - val_loss: 0.2261 - val_accuracy: 0.9214\n",
            "Epoch 49/100\n",
            "120/120 [==============================] - 1s 6ms/step - loss: 0.1984 - accuracy: 0.9273 - val_loss: 0.2260 - val_accuracy: 0.9177\n",
            "Epoch 50/100\n",
            "120/120 [==============================] - 1s 11ms/step - loss: 0.1983 - accuracy: 0.9283 - val_loss: 0.2249 - val_accuracy: 0.9219\n",
            "Epoch 51/100\n",
            "120/120 [==============================] - 1s 7ms/step - loss: 0.1977 - accuracy: 0.9285 - val_loss: 0.2244 - val_accuracy: 0.9193\n",
            "Epoch 52/100\n",
            "120/120 [==============================] - 1s 5ms/step - loss: 0.1976 - accuracy: 0.9278 - val_loss: 0.2246 - val_accuracy: 0.9198\n",
            "Epoch 53/100\n",
            "120/120 [==============================] - 1s 5ms/step - loss: 0.1972 - accuracy: 0.9290 - val_loss: 0.2249 - val_accuracy: 0.9203\n",
            "Epoch 54/100\n",
            "120/120 [==============================] - 1s 5ms/step - loss: 0.1970 - accuracy: 0.9269 - val_loss: 0.2258 - val_accuracy: 0.9234\n",
            "Epoch 55/100\n",
            "120/120 [==============================] - 1s 5ms/step - loss: 0.1967 - accuracy: 0.9274 - val_loss: 0.2229 - val_accuracy: 0.9214\n",
            "Epoch 56/100\n",
            "120/120 [==============================] - 1s 4ms/step - loss: 0.1961 - accuracy: 0.9285 - val_loss: 0.2254 - val_accuracy: 0.9219\n",
            "Epoch 57/100\n",
            "120/120 [==============================] - 1s 5ms/step - loss: 0.1961 - accuracy: 0.9285 - val_loss: 0.2250 - val_accuracy: 0.9219\n",
            "Epoch 58/100\n",
            "120/120 [==============================] - 1s 5ms/step - loss: 0.1959 - accuracy: 0.9276 - val_loss: 0.2247 - val_accuracy: 0.9224\n",
            "Epoch 59/100\n",
            "120/120 [==============================] - 1s 5ms/step - loss: 0.1959 - accuracy: 0.9286 - val_loss: 0.2257 - val_accuracy: 0.9214\n",
            "Epoch 60/100\n",
            "120/120 [==============================] - 1s 5ms/step - loss: 0.1955 - accuracy: 0.9283 - val_loss: 0.2224 - val_accuracy: 0.9208\n",
            "Epoch 61/100\n",
            "120/120 [==============================] - 1s 5ms/step - loss: 0.1945 - accuracy: 0.9287 - val_loss: 0.2235 - val_accuracy: 0.9182\n",
            "Epoch 62/100\n",
            "120/120 [==============================] - 1s 6ms/step - loss: 0.1945 - accuracy: 0.9285 - val_loss: 0.2241 - val_accuracy: 0.9177\n",
            "Epoch 63/100\n",
            "120/120 [==============================] - 1s 5ms/step - loss: 0.1947 - accuracy: 0.9293 - val_loss: 0.2216 - val_accuracy: 0.9198\n",
            "Epoch 64/100\n",
            "120/120 [==============================] - 1s 6ms/step - loss: 0.1943 - accuracy: 0.9282 - val_loss: 0.2242 - val_accuracy: 0.9203\n",
            "Epoch 65/100\n",
            "120/120 [==============================] - 1s 5ms/step - loss: 0.1947 - accuracy: 0.9282 - val_loss: 0.2217 - val_accuracy: 0.9214\n",
            "Epoch 66/100\n",
            "120/120 [==============================] - 1s 5ms/step - loss: 0.1934 - accuracy: 0.9293 - val_loss: 0.2215 - val_accuracy: 0.9198\n",
            "Epoch 67/100\n",
            "120/120 [==============================] - 1s 6ms/step - loss: 0.1936 - accuracy: 0.9300 - val_loss: 0.2208 - val_accuracy: 0.9193\n",
            "Epoch 68/100\n",
            "120/120 [==============================] - 1s 7ms/step - loss: 0.1933 - accuracy: 0.9286 - val_loss: 0.2232 - val_accuracy: 0.9172\n",
            "Epoch 69/100\n",
            "120/120 [==============================] - 1s 6ms/step - loss: 0.1935 - accuracy: 0.9282 - val_loss: 0.2209 - val_accuracy: 0.9193\n",
            "Epoch 70/100\n",
            "120/120 [==============================] - 1s 5ms/step - loss: 0.1931 - accuracy: 0.9278 - val_loss: 0.2213 - val_accuracy: 0.9198\n",
            "Epoch 71/100\n",
            "120/120 [==============================] - 1s 5ms/step - loss: 0.1932 - accuracy: 0.9280 - val_loss: 0.2208 - val_accuracy: 0.9187\n",
            "Epoch 72/100\n",
            "120/120 [==============================] - 1s 5ms/step - loss: 0.1927 - accuracy: 0.9287 - val_loss: 0.2199 - val_accuracy: 0.9208\n",
            "Epoch 73/100\n",
            "120/120 [==============================] - 1s 5ms/step - loss: 0.1926 - accuracy: 0.9287 - val_loss: 0.2239 - val_accuracy: 0.9214\n",
            "Epoch 74/100\n",
            "120/120 [==============================] - 1s 6ms/step - loss: 0.1921 - accuracy: 0.9285 - val_loss: 0.2204 - val_accuracy: 0.9182\n",
            "Epoch 75/100\n",
            "120/120 [==============================] - 1s 7ms/step - loss: 0.1917 - accuracy: 0.9287 - val_loss: 0.2227 - val_accuracy: 0.9146\n",
            "Epoch 76/100\n",
            "120/120 [==============================] - 1s 10ms/step - loss: 0.1928 - accuracy: 0.9273 - val_loss: 0.2193 - val_accuracy: 0.9203\n",
            "Epoch 77/100\n",
            "120/120 [==============================] - 2s 16ms/step - loss: 0.1913 - accuracy: 0.9289 - val_loss: 0.2196 - val_accuracy: 0.9193\n",
            "Epoch 78/100\n",
            "120/120 [==============================] - 1s 7ms/step - loss: 0.1916 - accuracy: 0.9293 - val_loss: 0.2221 - val_accuracy: 0.9198\n",
            "Epoch 79/100\n",
            "120/120 [==============================] - 1s 10ms/step - loss: 0.1910 - accuracy: 0.9290 - val_loss: 0.2200 - val_accuracy: 0.9203\n",
            "Epoch 80/100\n",
            "120/120 [==============================] - 1s 10ms/step - loss: 0.1914 - accuracy: 0.9298 - val_loss: 0.2201 - val_accuracy: 0.9187\n",
            "Epoch 81/100\n",
            "120/120 [==============================] - 1s 11ms/step - loss: 0.1910 - accuracy: 0.9302 - val_loss: 0.2185 - val_accuracy: 0.9208\n",
            "Epoch 82/100\n",
            "120/120 [==============================] - 1s 10ms/step - loss: 0.1910 - accuracy: 0.9286 - val_loss: 0.2193 - val_accuracy: 0.9182\n",
            "Epoch 83/100\n",
            "120/120 [==============================] - 1s 5ms/step - loss: 0.1907 - accuracy: 0.9294 - val_loss: 0.2209 - val_accuracy: 0.9193\n",
            "Epoch 84/100\n",
            "120/120 [==============================] - 1s 4ms/step - loss: 0.1903 - accuracy: 0.9297 - val_loss: 0.2207 - val_accuracy: 0.9177\n",
            "Epoch 85/100\n",
            "120/120 [==============================] - 1s 5ms/step - loss: 0.1906 - accuracy: 0.9303 - val_loss: 0.2184 - val_accuracy: 0.9208\n",
            "Epoch 86/100\n",
            "120/120 [==============================] - 1s 5ms/step - loss: 0.1895 - accuracy: 0.9291 - val_loss: 0.2193 - val_accuracy: 0.9172\n",
            "Epoch 87/100\n",
            "120/120 [==============================] - 1s 5ms/step - loss: 0.1899 - accuracy: 0.9297 - val_loss: 0.2175 - val_accuracy: 0.9208\n",
            "Epoch 88/100\n",
            "120/120 [==============================] - 1s 5ms/step - loss: 0.1893 - accuracy: 0.9299 - val_loss: 0.2189 - val_accuracy: 0.9208\n",
            "Epoch 89/100\n",
            "120/120 [==============================] - 1s 5ms/step - loss: 0.1898 - accuracy: 0.9306 - val_loss: 0.2191 - val_accuracy: 0.9167\n",
            "Epoch 90/100\n",
            "120/120 [==============================] - 1s 5ms/step - loss: 0.1896 - accuracy: 0.9289 - val_loss: 0.2182 - val_accuracy: 0.9203\n",
            "Epoch 91/100\n",
            "120/120 [==============================] - 1s 5ms/step - loss: 0.1893 - accuracy: 0.9304 - val_loss: 0.2177 - val_accuracy: 0.9198\n",
            "Epoch 92/100\n",
            "120/120 [==============================] - 1s 6ms/step - loss: 0.1889 - accuracy: 0.9287 - val_loss: 0.2183 - val_accuracy: 0.9203\n",
            "Epoch 93/100\n",
            "120/120 [==============================] - 1s 5ms/step - loss: 0.1893 - accuracy: 0.9294 - val_loss: 0.2169 - val_accuracy: 0.9208\n",
            "Epoch 94/100\n",
            "120/120 [==============================] - 1s 5ms/step - loss: 0.1891 - accuracy: 0.9295 - val_loss: 0.2211 - val_accuracy: 0.9193\n",
            "Epoch 95/100\n",
            "120/120 [==============================] - 1s 5ms/step - loss: 0.1887 - accuracy: 0.9293 - val_loss: 0.2196 - val_accuracy: 0.9203\n",
            "Epoch 96/100\n",
            "120/120 [==============================] - 1s 4ms/step - loss: 0.1885 - accuracy: 0.9294 - val_loss: 0.2188 - val_accuracy: 0.9203\n",
            "Epoch 97/100\n",
            "120/120 [==============================] - 1s 5ms/step - loss: 0.1881 - accuracy: 0.9297 - val_loss: 0.2191 - val_accuracy: 0.9203\n",
            "Epoch 98/100\n",
            "120/120 [==============================] - 1s 5ms/step - loss: 0.1888 - accuracy: 0.9293 - val_loss: 0.2164 - val_accuracy: 0.9208\n",
            "Epoch 99/100\n",
            "120/120 [==============================] - 1s 5ms/step - loss: 0.1883 - accuracy: 0.9297 - val_loss: 0.2177 - val_accuracy: 0.9203\n",
            "Epoch 100/100\n",
            "120/120 [==============================] - 1s 5ms/step - loss: 0.1878 - accuracy: 0.9291 - val_loss: 0.2193 - val_accuracy: 0.9193\n"
          ]
        }
      ]
    },
    {
      "cell_type": "code",
      "source": [
        "model_NN2.save(\"bean_model_bagging1.h5\")\n",
        "# Loss\n",
        "fig, ax = plt.subplots(figsize=(8,4))\n",
        "plt.title('loss')\n",
        "plt.plot(history.history['loss'], label='loss')\n",
        "plt.plot(history.history['val_loss'], label='val_loss', linestyle='--')\n",
        "plt.legend()\n",
        "plt.show()\n",
        "\n",
        "# Accuracy\n",
        "fig, ax = plt.subplots(figsize=(8,4))\n",
        "plt.title('accuracy')\n",
        "plt.plot(history.history['accuracy'], label='accuracy')\n",
        "plt.plot(history.history['val_accuracy'], label='val_accuracy', linestyle='--')\n",
        "plt.legend()\n",
        "plt.show()"
      ],
      "metadata": {
        "colab": {
          "base_uri": "https://localhost:8080/",
          "height": 545
        },
        "id": "jhi7a-X4jYlv",
        "outputId": "a19cf6bd-05b8-470a-d7c9-addbf16d9dae"
      },
      "execution_count": 23,
      "outputs": [
        {
          "output_type": "display_data",
          "data": {
            "text/plain": [
              "<Figure size 576x288 with 1 Axes>"
            ],
            "image/png": "[encoded data removed]"
          },
          "metadata": {
            "needs_background": "light"
          }
        },
        {
          "output_type": "display_data",
          "data": {
            "text/plain": [
              "<Figure size 576x288 with 1 Axes>"
            ],
            "image/png": "[encoded data removed]"
          },
          "metadata": {
            "needs_background": "light"
          }
        }
      ]
    },
    {
      "cell_type": "markdown",
      "source": [
        "### fit NN2(深的)"
      ],
      "metadata": {
        "id": "lDVg9gD8Cmky"
      }
    },
    {
      "cell_type": "code",
      "source": [
        "# del model\n",
        "model_NN3 = tf.keras.models.Sequential([\n",
        "  tf.keras.layers.Dense(units=128, input_shape=(x_bag_train.shape[1],), activation='elu'),\n",
        "  tf.keras.layers.Dense(units=64, activation='relu'),\n",
        "  tf.keras.layers.Dense(units=64, activation='relu'),\n",
        "  tf.keras.layers.Dense(units=32, activation='relu'),\n",
        "  tf.keras.layers.Dense(units=32, activation='relu'),\n",
        "  tf.keras.layers.Dense(units=8, activation='softmax')\n",
        "])\n",
        "\n",
        "model_NN3.compile(optimizer='sgd', loss='sparse_categorical_crossentropy', metrics=['accuracy'])\n",
        "model_NN3.summary()"
      ],
      "metadata": {
        "colab": {
          "base_uri": "https://localhost:8080/"
        },
        "id": "t4gDkiuSCmyB",
        "outputId": "7c38f801-8a3a-45c3-e288-51f916919bb4"
      },
      "execution_count": 24,
      "outputs": [
        {
          "output_type": "stream",
          "name": "stdout",
          "text": [
            "Model: \"sequential_2\"\n",
            "_________________________________________________________________\n",
            " Layer (type)                Output Shape              Param #   \n",
            "=================================================================\n",
            " dense_9 (Dense)             (None, 128)               2560      \n",
            "                                                                 \n",
            " dense_10 (Dense)            (None, 64)                8256      \n",
            "                                                                 \n",
            " dense_11 (Dense)            (None, 64)                4160      \n",
            "                                                                 \n",
            " dense_12 (Dense)            (None, 32)                2080      \n",
            "                                                                 \n",
            " dense_13 (Dense)            (None, 32)                1056      \n",
            "                                                                 \n",
            " dense_14 (Dense)            (None, 8)                 264       \n",
            "                                                                 \n",
            "=================================================================\n",
            "Total params: 18,376\n",
            "Trainable params: 18,376\n",
            "Non-trainable params: 0\n",
            "_________________________________________________________________\n"
          ]
        }
      ]
    },
    {
      "cell_type": "code",
      "source": [
        "early_stopping = tf.keras.callbacks.EarlyStopping(\n",
        "    min_delta=0.001, # minimium amount of change to count as an improvement\n",
        "    patience=20, # how many epochs to wait before stopping\n",
        "    restore_best_weights=True,\n",
        ")\n",
        "\n",
        "history = model_NN3.fit(\n",
        "    x_bag_train, y_bag_train,\n",
        "    validation_data=(x_bag_test, y_bag_test),\n",
        "    batch_size=64,\n",
        "    epochs=100,\n",
        "    callbacks=[early_stopping], # put your callbacks in a list\n",
        ")"
      ],
      "metadata": {
        "colab": {
          "base_uri": "https://localhost:8080/"
        },
        "id": "Cee0F0IIDHsJ",
        "outputId": "766b4821-b312-4e79-81ed-c29857100cc5"
      },
      "execution_count": 25,
      "outputs": [
        {
          "output_type": "stream",
          "name": "stdout",
          "text": [
            "Epoch 1/100\n",
            "120/120 [==============================] - 1s 4ms/step - loss: 1.4847 - accuracy: 0.5803 - val_loss: 0.9987 - val_accuracy: 0.7375\n",
            "Epoch 2/100\n",
            "120/120 [==============================] - 0s 3ms/step - loss: 0.6691 - accuracy: 0.8283 - val_loss: 0.4960 - val_accuracy: 0.8875\n",
            "Epoch 3/100\n",
            "120/120 [==============================] - 0s 3ms/step - loss: 0.3988 - accuracy: 0.8992 - val_loss: 0.3665 - val_accuracy: 0.9026\n",
            "Epoch 4/100\n",
            "120/120 [==============================] - 0s 3ms/step - loss: 0.3108 - accuracy: 0.9106 - val_loss: 0.3101 - val_accuracy: 0.9125\n",
            "Epoch 5/100\n",
            "120/120 [==============================] - 0s 3ms/step - loss: 0.2725 - accuracy: 0.9143 - val_loss: 0.2822 - val_accuracy: 0.9135\n",
            "Epoch 6/100\n",
            "120/120 [==============================] - 0s 3ms/step - loss: 0.2519 - accuracy: 0.9155 - val_loss: 0.2674 - val_accuracy: 0.9146\n",
            "Epoch 7/100\n",
            "120/120 [==============================] - 0s 3ms/step - loss: 0.2405 - accuracy: 0.9188 - val_loss: 0.2587 - val_accuracy: 0.9130\n",
            "Epoch 8/100\n",
            "120/120 [==============================] - 0s 3ms/step - loss: 0.2344 - accuracy: 0.9179 - val_loss: 0.2508 - val_accuracy: 0.9177\n",
            "Epoch 9/100\n",
            "120/120 [==============================] - 0s 3ms/step - loss: 0.2289 - accuracy: 0.9201 - val_loss: 0.2494 - val_accuracy: 0.9151\n",
            "Epoch 10/100\n",
            "120/120 [==============================] - 0s 3ms/step - loss: 0.2265 - accuracy: 0.9211 - val_loss: 0.2444 - val_accuracy: 0.9198\n",
            "Epoch 11/100\n",
            "120/120 [==============================] - 0s 3ms/step - loss: 0.2239 - accuracy: 0.9213 - val_loss: 0.2420 - val_accuracy: 0.9182\n",
            "Epoch 12/100\n",
            "120/120 [==============================] - 0s 3ms/step - loss: 0.2216 - accuracy: 0.9203 - val_loss: 0.2504 - val_accuracy: 0.9109\n",
            "Epoch 13/100\n",
            "120/120 [==============================] - 0s 3ms/step - loss: 0.2209 - accuracy: 0.9218 - val_loss: 0.2393 - val_accuracy: 0.9182\n",
            "Epoch 14/100\n",
            "120/120 [==============================] - 0s 3ms/step - loss: 0.2187 - accuracy: 0.9216 - val_loss: 0.2372 - val_accuracy: 0.9193\n",
            "Epoch 15/100\n",
            "120/120 [==============================] - 0s 3ms/step - loss: 0.2166 - accuracy: 0.9234 - val_loss: 0.2396 - val_accuracy: 0.9167\n",
            "Epoch 16/100\n",
            "120/120 [==============================] - 0s 3ms/step - loss: 0.2163 - accuracy: 0.9229 - val_loss: 0.2359 - val_accuracy: 0.9198\n",
            "Epoch 17/100\n",
            "120/120 [==============================] - 0s 3ms/step - loss: 0.2146 - accuracy: 0.9244 - val_loss: 0.2371 - val_accuracy: 0.9156\n",
            "Epoch 18/100\n",
            "120/120 [==============================] - 0s 3ms/step - loss: 0.2139 - accuracy: 0.9239 - val_loss: 0.2365 - val_accuracy: 0.9161\n",
            "Epoch 19/100\n",
            "120/120 [==============================] - 0s 3ms/step - loss: 0.2137 - accuracy: 0.9231 - val_loss: 0.2348 - val_accuracy: 0.9193\n",
            "Epoch 20/100\n",
            "120/120 [==============================] - 0s 3ms/step - loss: 0.2120 - accuracy: 0.9234 - val_loss: 0.2336 - val_accuracy: 0.9182\n",
            "Epoch 21/100\n",
            "120/120 [==============================] - 0s 3ms/step - loss: 0.2113 - accuracy: 0.9248 - val_loss: 0.2320 - val_accuracy: 0.9177\n",
            "Epoch 22/100\n",
            "120/120 [==============================] - 0s 3ms/step - loss: 0.2104 - accuracy: 0.9250 - val_loss: 0.2389 - val_accuracy: 0.9135\n",
            "Epoch 23/100\n",
            "120/120 [==============================] - 0s 3ms/step - loss: 0.2114 - accuracy: 0.9237 - val_loss: 0.2328 - val_accuracy: 0.9187\n",
            "Epoch 24/100\n",
            "120/120 [==============================] - 0s 3ms/step - loss: 0.2096 - accuracy: 0.9252 - val_loss: 0.2306 - val_accuracy: 0.9203\n",
            "Epoch 25/100\n",
            "120/120 [==============================] - 0s 3ms/step - loss: 0.2091 - accuracy: 0.9251 - val_loss: 0.2321 - val_accuracy: 0.9161\n",
            "Epoch 26/100\n",
            "120/120 [==============================] - 0s 3ms/step - loss: 0.2084 - accuracy: 0.9254 - val_loss: 0.2307 - val_accuracy: 0.9172\n",
            "Epoch 27/100\n",
            "120/120 [==============================] - 0s 3ms/step - loss: 0.2078 - accuracy: 0.9243 - val_loss: 0.2323 - val_accuracy: 0.9172\n",
            "Epoch 28/100\n",
            "120/120 [==============================] - 0s 3ms/step - loss: 0.2075 - accuracy: 0.9259 - val_loss: 0.2302 - val_accuracy: 0.9187\n",
            "Epoch 29/100\n",
            "120/120 [==============================] - 0s 3ms/step - loss: 0.2066 - accuracy: 0.9270 - val_loss: 0.2276 - val_accuracy: 0.9214\n",
            "Epoch 30/100\n",
            "120/120 [==============================] - 0s 3ms/step - loss: 0.2060 - accuracy: 0.9278 - val_loss: 0.2330 - val_accuracy: 0.9187\n",
            "Epoch 31/100\n",
            "120/120 [==============================] - 0s 3ms/step - loss: 0.2062 - accuracy: 0.9261 - val_loss: 0.2274 - val_accuracy: 0.9172\n",
            "Epoch 32/100\n",
            "120/120 [==============================] - 0s 3ms/step - loss: 0.2051 - accuracy: 0.9263 - val_loss: 0.2263 - val_accuracy: 0.9203\n",
            "Epoch 33/100\n",
            "120/120 [==============================] - 0s 3ms/step - loss: 0.2055 - accuracy: 0.9257 - val_loss: 0.2269 - val_accuracy: 0.9182\n",
            "Epoch 34/100\n",
            "120/120 [==============================] - 0s 3ms/step - loss: 0.2052 - accuracy: 0.9251 - val_loss: 0.2297 - val_accuracy: 0.9219\n",
            "Epoch 35/100\n",
            "120/120 [==============================] - 0s 3ms/step - loss: 0.2043 - accuracy: 0.9268 - val_loss: 0.2254 - val_accuracy: 0.9214\n",
            "Epoch 36/100\n",
            "120/120 [==============================] - 0s 3ms/step - loss: 0.2035 - accuracy: 0.9268 - val_loss: 0.2271 - val_accuracy: 0.9187\n",
            "Epoch 37/100\n",
            "120/120 [==============================] - 0s 3ms/step - loss: 0.2034 - accuracy: 0.9269 - val_loss: 0.2286 - val_accuracy: 0.9172\n",
            "Epoch 38/100\n",
            "120/120 [==============================] - 0s 3ms/step - loss: 0.2035 - accuracy: 0.9281 - val_loss: 0.2240 - val_accuracy: 0.9203\n",
            "Epoch 39/100\n",
            "120/120 [==============================] - 0s 3ms/step - loss: 0.2029 - accuracy: 0.9261 - val_loss: 0.2276 - val_accuracy: 0.9219\n",
            "Epoch 40/100\n",
            "120/120 [==============================] - 0s 3ms/step - loss: 0.2026 - accuracy: 0.9265 - val_loss: 0.2282 - val_accuracy: 0.9177\n",
            "Epoch 41/100\n",
            "120/120 [==============================] - 0s 3ms/step - loss: 0.2025 - accuracy: 0.9265 - val_loss: 0.2258 - val_accuracy: 0.9193\n",
            "Epoch 42/100\n",
            "120/120 [==============================] - 0s 3ms/step - loss: 0.2016 - accuracy: 0.9276 - val_loss: 0.2252 - val_accuracy: 0.9198\n",
            "Epoch 43/100\n",
            "120/120 [==============================] - 0s 3ms/step - loss: 0.2007 - accuracy: 0.9278 - val_loss: 0.2312 - val_accuracy: 0.9156\n",
            "Epoch 44/100\n",
            "120/120 [==============================] - 0s 3ms/step - loss: 0.2011 - accuracy: 0.9272 - val_loss: 0.2246 - val_accuracy: 0.9198\n",
            "Epoch 45/100\n",
            "120/120 [==============================] - 0s 3ms/step - loss: 0.2009 - accuracy: 0.9283 - val_loss: 0.2233 - val_accuracy: 0.9203\n",
            "Epoch 46/100\n",
            "120/120 [==============================] - 0s 4ms/step - loss: 0.2000 - accuracy: 0.9272 - val_loss: 0.2297 - val_accuracy: 0.9156\n",
            "Epoch 47/100\n",
            "120/120 [==============================] - 0s 3ms/step - loss: 0.1999 - accuracy: 0.9283 - val_loss: 0.2238 - val_accuracy: 0.9198\n",
            "Epoch 48/100\n",
            "120/120 [==============================] - 0s 4ms/step - loss: 0.1996 - accuracy: 0.9276 - val_loss: 0.2242 - val_accuracy: 0.9193\n",
            "Epoch 49/100\n",
            "120/120 [==============================] - 0s 3ms/step - loss: 0.1998 - accuracy: 0.9281 - val_loss: 0.2219 - val_accuracy: 0.9203\n",
            "Epoch 50/100\n",
            "120/120 [==============================] - 0s 3ms/step - loss: 0.1993 - accuracy: 0.9272 - val_loss: 0.2213 - val_accuracy: 0.9208\n",
            "Epoch 51/100\n",
            "120/120 [==============================] - 0s 3ms/step - loss: 0.1981 - accuracy: 0.9281 - val_loss: 0.2228 - val_accuracy: 0.9187\n",
            "Epoch 52/100\n",
            "120/120 [==============================] - 0s 3ms/step - loss: 0.1987 - accuracy: 0.9280 - val_loss: 0.2218 - val_accuracy: 0.9187\n",
            "Epoch 53/100\n",
            "120/120 [==============================] - 0s 4ms/step - loss: 0.1982 - accuracy: 0.9280 - val_loss: 0.2235 - val_accuracy: 0.9208\n",
            "Epoch 54/100\n",
            "120/120 [==============================] - 0s 3ms/step - loss: 0.1971 - accuracy: 0.9281 - val_loss: 0.2244 - val_accuracy: 0.9203\n",
            "Epoch 55/100\n",
            "120/120 [==============================] - 0s 3ms/step - loss: 0.1977 - accuracy: 0.9277 - val_loss: 0.2227 - val_accuracy: 0.9182\n",
            "Epoch 56/100\n",
            "120/120 [==============================] - 0s 3ms/step - loss: 0.1972 - accuracy: 0.9289 - val_loss: 0.2213 - val_accuracy: 0.9214\n",
            "Epoch 57/100\n",
            "120/120 [==============================] - 0s 3ms/step - loss: 0.1975 - accuracy: 0.9265 - val_loss: 0.2230 - val_accuracy: 0.9193\n",
            "Epoch 58/100\n",
            "120/120 [==============================] - 0s 3ms/step - loss: 0.1968 - accuracy: 0.9289 - val_loss: 0.2244 - val_accuracy: 0.9214\n",
            "Epoch 59/100\n",
            "120/120 [==============================] - 0s 3ms/step - loss: 0.1962 - accuracy: 0.9303 - val_loss: 0.2204 - val_accuracy: 0.9219\n",
            "Epoch 60/100\n",
            "120/120 [==============================] - 0s 3ms/step - loss: 0.1968 - accuracy: 0.9269 - val_loss: 0.2216 - val_accuracy: 0.9198\n",
            "Epoch 61/100\n",
            "120/120 [==============================] - 0s 3ms/step - loss: 0.1945 - accuracy: 0.9273 - val_loss: 0.2263 - val_accuracy: 0.9161\n",
            "Epoch 62/100\n",
            "120/120 [==============================] - 0s 3ms/step - loss: 0.1964 - accuracy: 0.9281 - val_loss: 0.2227 - val_accuracy: 0.9177\n",
            "Epoch 63/100\n",
            "120/120 [==============================] - 0s 3ms/step - loss: 0.1954 - accuracy: 0.9287 - val_loss: 0.2222 - val_accuracy: 0.9193\n",
            "Epoch 64/100\n",
            "120/120 [==============================] - 0s 3ms/step - loss: 0.1955 - accuracy: 0.9287 - val_loss: 0.2196 - val_accuracy: 0.9203\n",
            "Epoch 65/100\n",
            "120/120 [==============================] - 0s 3ms/step - loss: 0.1946 - accuracy: 0.9303 - val_loss: 0.2234 - val_accuracy: 0.9177\n",
            "Epoch 66/100\n",
            "120/120 [==============================] - 0s 3ms/step - loss: 0.1942 - accuracy: 0.9291 - val_loss: 0.2208 - val_accuracy: 0.9193\n",
            "Epoch 67/100\n",
            "120/120 [==============================] - 0s 3ms/step - loss: 0.1943 - accuracy: 0.9293 - val_loss: 0.2213 - val_accuracy: 0.9203\n",
            "Epoch 68/100\n",
            "120/120 [==============================] - 0s 3ms/step - loss: 0.1944 - accuracy: 0.9290 - val_loss: 0.2200 - val_accuracy: 0.9182\n",
            "Epoch 69/100\n",
            "120/120 [==============================] - 0s 3ms/step - loss: 0.1927 - accuracy: 0.9302 - val_loss: 0.2256 - val_accuracy: 0.9161\n",
            "Epoch 70/100\n",
            "120/120 [==============================] - 0s 3ms/step - loss: 0.1935 - accuracy: 0.9287 - val_loss: 0.2202 - val_accuracy: 0.9198\n",
            "Epoch 71/100\n",
            "120/120 [==============================] - 0s 3ms/step - loss: 0.1931 - accuracy: 0.9298 - val_loss: 0.2208 - val_accuracy: 0.9198\n",
            "Epoch 72/100\n",
            "120/120 [==============================] - 0s 3ms/step - loss: 0.1932 - accuracy: 0.9295 - val_loss: 0.2190 - val_accuracy: 0.9187\n",
            "Epoch 73/100\n",
            "120/120 [==============================] - 0s 3ms/step - loss: 0.1929 - accuracy: 0.9297 - val_loss: 0.2213 - val_accuracy: 0.9208\n",
            "Epoch 74/100\n",
            "120/120 [==============================] - 0s 3ms/step - loss: 0.1927 - accuracy: 0.9302 - val_loss: 0.2213 - val_accuracy: 0.9182\n",
            "Epoch 75/100\n",
            "120/120 [==============================] - 0s 3ms/step - loss: 0.1928 - accuracy: 0.9308 - val_loss: 0.2202 - val_accuracy: 0.9177\n",
            "Epoch 76/100\n",
            "120/120 [==============================] - 0s 3ms/step - loss: 0.1923 - accuracy: 0.9285 - val_loss: 0.2199 - val_accuracy: 0.9208\n",
            "Epoch 77/100\n",
            "120/120 [==============================] - 0s 3ms/step - loss: 0.1932 - accuracy: 0.9298 - val_loss: 0.2203 - val_accuracy: 0.9214\n",
            "Epoch 78/100\n",
            "120/120 [==============================] - 0s 3ms/step - loss: 0.1918 - accuracy: 0.9310 - val_loss: 0.2186 - val_accuracy: 0.9219\n",
            "Epoch 79/100\n",
            "120/120 [==============================] - 0s 3ms/step - loss: 0.1916 - accuracy: 0.9293 - val_loss: 0.2224 - val_accuracy: 0.9193\n",
            "Epoch 80/100\n",
            "120/120 [==============================] - 0s 3ms/step - loss: 0.1916 - accuracy: 0.9298 - val_loss: 0.2199 - val_accuracy: 0.9219\n",
            "Epoch 81/100\n",
            "120/120 [==============================] - 0s 3ms/step - loss: 0.1909 - accuracy: 0.9307 - val_loss: 0.2184 - val_accuracy: 0.9198\n",
            "Epoch 82/100\n",
            "120/120 [==============================] - 0s 3ms/step - loss: 0.1911 - accuracy: 0.9291 - val_loss: 0.2202 - val_accuracy: 0.9187\n",
            "Epoch 83/100\n",
            "120/120 [==============================] - 0s 3ms/step - loss: 0.1909 - accuracy: 0.9295 - val_loss: 0.2178 - val_accuracy: 0.9187\n",
            "Epoch 84/100\n",
            "120/120 [==============================] - 0s 3ms/step - loss: 0.1911 - accuracy: 0.9302 - val_loss: 0.2170 - val_accuracy: 0.9214\n",
            "Epoch 85/100\n",
            "120/120 [==============================] - 0s 3ms/step - loss: 0.1907 - accuracy: 0.9295 - val_loss: 0.2174 - val_accuracy: 0.9208\n",
            "Epoch 86/100\n",
            "120/120 [==============================] - 0s 3ms/step - loss: 0.1900 - accuracy: 0.9304 - val_loss: 0.2199 - val_accuracy: 0.9182\n",
            "Epoch 87/100\n",
            "120/120 [==============================] - 0s 3ms/step - loss: 0.1900 - accuracy: 0.9313 - val_loss: 0.2180 - val_accuracy: 0.9193\n",
            "Epoch 88/100\n",
            "120/120 [==============================] - 0s 3ms/step - loss: 0.1902 - accuracy: 0.9303 - val_loss: 0.2167 - val_accuracy: 0.9203\n",
            "Epoch 89/100\n",
            "120/120 [==============================] - 0s 3ms/step - loss: 0.1901 - accuracy: 0.9290 - val_loss: 0.2196 - val_accuracy: 0.9198\n",
            "Epoch 90/100\n",
            "120/120 [==============================] - 0s 3ms/step - loss: 0.1893 - accuracy: 0.9303 - val_loss: 0.2195 - val_accuracy: 0.9214\n",
            "Epoch 91/100\n",
            "120/120 [==============================] - 0s 3ms/step - loss: 0.1891 - accuracy: 0.9315 - val_loss: 0.2197 - val_accuracy: 0.9214\n",
            "Epoch 92/100\n",
            "120/120 [==============================] - 0s 3ms/step - loss: 0.1891 - accuracy: 0.9293 - val_loss: 0.2173 - val_accuracy: 0.9203\n",
            "Epoch 93/100\n",
            "120/120 [==============================] - 0s 3ms/step - loss: 0.1891 - accuracy: 0.9297 - val_loss: 0.2236 - val_accuracy: 0.9214\n",
            "Epoch 94/100\n",
            "120/120 [==============================] - 0s 3ms/step - loss: 0.1896 - accuracy: 0.9291 - val_loss: 0.2167 - val_accuracy: 0.9224\n",
            "Epoch 95/100\n",
            "120/120 [==============================] - 0s 3ms/step - loss: 0.1887 - accuracy: 0.9295 - val_loss: 0.2156 - val_accuracy: 0.9214\n",
            "Epoch 96/100\n",
            "120/120 [==============================] - 0s 3ms/step - loss: 0.1881 - accuracy: 0.9283 - val_loss: 0.2193 - val_accuracy: 0.9214\n",
            "Epoch 97/100\n",
            "120/120 [==============================] - 0s 3ms/step - loss: 0.1891 - accuracy: 0.9289 - val_loss: 0.2192 - val_accuracy: 0.9198\n",
            "Epoch 98/100\n",
            "120/120 [==============================] - 0s 3ms/step - loss: 0.1881 - accuracy: 0.9303 - val_loss: 0.2170 - val_accuracy: 0.9224\n",
            "Epoch 99/100\n",
            "120/120 [==============================] - 0s 3ms/step - loss: 0.1878 - accuracy: 0.9295 - val_loss: 0.2211 - val_accuracy: 0.9214\n",
            "Epoch 100/100\n",
            "120/120 [==============================] - 0s 3ms/step - loss: 0.1880 - accuracy: 0.9313 - val_loss: 0.2160 - val_accuracy: 0.9203\n"
          ]
        }
      ]
    },
    {
      "cell_type": "code",
      "source": [
        "model_NN3.save(\"bean_model_bagging2.h5\")\n",
        "# Loss\n",
        "fig, ax = plt.subplots(figsize=(8,4))\n",
        "plt.title('loss')\n",
        "plt.plot(history.history['loss'], label='loss')\n",
        "plt.plot(history.history['val_loss'], label='val_loss', linestyle='--')\n",
        "plt.legend()\n",
        "plt.show()\n",
        "\n",
        "# Accuracy\n",
        "fig, ax = plt.subplots(figsize=(8,4))\n",
        "plt.title('accuracy')\n",
        "plt.plot(history.history['accuracy'], label='accuracy')\n",
        "plt.plot(history.history['val_accuracy'], label='val_accuracy', linestyle='--')\n",
        "plt.legend()\n",
        "plt.show()"
      ],
      "metadata": {
        "colab": {
          "base_uri": "https://localhost:8080/",
          "height": 545
        },
        "id": "KnA5sM4wDR8n",
        "outputId": "93b72863-45b2-49b9-cc07-51aa539f998e"
      },
      "execution_count": 26,
      "outputs": [
        {
          "output_type": "display_data",
          "data": {
            "text/plain": [
              "<Figure size 576x288 with 1 Axes>"
            ],
            "image/png": "[encoded data removed]"
          },
          "metadata": {
            "needs_background": "light"
          }
        },
        {
          "output_type": "display_data",
          "data": {
            "text/plain": [
              "<Figure size 576x288 with 1 Axes>"
            ],
            "image/png": "[encoded data removed]"
          },
          "metadata": {
            "needs_background": "light"
          }
        }
      ]
    },
    {
      "cell_type": "markdown",
      "source": [
        "# 生成答案"
      ],
      "metadata": {
        "id": "yac5IC0Nw8wk"
      }
    },
    {
      "cell_type": "code",
      "source": [
        "test_bag = test\n",
        "\n",
        "scaler = StandardScaler()\n",
        "test_bag_norm = scaler.fit_transform(test_bag)\n",
        "\n",
        "test_predict_bag = model_NN1.predict(test_bag_norm)\n",
        "test_predict_bag = np.argmax(test_predict_bag, axis=1)\n",
        "\n",
        "test_SVM1 = model_SVM1.predict(test_bag)\n",
        "test_SVM2 = model_SVM2.predict(test_bag)\n",
        "\n",
        "test_bag.insert(test_bag.shape[1], 'bagging_SVM1', test_SVM1)\n",
        "test_bag.insert(test_bag.shape[1], 'bagging_SVM2', test_SVM2)\n",
        "test_bag.insert(test_bag.shape[1], 'bagging_NN', test_predict_bag)"
      ],
      "metadata": {
        "colab": {
          "base_uri": "https://localhost:8080/"
        },
        "id": "jHMzVjNVxAma",
        "outputId": "8281f3ed-ebb7-4150-e27d-58f1fce4687b"
      },
      "execution_count": 27,
      "outputs": [
        {
          "output_type": "stream",
          "name": "stdout",
          "text": [
            "86/86 [==============================] - 0s 1ms/step\n"
          ]
        }
      ]
    },
    {
      "cell_type": "code",
      "source": [
        "scaler = StandardScaler()\n",
        "test_bag = scaler.fit_transform(test_bag)\n",
        "\n",
        "test_predict = model_NN3.predict(test_bag)\n",
        "test_predict = np.argmax(test_predict, axis=1)\n",
        "predict = []\n",
        "for i in range(len(test_predict)):\n",
        "  if(test_predict[i]==1): predict.append('DERMASON')\n",
        "  elif(test_predict[i]==2): predict.append('SIRA') \n",
        "  elif(test_predict[i]==3): predict.append('SEKER') \n",
        "  elif(test_predict[i]==4): predict.append('HOROZ') \n",
        "  elif(test_predict[i]==5): predict.append('CALI') \n",
        "  elif(test_predict[i]==6): predict.append('BARBUNYA') \n",
        "  else: predict.append('BOMBAY') "
      ],
      "metadata": {
        "colab": {
          "base_uri": "https://localhost:8080/"
        },
        "id": "PGvMsiiBxyvf",
        "outputId": "9c57bf53-d4cd-48a3-91f3-de74a27fc2a8"
      },
      "execution_count": 28,
      "outputs": [
        {
          "output_type": "stream",
          "name": "stdout",
          "text": [
            "86/86 [==============================] - 1s 5ms/step\n"
          ]
        }
      ]
    },
    {
      "cell_type": "code",
      "source": [
        "test_label = pd.DataFrame()\n",
        "test_label[\"data_id\"] = np.arange(1, len(predict)+1)\n",
        "test_label[\"Class\"] = predict\n",
        "test_label = test_label.sort_values(by='data_id')\n",
        "test_label.to_csv('NN_HW4_3.csv', index=False)"
      ],
      "metadata": {
        "id": "bBv_tX2RyBn4"
      },
      "execution_count": 29,
      "outputs": []
    }
  ]
}