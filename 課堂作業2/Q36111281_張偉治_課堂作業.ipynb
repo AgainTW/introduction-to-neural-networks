{
  "nbformat": 4,
  "nbformat_minor": 0,
  "metadata": {
    "colab": {
      "provenance": []
    },
    "kernelspec": {
      "name": "python3",
      "display_name": "Python 3"
    },
    "language_info": {
      "name": "python"
    },
    "gpuClass": "standard",
    "accelerator": "GPU"
  },
  "cells": [
    {
      "cell_type": "markdown",
      "source": [
        "# Import packages"
      ],
      "metadata": {
        "id": "v76ZMEqqabny"
      }
    },
    {
      "cell_type": "code",
      "source": [
        "import numpy as np\n",
        "import tensorflow as tf\n",
        "import matplotlib.pyplot as plt\n",
        "import pandas as pd\n",
        "import seaborn as sns\n",
        "\n",
        "from sklearn.model_selection import train_test_split\n",
        "from sklearn.metrics import confusion_matrix\n",
        "\n",
        "from tensorflow.keras.models import Sequential\n",
        "from tensorflow.keras.layers import Convolution2D, MaxPooling2D, Flatten, Dense, Dropout\n",
        "\n",
        "%matplotlib inline"
      ],
      "metadata": {
        "id": "VCP6_lShthdR"
      },
      "execution_count": 1,
      "outputs": []
    },
    {
      "cell_type": "markdown",
      "source": [
        "Sets all random seeds for the program"
      ],
      "metadata": {
        "id": "VHOkjDuYae4o"
      }
    },
    {
      "cell_type": "code",
      "source": [
        "tf.keras.utils.set_random_seed(12345)"
      ],
      "metadata": {
        "id": "YVLQ5u7ywp7m"
      },
      "execution_count": 2,
      "outputs": []
    },
    {
      "cell_type": "markdown",
      "source": [
        "# Load dataset\n",
        "\n",
        "[mnist](http://yann.lecun.com/exdb/mnist/)"
      ],
      "metadata": {
        "id": "WzaP--OKakOx"
      }
    },
    {
      "cell_type": "code",
      "source": [
        "(x_train, y_train), (x_test, y_test) = tf.keras.datasets.mnist.load_data()\n",
        "\n",
        "x_train = x_train.reshape(-1, 28, 28, 1)\n",
        "y_train = tf.keras.utils.to_categorical(y_train, 10)\n",
        "\n",
        "x_test = x_test.reshape(-1, 28, 28, 1)\n",
        "y_test = tf.keras.utils.to_categorical(y_test, 10)\n",
        "\n",
        "print(f\"shape of train image: {x_train.shape}\")\n",
        "print(f\"shape of train label: {y_train.shape}\")\n",
        "print(f\"shape of test image: {x_test.shape}\")\n",
        "print(f\"shape of train label: {y_test.shape}\")"
      ],
      "metadata": {
        "colab": {
          "base_uri": "https://localhost:8080/"
        },
        "id": "VDj80iCxeryN",
        "outputId": "424b230b-04e4-45cc-d75b-0896760e768c"
      },
      "execution_count": 3,
      "outputs": [
        {
          "output_type": "stream",
          "name": "stdout",
          "text": [
            "Downloading data from https://storage.googleapis.com/tensorflow/tf-keras-datasets/mnist.npz\n",
            "11490434/11490434 [==============================] - 2s 0us/step\n",
            "shape of train image: (60000, 28, 28, 1)\n",
            "shape of train label: (60000, 10)\n",
            "shape of test image: (10000, 28, 28, 1)\n",
            "shape of train label: (10000, 10)\n"
          ]
        }
      ]
    },
    {
      "cell_type": "code",
      "source": [
        "fig, ax = plt.subplots(1, 2, sharey=True, figsize=(24, 8))\n",
        "fig.suptitle('Distribution of data')\n",
        "\n",
        "sns.countplot(ax=ax[0], x=np.argmax(y_train, axis=1)) \n",
        "ax[0].set_title('Train')\n",
        "ax[0].set_ylabel('Samples')\n",
        "\n",
        "sns.countplot(ax=ax[1], x=np.argmax(y_test, axis=1)) \n",
        "ax[1].set_title('Test')\n",
        "ax[1].set_ylabel('Samples')\n",
        "\n",
        "plt.show()"
      ],
      "metadata": {
        "colab": {
          "base_uri": "https://localhost:8080/",
          "height": 540
        },
        "id": "VK3Y4ucQetmP",
        "outputId": "8a55f2c9-313b-474d-87cb-dc39348f4026"
      },
      "execution_count": 4,
      "outputs": [
        {
          "output_type": "display_data",
          "data": {
            "text/plain": [
              "<Figure size 1728x576 with 2 Axes>"
            ],
            "image/png": "[encoded data removed]"
          },
          "metadata": {
            "needs_background": "light"
          }
        }
      ]
    },
    {
      "cell_type": "markdown",
      "source": [
        "## Display image"
      ],
      "metadata": {
        "id": "s4h2TmvUapJy"
      }
    },
    {
      "cell_type": "code",
      "source": [
        "fig, ax = plt.subplots(3, 3, figsize=(6, 6))\n",
        "\n",
        "for c, i in enumerate(np.random.randint(x_train.shape[0], size=9)):\n",
        "  ax[c//3][c%3].set_title(np.argmax(y_train[i]))\n",
        "  ax[c//3][c%3].axis('off')\n",
        "  ax[c//3][c%3].imshow(x_train[i].squeeze(2), cmap='gray')\n",
        "\n",
        "plt.tight_layout()\n",
        "plt.show()"
      ],
      "metadata": {
        "colab": {
          "base_uri": "https://localhost:8080/",
          "height": 441
        },
        "id": "BcVuHoghe0pQ",
        "outputId": "4c0f12ca-4352-4e58-f834-04a41efd88df"
      },
      "execution_count": 5,
      "outputs": [
        {
          "output_type": "display_data",
          "data": {
            "text/plain": [
              "<Figure size 432x432 with 9 Axes>"
            ],
            "image/png": "[encoded data removed]"
          },
          "metadata": {
            "needs_background": "light"
          }
        }
      ]
    },
    {
      "cell_type": "markdown",
      "source": [
        "## Rescaling"
      ],
      "metadata": {
        "id": "aLCyUCG1a3MN"
      }
    },
    {
      "cell_type": "code",
      "source": [
        "rescale = tf.keras.Sequential([\n",
        "  tf.keras.layers.Rescaling(1./255)\n",
        "])"
      ],
      "metadata": {
        "id": "EjPg38gla6rt"
      },
      "execution_count": 6,
      "outputs": []
    },
    {
      "cell_type": "code",
      "source": [
        "print(f\"before rescaling min: {x_train[1].min()}, max: {x_train[1].max()}\")\n",
        "print(f\"after rescaling min: {rescale(x_train[1]).numpy().min()}, max: {rescale(x_train[1]).numpy().max()}\")"
      ],
      "metadata": {
        "colab": {
          "base_uri": "https://localhost:8080/"
        },
        "id": "jBs9SJmUa8ld",
        "outputId": "677e699f-5233-4b3c-be11-fc68d7374be1"
      },
      "execution_count": 7,
      "outputs": [
        {
          "output_type": "stream",
          "name": "stdout",
          "text": [
            "before rescaling min: 0, max: 255\n",
            "after rescaling min: 0.0, max: 1.0\n"
          ]
        }
      ]
    },
    {
      "cell_type": "markdown",
      "source": [
        "## Data augmentation"
      ],
      "metadata": {
        "id": "4RygrrvAbEA7"
      }
    },
    {
      "cell_type": "markdown",
      "source": [
        "透過旋轉和縮放進行Data augmentation"
      ],
      "metadata": {
        "id": "-mJf8yI32Fij"
      }
    },
    {
      "cell_type": "code",
      "source": [
        "data_augmentation = tf.keras.Sequential([\n",
        "  # Add your transforms here\n",
        "  tf.keras.layers.RandomRotation(0.1),\n",
        "  tf.keras.layers.RandomZoom(.5, .2),\n",
        "])"
      ],
      "metadata": {
        "id": "i32mqemTbHA0"
      },
      "execution_count": 8,
      "outputs": []
    },
    {
      "cell_type": "code",
      "source": [
        "fig, ax = plt.subplots(3, 3, figsize=(6, 6))\n",
        "\n",
        "for i in range(9):\n",
        "  if i == 0:\n",
        "    image = x_train[2].squeeze(2)\n",
        "    ax[i//3][i%3].set_title('orgin')\n",
        "  else:\n",
        "    image = data_augmentation(rescale(x_train[2])).numpy().squeeze(2)\n",
        "    ax[i//3][i%3].set_title(f'Augmented {i}')\n",
        "\n",
        "  ax[i//3][i%3].axis('off')\n",
        "  ax[i//3][i%3].imshow(image, cmap='gray')\n",
        "\n",
        "plt.tight_layout()\n",
        "plt.show()"
      ],
      "metadata": {
        "colab": {
          "base_uri": "https://localhost:8080/",
          "height": 441
        },
        "id": "4tmjzAlzbs52",
        "outputId": "2ac3e693-392f-46db-8cef-24e2063999ed"
      },
      "execution_count": 11,
      "outputs": [
        {
          "output_type": "display_data",
          "data": {
            "text/plain": [
              "<Figure size 432x432 with 9 Axes>"
            ],
            "image/png": "[encoded data removed]"
          },
          "metadata": {
            "needs_background": "light"
          }
        }
      ]
    },
    {
      "cell_type": "markdown",
      "source": [
        "# CNN model"
      ],
      "metadata": {
        "id": "DvIys0CKxvmD"
      }
    },
    {
      "cell_type": "code",
      "source": [
        "early_stopping = tf.keras.callbacks.EarlyStopping(\n",
        "    min_delta=0.001, # minimium amount of change to count as an improvement\n",
        "    patience=30, # how many epochs to wait before stopping\n",
        "    restore_best_weights=True,\n",
        ")"
      ],
      "metadata": {
        "id": "tgmM0cBK3fbo"
      },
      "execution_count": 10,
      "outputs": []
    },
    {
      "cell_type": "markdown",
      "source": [
        "## Keras model"
      ],
      "metadata": {
        "id": "r0FL2ei9Q3xw"
      }
    },
    {
      "cell_type": "markdown",
      "source": [
        "### Sequential model\n",
        "[Document](https://www.tensorflow.org/api_docs/python/tf/keras/Sequential)"
      ],
      "metadata": {
        "id": "yI6b5-LkyAGb"
      }
    },
    {
      "cell_type": "code",
      "source": [
        "model1 = tf.keras.Sequential([\n",
        "    # Add convolution, pooling, flatten here \n",
        "    tf.keras.Input(shape=(28, 28, 1), name='input_layer'),\n",
        "    tf.keras.layers.RandomRotation(0.1),\n",
        "    tf.keras.layers.RandomZoom(.5, .2),\n",
        "    tf.keras.layers.Conv2D(16, 5, activation='relu', padding=\"same\", name=\"conv_layer_1\", input_shape=(28, 28, 1)),\n",
        "    tf.keras.layers.MaxPooling2D(pool_size=(3, 3), strides=(2, 2), padding='valid', name=\"pooling_layer_1\"),\n",
        "    tf.keras.layers.Conv2D(16, 5, activation='relu', padding=\"same\", name=\"conv_layer_2\", input_shape=(28, 28, 1)),\n",
        "    tf.keras.layers.MaxPooling2D(pool_size=(3, 3), strides=(2, 2), padding='valid', name=\"pooling_layer_2\"),\n",
        "    tf.keras.layers.Flatten(),\n",
        "    tf.keras.layers.Dense(64, activation=\"relu\", name=\"hidden_layer_1\"),\n",
        "    tf.keras.layers.Dense(64, activation=\"relu\", name=\"hidden_layer_2\"),\n",
        "    tf.keras.layers.Dense(10, name=\"output_layer\"),\n",
        "  ], name=\"sequential_model\")\n",
        "\n",
        "model1.compile(optimizer=tf.keras.optimizers.Adam(learning_rate=0.001), loss=tf.keras.losses.MSE, metrics=['accuracy'])\n",
        "model1.summary()"
      ],
      "metadata": {
        "colab": {
          "base_uri": "https://localhost:8080/"
        },
        "id": "IV2mQ7FEy1_y",
        "outputId": "4dd9d8d5-c08f-4a8e-b47b-600e0e0b2eb6"
      },
      "execution_count": 12,
      "outputs": [
        {
          "output_type": "stream",
          "name": "stdout",
          "text": [
            "Model: \"sequential_model\"\n",
            "_________________________________________________________________\n",
            " Layer (type)                Output Shape              Param #   \n",
            "=================================================================\n",
            " random_rotation_1 (RandomRo  (None, 28, 28, 1)        0         \n",
            " tation)                                                         \n",
            "                                                                 \n",
            " random_zoom_1 (RandomZoom)  (None, 28, 28, 1)         0         \n",
            "                                                                 \n",
            " conv_layer_1 (Conv2D)       (None, 28, 28, 16)        416       \n",
            "                                                                 \n",
            " pooling_layer_1 (MaxPooling  (None, 13, 13, 16)       0         \n",
            " 2D)                                                             \n",
            "                                                                 \n",
            " conv_layer_2 (Conv2D)       (None, 13, 13, 16)        6416      \n",
            "                                                                 \n",
            " pooling_layer_2 (MaxPooling  (None, 6, 6, 16)         0         \n",
            " 2D)                                                             \n",
            "                                                                 \n",
            " flatten (Flatten)           (None, 576)               0         \n",
            "                                                                 \n",
            " hidden_layer_1 (Dense)      (None, 64)                36928     \n",
            "                                                                 \n",
            " hidden_layer_2 (Dense)      (None, 64)                4160      \n",
            "                                                                 \n",
            " output_layer (Dense)        (None, 10)                650       \n",
            "                                                                 \n",
            "=================================================================\n",
            "Total params: 48,570\n",
            "Trainable params: 48,570\n",
            "Non-trainable params: 0\n",
            "_________________________________________________________________\n"
          ]
        }
      ]
    },
    {
      "cell_type": "markdown",
      "source": [
        "### Functional API\n",
        "[Document](https://www.tensorflow.org/api_docs/python/tf/keras/Model)"
      ],
      "metadata": {
        "id": "wNc4xwHDx6Dx"
      }
    },
    {
      "cell_type": "code",
      "source": [
        "# Add convolution, pooling, flatten here\n",
        "inputs = tf.keras.Input(shape=(28, 28, 1), name='input_layer')\n",
        "x = tf.keras.layers.RandomRotation(0.1)(inputs)\n",
        "x = tf.keras.layers.RandomZoom(.5, .2)(x)\n",
        "x = tf.keras.layers.Conv2D(16, 5, activation='relu', padding=\"same\", name=\"conv_layer_1\", input_shape=(28, 28, 1))(x)\n",
        "x = tf.keras.layers.MaxPooling2D(pool_size=(3, 3), strides=(2, 2), padding='valid', name=\"pooling_layer_1\")(x)\n",
        "x = tf.keras.layers.Conv2D(16, 5, activation='relu', padding=\"same\", name=\"conv_layer_2\", input_shape=(28, 28, 1))(x)\n",
        "x = tf.keras.layers.MaxPooling2D(pool_size=(3, 3), strides=(2, 2), padding='valid', name=\"pooling_layer_2\")(x)\n",
        "x = tf.keras.layers.Flatten()(x)\n",
        "x = tf.keras.layers.Dense(64, activation=\"relu\", name='hidden_layer_1')(x)\n",
        "x = tf.keras.layers.Dense(64, activation=\"relu\", name='hidden_layer_2')(x)\n",
        "outputs = tf.keras.layers.Dense(10, name='output_layer')(x)\n",
        "\n",
        "model2 = tf.keras.Model(inputs=inputs, outputs=outputs, name=\"functional_api\")\n",
        "model2.compile(optimizer=tf.keras.optimizers.Adam(learning_rate=0.001), loss=tf.keras.losses.MSE, metrics=['accuracy'])\n",
        "model2.summary()"
      ],
      "metadata": {
        "colab": {
          "base_uri": "https://localhost:8080/"
        },
        "id": "1wibuhiJlXKW",
        "outputId": "e4f94556-4419-4542-db1d-465db457f161"
      },
      "execution_count": 13,
      "outputs": [
        {
          "output_type": "stream",
          "name": "stdout",
          "text": [
            "Model: \"functional_api\"\n",
            "_________________________________________________________________\n",
            " Layer (type)                Output Shape              Param #   \n",
            "=================================================================\n",
            " input_layer (InputLayer)    [(None, 28, 28, 1)]       0         \n",
            "                                                                 \n",
            " random_rotation_2 (RandomRo  (None, 28, 28, 1)        0         \n",
            " tation)                                                         \n",
            "                                                                 \n",
            " random_zoom_2 (RandomZoom)  (None, 28, 28, 1)         0         \n",
            "                                                                 \n",
            " conv_layer_1 (Conv2D)       (None, 28, 28, 16)        416       \n",
            "                                                                 \n",
            " pooling_layer_1 (MaxPooling  (None, 13, 13, 16)       0         \n",
            " 2D)                                                             \n",
            "                                                                 \n",
            " conv_layer_2 (Conv2D)       (None, 13, 13, 16)        6416      \n",
            "                                                                 \n",
            " pooling_layer_2 (MaxPooling  (None, 6, 6, 16)         0         \n",
            " 2D)                                                             \n",
            "                                                                 \n",
            " flatten_1 (Flatten)         (None, 576)               0         \n",
            "                                                                 \n",
            " hidden_layer_1 (Dense)      (None, 64)                36928     \n",
            "                                                                 \n",
            " hidden_layer_2 (Dense)      (None, 64)                4160      \n",
            "                                                                 \n",
            " output_layer (Dense)        (None, 10)                650       \n",
            "                                                                 \n",
            "=================================================================\n",
            "Total params: 48,570\n",
            "Trainable params: 48,570\n",
            "Non-trainable params: 0\n",
            "_________________________________________________________________\n"
          ]
        }
      ]
    },
    {
      "cell_type": "code",
      "source": [
        "history = model1.fit(\n",
        "    x_train, y_train,\n",
        "    validation_data=(x_test, y_test),\n",
        "    batch_size=128,\n",
        "    epochs=100,\n",
        "    callbacks=[early_stopping], # put your callbacks in a list\n",
        ")"
      ],
      "metadata": {
        "colab": {
          "base_uri": "https://localhost:8080/"
        },
        "id": "xP2GQs622hD-",
        "outputId": "dde1eba0-e1a4-4598-801a-0417d6440433"
      },
      "execution_count": 14,
      "outputs": [
        {
          "output_type": "stream",
          "name": "stdout",
          "text": [
            "Epoch 1/100\n",
            "469/469 [==============================] - 11s 7ms/step - loss: 1.4196 - accuracy: 0.1054 - val_loss: 0.0963 - val_accuracy: 0.1019\n",
            "Epoch 2/100\n",
            "469/469 [==============================] - 3s 5ms/step - loss: 0.0929 - accuracy: 0.1027 - val_loss: 0.0914 - val_accuracy: 0.1012\n",
            "Epoch 3/100\n",
            "469/469 [==============================] - 3s 6ms/step - loss: 0.0905 - accuracy: 0.1025 - val_loss: 0.0903 - val_accuracy: 0.1088\n",
            "Epoch 4/100\n",
            "469/469 [==============================] - 3s 5ms/step - loss: 0.0900 - accuracy: 0.1084 - val_loss: 0.0901 - val_accuracy: 0.1088\n",
            "Epoch 5/100\n",
            "469/469 [==============================] - 3s 5ms/step - loss: 0.0900 - accuracy: 0.1073 - val_loss: 0.0901 - val_accuracy: 0.1086\n",
            "Epoch 6/100\n",
            "469/469 [==============================] - 3s 6ms/step - loss: 0.0900 - accuracy: 0.1083 - val_loss: 0.0900 - val_accuracy: 0.1102\n",
            "Epoch 7/100\n",
            "469/469 [==============================] - 3s 6ms/step - loss: 0.0900 - accuracy: 0.1068 - val_loss: 0.0900 - val_accuracy: 0.1115\n",
            "Epoch 8/100\n",
            "469/469 [==============================] - 3s 6ms/step - loss: 0.0899 - accuracy: 0.1043 - val_loss: 0.0900 - val_accuracy: 0.1103\n",
            "Epoch 9/100\n",
            "469/469 [==============================] - 3s 6ms/step - loss: 0.0899 - accuracy: 0.1026 - val_loss: 0.0902 - val_accuracy: 0.1008\n",
            "Epoch 10/100\n",
            "469/469 [==============================] - 3s 6ms/step - loss: 0.0899 - accuracy: 0.1020 - val_loss: 0.0901 - val_accuracy: 0.1051\n",
            "Epoch 11/100\n",
            "469/469 [==============================] - 3s 6ms/step - loss: 0.0893 - accuracy: 0.1181 - val_loss: 0.0899 - val_accuracy: 0.1560\n",
            "Epoch 12/100\n",
            "469/469 [==============================] - 3s 7ms/step - loss: 0.0836 - accuracy: 0.2302 - val_loss: 0.0800 - val_accuracy: 0.2864\n",
            "Epoch 13/100\n",
            "469/469 [==============================] - 3s 6ms/step - loss: 0.0717 - accuracy: 0.4002 - val_loss: 0.0709 - val_accuracy: 0.4600\n",
            "Epoch 14/100\n",
            "469/469 [==============================] - 3s 6ms/step - loss: 0.0597 - accuracy: 0.5202 - val_loss: 0.0545 - val_accuracy: 0.6060\n",
            "Epoch 15/100\n",
            "469/469 [==============================] - 3s 6ms/step - loss: 0.0501 - accuracy: 0.6202 - val_loss: 0.0480 - val_accuracy: 0.6626\n",
            "Epoch 16/100\n",
            "469/469 [==============================] - 3s 5ms/step - loss: 0.0429 - accuracy: 0.6655 - val_loss: 0.0449 - val_accuracy: 0.6801\n",
            "Epoch 17/100\n",
            "469/469 [==============================] - 3s 6ms/step - loss: 0.0380 - accuracy: 0.7172 - val_loss: 0.0379 - val_accuracy: 0.8244\n",
            "Epoch 18/100\n",
            "469/469 [==============================] - 3s 6ms/step - loss: 0.0294 - accuracy: 0.8195 - val_loss: 0.0300 - val_accuracy: 0.8516\n",
            "Epoch 19/100\n",
            "469/469 [==============================] - 3s 5ms/step - loss: 0.0238 - accuracy: 0.8416 - val_loss: 0.0267 - val_accuracy: 0.8705\n",
            "Epoch 20/100\n",
            "469/469 [==============================] - 3s 5ms/step - loss: 0.0214 - accuracy: 0.8566 - val_loss: 0.0261 - val_accuracy: 0.8681\n",
            "Epoch 21/100\n",
            "469/469 [==============================] - 3s 6ms/step - loss: 0.0204 - accuracy: 0.8606 - val_loss: 0.0246 - val_accuracy: 0.8697\n",
            "Epoch 22/100\n",
            "469/469 [==============================] - 3s 6ms/step - loss: 0.0196 - accuracy: 0.8635 - val_loss: 0.0234 - val_accuracy: 0.8743\n",
            "Epoch 23/100\n",
            "469/469 [==============================] - 3s 6ms/step - loss: 0.0190 - accuracy: 0.8658 - val_loss: 0.0203 - val_accuracy: 0.8804\n",
            "Epoch 24/100\n",
            "469/469 [==============================] - 3s 6ms/step - loss: 0.0184 - accuracy: 0.8684 - val_loss: 0.0241 - val_accuracy: 0.8738\n",
            "Epoch 25/100\n",
            "469/469 [==============================] - 3s 6ms/step - loss: 0.0179 - accuracy: 0.8695 - val_loss: 0.0204 - val_accuracy: 0.8814\n",
            "Epoch 26/100\n",
            "469/469 [==============================] - 3s 6ms/step - loss: 0.0176 - accuracy: 0.8706 - val_loss: 0.0228 - val_accuracy: 0.8748\n",
            "Epoch 27/100\n",
            "469/469 [==============================] - 3s 6ms/step - loss: 0.0173 - accuracy: 0.8723 - val_loss: 0.0218 - val_accuracy: 0.8834\n",
            "Epoch 28/100\n",
            "469/469 [==============================] - 3s 6ms/step - loss: 0.0170 - accuracy: 0.8741 - val_loss: 0.0216 - val_accuracy: 0.8849\n",
            "Epoch 29/100\n",
            "469/469 [==============================] - 3s 6ms/step - loss: 0.0168 - accuracy: 0.8745 - val_loss: 0.0195 - val_accuracy: 0.8820\n",
            "Epoch 30/100\n",
            "469/469 [==============================] - 3s 6ms/step - loss: 0.0164 - accuracy: 0.8764 - val_loss: 0.0186 - val_accuracy: 0.8859\n",
            "Epoch 31/100\n",
            "469/469 [==============================] - 3s 6ms/step - loss: 0.0164 - accuracy: 0.8760 - val_loss: 0.0196 - val_accuracy: 0.8854\n",
            "Epoch 32/100\n",
            "469/469 [==============================] - 3s 6ms/step - loss: 0.0162 - accuracy: 0.8763 - val_loss: 0.0196 - val_accuracy: 0.8846\n",
            "Epoch 33/100\n",
            "469/469 [==============================] - 3s 6ms/step - loss: 0.0161 - accuracy: 0.8776 - val_loss: 0.0189 - val_accuracy: 0.8883\n",
            "Epoch 34/100\n",
            "469/469 [==============================] - 3s 6ms/step - loss: 0.0158 - accuracy: 0.8783 - val_loss: 0.0213 - val_accuracy: 0.8832\n",
            "Epoch 35/100\n",
            "469/469 [==============================] - 3s 6ms/step - loss: 0.0158 - accuracy: 0.8781 - val_loss: 0.0174 - val_accuracy: 0.8888\n",
            "Epoch 36/100\n",
            "469/469 [==============================] - 3s 6ms/step - loss: 0.0156 - accuracy: 0.8789 - val_loss: 0.0185 - val_accuracy: 0.8877\n",
            "Epoch 37/100\n",
            "469/469 [==============================] - 3s 6ms/step - loss: 0.0154 - accuracy: 0.8798 - val_loss: 0.0163 - val_accuracy: 0.8894\n",
            "Epoch 38/100\n",
            "469/469 [==============================] - 3s 6ms/step - loss: 0.0153 - accuracy: 0.8806 - val_loss: 0.0193 - val_accuracy: 0.8862\n",
            "Epoch 39/100\n",
            "469/469 [==============================] - 3s 6ms/step - loss: 0.0153 - accuracy: 0.8806 - val_loss: 0.0173 - val_accuracy: 0.8878\n",
            "Epoch 40/100\n",
            "469/469 [==============================] - 3s 5ms/step - loss: 0.0151 - accuracy: 0.8813 - val_loss: 0.0166 - val_accuracy: 0.8897\n",
            "Epoch 41/100\n",
            "469/469 [==============================] - 3s 6ms/step - loss: 0.0150 - accuracy: 0.8818 - val_loss: 0.0198 - val_accuracy: 0.8867\n",
            "Epoch 42/100\n",
            "469/469 [==============================] - 3s 6ms/step - loss: 0.0149 - accuracy: 0.8816 - val_loss: 0.0179 - val_accuracy: 0.8860\n",
            "Epoch 43/100\n",
            "469/469 [==============================] - 3s 7ms/step - loss: 0.0148 - accuracy: 0.8821 - val_loss: 0.0166 - val_accuracy: 0.8863\n",
            "Epoch 44/100\n",
            "469/469 [==============================] - 3s 7ms/step - loss: 0.0148 - accuracy: 0.8823 - val_loss: 0.0188 - val_accuracy: 0.8894\n",
            "Epoch 45/100\n",
            "469/469 [==============================] - 3s 6ms/step - loss: 0.0147 - accuracy: 0.8824 - val_loss: 0.0170 - val_accuracy: 0.8902\n",
            "Epoch 46/100\n",
            "469/469 [==============================] - 3s 6ms/step - loss: 0.0145 - accuracy: 0.8835 - val_loss: 0.0166 - val_accuracy: 0.8882\n",
            "Epoch 47/100\n",
            "469/469 [==============================] - 3s 6ms/step - loss: 0.0145 - accuracy: 0.8829 - val_loss: 0.0150 - val_accuracy: 0.8903\n",
            "Epoch 48/100\n",
            "469/469 [==============================] - 3s 6ms/step - loss: 0.0144 - accuracy: 0.8833 - val_loss: 0.0165 - val_accuracy: 0.8890\n",
            "Epoch 49/100\n",
            "469/469 [==============================] - 3s 6ms/step - loss: 0.0144 - accuracy: 0.8832 - val_loss: 0.0157 - val_accuracy: 0.8907\n",
            "Epoch 50/100\n",
            "469/469 [==============================] - 3s 6ms/step - loss: 0.0144 - accuracy: 0.8832 - val_loss: 0.0164 - val_accuracy: 0.8889\n",
            "Epoch 51/100\n",
            "469/469 [==============================] - 3s 6ms/step - loss: 0.0142 - accuracy: 0.8839 - val_loss: 0.0157 - val_accuracy: 0.8899\n",
            "Epoch 52/100\n",
            "469/469 [==============================] - 3s 6ms/step - loss: 0.0142 - accuracy: 0.8839 - val_loss: 0.0154 - val_accuracy: 0.8884\n",
            "Epoch 53/100\n",
            "469/469 [==============================] - 3s 6ms/step - loss: 0.0142 - accuracy: 0.8842 - val_loss: 0.0161 - val_accuracy: 0.8858\n",
            "Epoch 54/100\n",
            "469/469 [==============================] - 3s 6ms/step - loss: 0.0144 - accuracy: 0.8836 - val_loss: 0.0154 - val_accuracy: 0.8886\n",
            "Epoch 55/100\n",
            "469/469 [==============================] - 3s 6ms/step - loss: 0.0141 - accuracy: 0.8847 - val_loss: 0.0148 - val_accuracy: 0.8881\n",
            "Epoch 56/100\n",
            "469/469 [==============================] - 3s 6ms/step - loss: 0.0140 - accuracy: 0.8849 - val_loss: 0.0165 - val_accuracy: 0.8890\n",
            "Epoch 57/100\n",
            "469/469 [==============================] - 3s 6ms/step - loss: 0.0139 - accuracy: 0.8846 - val_loss: 0.0155 - val_accuracy: 0.8882\n",
            "Epoch 58/100\n",
            "469/469 [==============================] - 3s 6ms/step - loss: 0.0139 - accuracy: 0.8856 - val_loss: 0.0141 - val_accuracy: 0.8903\n",
            "Epoch 59/100\n",
            "469/469 [==============================] - 3s 6ms/step - loss: 0.0140 - accuracy: 0.8848 - val_loss: 0.0146 - val_accuracy: 0.8906\n",
            "Epoch 60/100\n",
            "469/469 [==============================] - 3s 6ms/step - loss: 0.0139 - accuracy: 0.8853 - val_loss: 0.0138 - val_accuracy: 0.8876\n",
            "Epoch 61/100\n",
            "469/469 [==============================] - 3s 6ms/step - loss: 0.0140 - accuracy: 0.8858 - val_loss: 0.0144 - val_accuracy: 0.8905\n",
            "Epoch 62/100\n",
            "469/469 [==============================] - 3s 6ms/step - loss: 0.0139 - accuracy: 0.8854 - val_loss: 0.0156 - val_accuracy: 0.8901\n",
            "Epoch 63/100\n",
            "469/469 [==============================] - 3s 6ms/step - loss: 0.0138 - accuracy: 0.8855 - val_loss: 0.0146 - val_accuracy: 0.8903\n",
            "Epoch 64/100\n",
            "469/469 [==============================] - 3s 6ms/step - loss: 0.0137 - accuracy: 0.8859 - val_loss: 0.0140 - val_accuracy: 0.8910\n",
            "Epoch 65/100\n",
            "469/469 [==============================] - 3s 6ms/step - loss: 0.0137 - accuracy: 0.8860 - val_loss: 0.0141 - val_accuracy: 0.8927\n",
            "Epoch 66/100\n",
            "469/469 [==============================] - 3s 6ms/step - loss: 0.0138 - accuracy: 0.8860 - val_loss: 0.0146 - val_accuracy: 0.8892\n",
            "Epoch 67/100\n",
            "469/469 [==============================] - 3s 6ms/step - loss: 0.0136 - accuracy: 0.8863 - val_loss: 0.0151 - val_accuracy: 0.8894\n",
            "Epoch 68/100\n",
            "469/469 [==============================] - 3s 6ms/step - loss: 0.0137 - accuracy: 0.8857 - val_loss: 0.0159 - val_accuracy: 0.8857\n",
            "Epoch 69/100\n",
            "469/469 [==============================] - 3s 6ms/step - loss: 0.0138 - accuracy: 0.8853 - val_loss: 0.0142 - val_accuracy: 0.8900\n",
            "Epoch 70/100\n",
            "469/469 [==============================] - 3s 6ms/step - loss: 0.0134 - accuracy: 0.8875 - val_loss: 0.0149 - val_accuracy: 0.8908\n",
            "Epoch 71/100\n",
            "469/469 [==============================] - 3s 6ms/step - loss: 0.0136 - accuracy: 0.8856 - val_loss: 0.0140 - val_accuracy: 0.8899\n",
            "Epoch 72/100\n",
            "469/469 [==============================] - 3s 6ms/step - loss: 0.0143 - accuracy: 0.8841 - val_loss: 0.0158 - val_accuracy: 0.8852\n",
            "Epoch 73/100\n",
            "469/469 [==============================] - 3s 6ms/step - loss: 0.0137 - accuracy: 0.8856 - val_loss: 0.0140 - val_accuracy: 0.8879\n",
            "Epoch 74/100\n",
            "469/469 [==============================] - 3s 6ms/step - loss: 0.0135 - accuracy: 0.8867 - val_loss: 0.0134 - val_accuracy: 0.8897\n",
            "Epoch 75/100\n",
            "469/469 [==============================] - 3s 6ms/step - loss: 0.0135 - accuracy: 0.8870 - val_loss: 0.0135 - val_accuracy: 0.8908\n",
            "Epoch 76/100\n",
            "469/469 [==============================] - 3s 6ms/step - loss: 0.0143 - accuracy: 0.8832 - val_loss: 0.0139 - val_accuracy: 0.8903\n",
            "Epoch 77/100\n",
            "469/469 [==============================] - 3s 6ms/step - loss: 0.0135 - accuracy: 0.8863 - val_loss: 0.0137 - val_accuracy: 0.8910\n",
            "Epoch 78/100\n",
            "469/469 [==============================] - 3s 6ms/step - loss: 0.0135 - accuracy: 0.8870 - val_loss: 0.0140 - val_accuracy: 0.8896\n",
            "Epoch 79/100\n",
            "469/469 [==============================] - 3s 6ms/step - loss: 0.0133 - accuracy: 0.8872 - val_loss: 0.0139 - val_accuracy: 0.8899\n",
            "Epoch 80/100\n",
            "469/469 [==============================] - 3s 6ms/step - loss: 0.0133 - accuracy: 0.8873 - val_loss: 0.0136 - val_accuracy: 0.8908\n",
            "Epoch 81/100\n",
            "469/469 [==============================] - 3s 6ms/step - loss: 0.0134 - accuracy: 0.8863 - val_loss: 0.0133 - val_accuracy: 0.8913\n",
            "Epoch 82/100\n",
            "469/469 [==============================] - 3s 6ms/step - loss: 0.0134 - accuracy: 0.8868 - val_loss: 0.0132 - val_accuracy: 0.8910\n",
            "Epoch 83/100\n",
            "469/469 [==============================] - 3s 6ms/step - loss: 0.0135 - accuracy: 0.8866 - val_loss: 0.0137 - val_accuracy: 0.8902\n",
            "Epoch 84/100\n",
            "469/469 [==============================] - 3s 6ms/step - loss: 0.0133 - accuracy: 0.8875 - val_loss: 0.0143 - val_accuracy: 0.8910\n",
            "Epoch 85/100\n",
            "469/469 [==============================] - 3s 6ms/step - loss: 0.0138 - accuracy: 0.8855 - val_loss: 0.0144 - val_accuracy: 0.8893\n",
            "Epoch 86/100\n",
            "469/469 [==============================] - 3s 6ms/step - loss: 0.0134 - accuracy: 0.8870 - val_loss: 0.0141 - val_accuracy: 0.8896\n",
            "Epoch 87/100\n",
            "469/469 [==============================] - 3s 6ms/step - loss: 0.0132 - accuracy: 0.8878 - val_loss: 0.0129 - val_accuracy: 0.8884\n",
            "Epoch 88/100\n",
            "469/469 [==============================] - 3s 6ms/step - loss: 0.0149 - accuracy: 0.8816 - val_loss: 0.0147 - val_accuracy: 0.8882\n",
            "Epoch 89/100\n",
            "469/469 [==============================] - 3s 6ms/step - loss: 0.0138 - accuracy: 0.8849 - val_loss: 0.0140 - val_accuracy: 0.8887\n",
            "Epoch 90/100\n",
            "469/469 [==============================] - 3s 6ms/step - loss: 0.0133 - accuracy: 0.8874 - val_loss: 0.0133 - val_accuracy: 0.8889\n"
          ]
        }
      ]
    },
    {
      "cell_type": "code",
      "source": [
        "result = model1.evaluate(x_test, y_test, batch_size=64)\n",
        "print('test data loss:', result[0])\n",
        "print('test data accuracy:', result[1])"
      ],
      "metadata": {
        "colab": {
          "base_uri": "https://localhost:8080/"
        },
        "id": "etsrxtdFZGkl",
        "outputId": "620edb02-49d6-4b07-93ef-f493d83f32fb"
      },
      "execution_count": 15,
      "outputs": [
        {
          "output_type": "stream",
          "name": "stdout",
          "text": [
            "157/157 [==============================] - 1s 4ms/step - loss: 0.0138 - accuracy: 0.8876\n",
            "test data loss: 0.0138393584638834\n",
            "test data accuracy: 0.8876000046730042\n"
          ]
        }
      ]
    },
    {
      "cell_type": "code",
      "source": [
        "history = model2.fit(\n",
        "    x_train, y_train,\n",
        "    validation_data=(x_test, y_test),\n",
        "    batch_size=128,\n",
        "    epochs=100,\n",
        "    callbacks=[early_stopping], # put your callbacks in a list\n",
        ")"
      ],
      "metadata": {
        "id": "y-ikCxXjZB0n",
        "colab": {
          "base_uri": "https://localhost:8080/"
        },
        "outputId": "0d3b3b2c-7629-4eed-80b3-316b6d0993ff"
      },
      "execution_count": 16,
      "outputs": [
        {
          "output_type": "stream",
          "name": "stdout",
          "text": [
            "Epoch 1/100\n",
            "469/469 [==============================] - 4s 6ms/step - loss: 2.5327 - accuracy: 0.1636 - val_loss: 0.0871 - val_accuracy: 0.2464\n",
            "Epoch 2/100\n",
            "469/469 [==============================] - 4s 8ms/step - loss: 0.0824 - accuracy: 0.2484 - val_loss: 0.0825 - val_accuracy: 0.2658\n",
            "Epoch 3/100\n",
            "469/469 [==============================] - 3s 6ms/step - loss: 0.0791 - accuracy: 0.2733 - val_loss: 0.0795 - val_accuracy: 0.2848\n",
            "Epoch 4/100\n",
            "469/469 [==============================] - 3s 6ms/step - loss: 0.0769 - accuracy: 0.3011 - val_loss: 0.0770 - val_accuracy: 0.3075\n",
            "Epoch 5/100\n",
            "469/469 [==============================] - 3s 6ms/step - loss: 0.0752 - accuracy: 0.3202 - val_loss: 0.0765 - val_accuracy: 0.3333\n",
            "Epoch 6/100\n",
            "469/469 [==============================] - 3s 5ms/step - loss: 0.0729 - accuracy: 0.3686 - val_loss: 0.0746 - val_accuracy: 0.4308\n",
            "Epoch 7/100\n",
            "469/469 [==============================] - 3s 6ms/step - loss: 0.0640 - accuracy: 0.5058 - val_loss: 0.0603 - val_accuracy: 0.5444\n",
            "Epoch 8/100\n",
            "469/469 [==============================] - 3s 6ms/step - loss: 0.0544 - accuracy: 0.5904 - val_loss: 0.0537 - val_accuracy: 0.6195\n",
            "Epoch 9/100\n",
            "469/469 [==============================] - 3s 6ms/step - loss: 0.0487 - accuracy: 0.6528 - val_loss: 0.0511 - val_accuracy: 0.6748\n",
            "Epoch 10/100\n",
            "469/469 [==============================] - 3s 6ms/step - loss: 0.0443 - accuracy: 0.6982 - val_loss: 0.0463 - val_accuracy: 0.7240\n",
            "Epoch 11/100\n",
            "469/469 [==============================] - 3s 6ms/step - loss: 0.0406 - accuracy: 0.7200 - val_loss: 0.0443 - val_accuracy: 0.7440\n",
            "Epoch 12/100\n",
            "469/469 [==============================] - 3s 5ms/step - loss: 0.0377 - accuracy: 0.7333 - val_loss: 0.0419 - val_accuracy: 0.7512\n",
            "Epoch 13/100\n",
            "469/469 [==============================] - 3s 6ms/step - loss: 0.0345 - accuracy: 0.7728 - val_loss: 0.0352 - val_accuracy: 0.8161\n",
            "Epoch 14/100\n",
            "469/469 [==============================] - 3s 5ms/step - loss: 0.0310 - accuracy: 0.8158 - val_loss: 0.0331 - val_accuracy: 0.8419\n",
            "Epoch 15/100\n",
            "469/469 [==============================] - 3s 6ms/step - loss: 0.0276 - accuracy: 0.8324 - val_loss: 0.0364 - val_accuracy: 0.8466\n",
            "Epoch 16/100\n",
            "469/469 [==============================] - 3s 6ms/step - loss: 0.0255 - accuracy: 0.8392 - val_loss: 0.0341 - val_accuracy: 0.8534\n",
            "Epoch 17/100\n",
            "469/469 [==============================] - 3s 6ms/step - loss: 0.0240 - accuracy: 0.8452 - val_loss: 0.0305 - val_accuracy: 0.8557\n",
            "Epoch 18/100\n",
            "469/469 [==============================] - 3s 7ms/step - loss: 0.0227 - accuracy: 0.8517 - val_loss: 0.0293 - val_accuracy: 0.8853\n",
            "Epoch 19/100\n",
            "469/469 [==============================] - 3s 6ms/step - loss: 0.0191 - accuracy: 0.9182 - val_loss: 0.0212 - val_accuracy: 0.9592\n",
            "Epoch 20/100\n",
            "469/469 [==============================] - 3s 6ms/step - loss: 0.0147 - accuracy: 0.9470 - val_loss: 0.0212 - val_accuracy: 0.9596\n",
            "Epoch 21/100\n",
            "469/469 [==============================] - 3s 6ms/step - loss: 0.0132 - accuracy: 0.9493 - val_loss: 0.0168 - val_accuracy: 0.9654\n",
            "Epoch 22/100\n",
            "469/469 [==============================] - 3s 6ms/step - loss: 0.0122 - accuracy: 0.9537 - val_loss: 0.0207 - val_accuracy: 0.9690\n",
            "Epoch 23/100\n",
            "469/469 [==============================] - 3s 6ms/step - loss: 0.0115 - accuracy: 0.9556 - val_loss: 0.0184 - val_accuracy: 0.9722\n",
            "Epoch 24/100\n",
            "469/469 [==============================] - 3s 6ms/step - loss: 0.0107 - accuracy: 0.9602 - val_loss: 0.0164 - val_accuracy: 0.9685\n",
            "Epoch 25/100\n",
            "469/469 [==============================] - 3s 6ms/step - loss: 0.0103 - accuracy: 0.9609 - val_loss: 0.0173 - val_accuracy: 0.9686\n",
            "Epoch 26/100\n",
            "469/469 [==============================] - 3s 6ms/step - loss: 0.0097 - accuracy: 0.9629 - val_loss: 0.0184 - val_accuracy: 0.9727\n",
            "Epoch 27/100\n",
            "469/469 [==============================] - 3s 6ms/step - loss: 0.0093 - accuracy: 0.9645 - val_loss: 0.0162 - val_accuracy: 0.9712\n",
            "Epoch 28/100\n",
            "469/469 [==============================] - 3s 6ms/step - loss: 0.0089 - accuracy: 0.9664 - val_loss: 0.0133 - val_accuracy: 0.9768\n",
            "Epoch 29/100\n",
            "469/469 [==============================] - 3s 6ms/step - loss: 0.0085 - accuracy: 0.9676 - val_loss: 0.0175 - val_accuracy: 0.9765\n",
            "Epoch 30/100\n",
            "469/469 [==============================] - 3s 5ms/step - loss: 0.0083 - accuracy: 0.9685 - val_loss: 0.0165 - val_accuracy: 0.9740\n",
            "Epoch 31/100\n",
            "469/469 [==============================] - 3s 6ms/step - loss: 0.0080 - accuracy: 0.9693 - val_loss: 0.0147 - val_accuracy: 0.9777\n",
            "Epoch 32/100\n",
            "469/469 [==============================] - 3s 6ms/step - loss: 0.0078 - accuracy: 0.9697 - val_loss: 0.0116 - val_accuracy: 0.9756\n",
            "Epoch 33/100\n",
            "469/469 [==============================] - 3s 6ms/step - loss: 0.0074 - accuracy: 0.9710 - val_loss: 0.0129 - val_accuracy: 0.9788\n",
            "Epoch 34/100\n",
            "469/469 [==============================] - 3s 6ms/step - loss: 0.0072 - accuracy: 0.9716 - val_loss: 0.0123 - val_accuracy: 0.9803\n",
            "Epoch 35/100\n",
            "469/469 [==============================] - 3s 6ms/step - loss: 0.0070 - accuracy: 0.9728 - val_loss: 0.0090 - val_accuracy: 0.9810\n",
            "Epoch 36/100\n",
            "469/469 [==============================] - 3s 5ms/step - loss: 0.0069 - accuracy: 0.9732 - val_loss: 0.0103 - val_accuracy: 0.9802\n",
            "Epoch 37/100\n",
            "469/469 [==============================] - 3s 6ms/step - loss: 0.0067 - accuracy: 0.9733 - val_loss: 0.0096 - val_accuracy: 0.9809\n",
            "Epoch 38/100\n",
            "469/469 [==============================] - 3s 5ms/step - loss: 0.0064 - accuracy: 0.9748 - val_loss: 0.0127 - val_accuracy: 0.9779\n",
            "Epoch 39/100\n",
            "469/469 [==============================] - 3s 5ms/step - loss: 0.0064 - accuracy: 0.9750 - val_loss: 0.0119 - val_accuracy: 0.9801\n",
            "Epoch 40/100\n",
            "469/469 [==============================] - 3s 5ms/step - loss: 0.0062 - accuracy: 0.9747 - val_loss: 0.0100 - val_accuracy: 0.9847\n",
            "Epoch 41/100\n",
            "469/469 [==============================] - 3s 6ms/step - loss: 0.0061 - accuracy: 0.9760 - val_loss: 0.0069 - val_accuracy: 0.9823\n",
            "Epoch 42/100\n",
            "469/469 [==============================] - 3s 5ms/step - loss: 0.0060 - accuracy: 0.9756 - val_loss: 0.0089 - val_accuracy: 0.9857\n",
            "Epoch 43/100\n",
            "469/469 [==============================] - 3s 6ms/step - loss: 0.0059 - accuracy: 0.9759 - val_loss: 0.0113 - val_accuracy: 0.9824\n",
            "Epoch 44/100\n",
            "469/469 [==============================] - 3s 6ms/step - loss: 0.0057 - accuracy: 0.9763 - val_loss: 0.0097 - val_accuracy: 0.9802\n",
            "Epoch 45/100\n",
            "469/469 [==============================] - 3s 6ms/step - loss: 0.0057 - accuracy: 0.9764 - val_loss: 0.0098 - val_accuracy: 0.9832\n",
            "Epoch 46/100\n",
            "469/469 [==============================] - 3s 5ms/step - loss: 0.0057 - accuracy: 0.9765 - val_loss: 0.0095 - val_accuracy: 0.9841\n",
            "Epoch 47/100\n",
            "469/469 [==============================] - 3s 6ms/step - loss: 0.0055 - accuracy: 0.9772 - val_loss: 0.0082 - val_accuracy: 0.9799\n",
            "Epoch 48/100\n",
            "469/469 [==============================] - 3s 5ms/step - loss: 0.0055 - accuracy: 0.9777 - val_loss: 0.0130 - val_accuracy: 0.9843\n",
            "Epoch 49/100\n",
            "469/469 [==============================] - 3s 6ms/step - loss: 0.0053 - accuracy: 0.9779 - val_loss: 0.0087 - val_accuracy: 0.9771\n",
            "Epoch 50/100\n",
            "469/469 [==============================] - 3s 6ms/step - loss: 0.0053 - accuracy: 0.9772 - val_loss: 0.0100 - val_accuracy: 0.9834\n",
            "Epoch 51/100\n",
            "469/469 [==============================] - 3s 6ms/step - loss: 0.0053 - accuracy: 0.9774 - val_loss: 0.0080 - val_accuracy: 0.9837\n",
            "Epoch 52/100\n",
            "469/469 [==============================] - 3s 6ms/step - loss: 0.0052 - accuracy: 0.9776 - val_loss: 0.0089 - val_accuracy: 0.9847\n",
            "Epoch 53/100\n",
            "469/469 [==============================] - 3s 5ms/step - loss: 0.0051 - accuracy: 0.9779 - val_loss: 0.0066 - val_accuracy: 0.9819\n",
            "Epoch 54/100\n",
            "469/469 [==============================] - 3s 6ms/step - loss: 0.0050 - accuracy: 0.9783 - val_loss: 0.0068 - val_accuracy: 0.9854\n",
            "Epoch 55/100\n",
            "469/469 [==============================] - 3s 6ms/step - loss: 0.0049 - accuracy: 0.9785 - val_loss: 0.0078 - val_accuracy: 0.9864\n",
            "Epoch 56/100\n",
            "469/469 [==============================] - 3s 5ms/step - loss: 0.0048 - accuracy: 0.9798 - val_loss: 0.0086 - val_accuracy: 0.9844\n",
            "Epoch 57/100\n",
            "469/469 [==============================] - 3s 6ms/step - loss: 0.0051 - accuracy: 0.9781 - val_loss: 0.0095 - val_accuracy: 0.9839\n",
            "Epoch 58/100\n",
            "469/469 [==============================] - 3s 6ms/step - loss: 0.0049 - accuracy: 0.9790 - val_loss: 0.0062 - val_accuracy: 0.9833\n",
            "Epoch 59/100\n",
            "469/469 [==============================] - 3s 6ms/step - loss: 0.0047 - accuracy: 0.9797 - val_loss: 0.0085 - val_accuracy: 0.9847\n",
            "Epoch 60/100\n",
            "469/469 [==============================] - 3s 5ms/step - loss: 0.0047 - accuracy: 0.9800 - val_loss: 0.0055 - val_accuracy: 0.9856\n",
            "Epoch 61/100\n",
            "469/469 [==============================] - 3s 6ms/step - loss: 0.0057 - accuracy: 0.9755 - val_loss: 0.0085 - val_accuracy: 0.9778\n",
            "Epoch 62/100\n",
            "469/469 [==============================] - 3s 6ms/step - loss: 0.0050 - accuracy: 0.9779 - val_loss: 0.0081 - val_accuracy: 0.9820\n",
            "Epoch 63/100\n",
            "469/469 [==============================] - 3s 6ms/step - loss: 0.0045 - accuracy: 0.9806 - val_loss: 0.0063 - val_accuracy: 0.9843\n",
            "Epoch 64/100\n",
            "469/469 [==============================] - 3s 5ms/step - loss: 0.0046 - accuracy: 0.9799 - val_loss: 0.0067 - val_accuracy: 0.9837\n",
            "Epoch 65/100\n",
            "469/469 [==============================] - 3s 6ms/step - loss: 0.0046 - accuracy: 0.9797 - val_loss: 0.0075 - val_accuracy: 0.9851\n",
            "Epoch 66/100\n",
            "469/469 [==============================] - 3s 6ms/step - loss: 0.0044 - accuracy: 0.9805 - val_loss: 0.0071 - val_accuracy: 0.9846\n",
            "Epoch 67/100\n",
            "469/469 [==============================] - 3s 6ms/step - loss: 0.0046 - accuracy: 0.9795 - val_loss: 0.0054 - val_accuracy: 0.9877\n",
            "Epoch 68/100\n",
            "469/469 [==============================] - 3s 6ms/step - loss: 0.0044 - accuracy: 0.9806 - val_loss: 0.0055 - val_accuracy: 0.9847\n",
            "Epoch 69/100\n",
            "469/469 [==============================] - 3s 6ms/step - loss: 0.0044 - accuracy: 0.9808 - val_loss: 0.0070 - val_accuracy: 0.9853\n",
            "Epoch 70/100\n",
            "469/469 [==============================] - 3s 6ms/step - loss: 0.0046 - accuracy: 0.9805 - val_loss: 0.0052 - val_accuracy: 0.9883\n",
            "Epoch 71/100\n",
            "469/469 [==============================] - 3s 6ms/step - loss: 0.0044 - accuracy: 0.9805 - val_loss: 0.0058 - val_accuracy: 0.9860\n",
            "Epoch 72/100\n",
            "469/469 [==============================] - 3s 6ms/step - loss: 0.0044 - accuracy: 0.9811 - val_loss: 0.0068 - val_accuracy: 0.9831\n",
            "Epoch 73/100\n",
            "469/469 [==============================] - 3s 5ms/step - loss: 0.0044 - accuracy: 0.9803 - val_loss: 0.0043 - val_accuracy: 0.9885\n",
            "Epoch 74/100\n",
            "469/469 [==============================] - 3s 5ms/step - loss: 0.0044 - accuracy: 0.9811 - val_loss: 0.0043 - val_accuracy: 0.9876\n",
            "Epoch 75/100\n",
            "469/469 [==============================] - 3s 5ms/step - loss: 0.0043 - accuracy: 0.9806 - val_loss: 0.0063 - val_accuracy: 0.9864\n",
            "Epoch 76/100\n",
            "469/469 [==============================] - 3s 6ms/step - loss: 0.0042 - accuracy: 0.9819 - val_loss: 0.0056 - val_accuracy: 0.9862\n",
            "Epoch 77/100\n",
            "469/469 [==============================] - 4s 9ms/step - loss: 0.0050 - accuracy: 0.9787 - val_loss: 0.0063 - val_accuracy: 0.9859\n",
            "Epoch 78/100\n",
            "469/469 [==============================] - 3s 6ms/step - loss: 0.0042 - accuracy: 0.9815 - val_loss: 0.0052 - val_accuracy: 0.9865\n",
            "Epoch 79/100\n",
            "469/469 [==============================] - 3s 6ms/step - loss: 0.0041 - accuracy: 0.9819 - val_loss: 0.0058 - val_accuracy: 0.9839\n",
            "Epoch 80/100\n",
            "469/469 [==============================] - 3s 6ms/step - loss: 0.0043 - accuracy: 0.9807 - val_loss: 0.0049 - val_accuracy: 0.9868\n",
            "Epoch 81/100\n",
            "469/469 [==============================] - 3s 6ms/step - loss: 0.0042 - accuracy: 0.9817 - val_loss: 0.0061 - val_accuracy: 0.9813\n",
            "Epoch 82/100\n",
            "469/469 [==============================] - 3s 6ms/step - loss: 0.0042 - accuracy: 0.9815 - val_loss: 0.0043 - val_accuracy: 0.9886\n",
            "Epoch 83/100\n",
            "469/469 [==============================] - 3s 6ms/step - loss: 0.0041 - accuracy: 0.9816 - val_loss: 0.0048 - val_accuracy: 0.9867\n",
            "Epoch 84/100\n",
            "469/469 [==============================] - 3s 5ms/step - loss: 0.0047 - accuracy: 0.9794 - val_loss: 0.0053 - val_accuracy: 0.9876\n",
            "Epoch 85/100\n",
            "469/469 [==============================] - 3s 6ms/step - loss: 0.0041 - accuracy: 0.9819 - val_loss: 0.0040 - val_accuracy: 0.9860\n",
            "Epoch 86/100\n",
            "469/469 [==============================] - 3s 5ms/step - loss: 0.0041 - accuracy: 0.9819 - val_loss: 0.0040 - val_accuracy: 0.9877\n",
            "Epoch 87/100\n",
            "469/469 [==============================] - 3s 7ms/step - loss: 0.0040 - accuracy: 0.9824 - val_loss: 0.0048 - val_accuracy: 0.9865\n",
            "Epoch 88/100\n",
            "469/469 [==============================] - 3s 7ms/step - loss: 0.0041 - accuracy: 0.9816 - val_loss: 0.0068 - val_accuracy: 0.9813\n",
            "Epoch 89/100\n",
            "469/469 [==============================] - 3s 6ms/step - loss: 0.0040 - accuracy: 0.9822 - val_loss: 0.0043 - val_accuracy: 0.9865\n",
            "Epoch 90/100\n",
            "469/469 [==============================] - 3s 6ms/step - loss: 0.0041 - accuracy: 0.9821 - val_loss: 0.0043 - val_accuracy: 0.9884\n",
            "Epoch 91/100\n",
            "469/469 [==============================] - 3s 6ms/step - loss: 0.0039 - accuracy: 0.9833 - val_loss: 0.0045 - val_accuracy: 0.9869\n",
            "Epoch 92/100\n",
            "469/469 [==============================] - 3s 6ms/step - loss: 0.0039 - accuracy: 0.9825 - val_loss: 0.0047 - val_accuracy: 0.9875\n",
            "Epoch 93/100\n",
            "469/469 [==============================] - 3s 6ms/step - loss: 0.0039 - accuracy: 0.9823 - val_loss: 0.0053 - val_accuracy: 0.9853\n",
            "Epoch 94/100\n",
            "469/469 [==============================] - 3s 6ms/step - loss: 0.0040 - accuracy: 0.9824 - val_loss: 0.0051 - val_accuracy: 0.9871\n",
            "Epoch 95/100\n",
            "469/469 [==============================] - 3s 6ms/step - loss: 0.0041 - accuracy: 0.9819 - val_loss: 0.0053 - val_accuracy: 0.9887\n",
            "Epoch 96/100\n",
            "469/469 [==============================] - 3s 6ms/step - loss: 0.0039 - accuracy: 0.9826 - val_loss: 0.0048 - val_accuracy: 0.9896\n",
            "Epoch 97/100\n",
            "469/469 [==============================] - 3s 5ms/step - loss: 0.0039 - accuracy: 0.9824 - val_loss: 0.0053 - val_accuracy: 0.9853\n",
            "Epoch 98/100\n",
            "469/469 [==============================] - 3s 6ms/step - loss: 0.0039 - accuracy: 0.9832 - val_loss: 0.0051 - val_accuracy: 0.9874\n",
            "Epoch 99/100\n",
            "469/469 [==============================] - 3s 6ms/step - loss: 0.0041 - accuracy: 0.9818 - val_loss: 0.0066 - val_accuracy: 0.9870\n",
            "Epoch 100/100\n",
            "469/469 [==============================] - 3s 6ms/step - loss: 0.0040 - accuracy: 0.9823 - val_loss: 0.0051 - val_accuracy: 0.9858\n"
          ]
        }
      ]
    },
    {
      "cell_type": "code",
      "source": [
        "result = model2.evaluate(x_test, y_test, batch_size=64)\n",
        "print('test data loss:', result[0])\n",
        "print('test data accuracy:', result[1])"
      ],
      "metadata": {
        "id": "CPIwuhmDQgxl",
        "colab": {
          "base_uri": "https://localhost:8080/"
        },
        "outputId": "e907b673-aa26-4a9b-86a1-993528fe4ab2"
      },
      "execution_count": 17,
      "outputs": [
        {
          "output_type": "stream",
          "name": "stdout",
          "text": [
            "157/157 [==============================] - 0s 3ms/step - loss: 0.0051 - accuracy: 0.9858\n",
            "test data loss: 0.005119128152728081\n",
            "test data accuracy: 0.98580002784729\n"
          ]
        }
      ]
    }
  ]
}