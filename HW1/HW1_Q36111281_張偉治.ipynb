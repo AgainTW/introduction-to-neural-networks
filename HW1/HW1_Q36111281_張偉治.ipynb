{
  "cells": [
    {
      "cell_type": "markdown",
      "metadata": {
        "id": "CkwvS094n77N"
      },
      "source": [
        "# 1. Import packages"
      ]
    },
    {
      "cell_type": "code",
      "execution_count": 1,
      "metadata": {
        "colab": {
          "base_uri": "https://localhost:8080/"
        },
        "id": "DbBo51HCnfkH",
        "outputId": "41b41726-7072-40dd-b719-37b8550588f6"
      },
      "outputs": [
        {
          "output_type": "stream",
          "name": "stdout",
          "text": [
            "Tensorflow version: 2.8.2\n"
          ]
        }
      ],
      "source": [
        "import math\n",
        "import pandas as pd\n",
        "import numpy as np\n",
        "import seaborn as sns\n",
        "import matplotlib.pyplot as plt\n",
        "import tensorflow as tf\n",
        "from sklearn.model_selection import train_test_split\n",
        "from sklearn.preprocessing import StandardScaler\n",
        "from sklearn.metrics import confusion_matrix, classification_report\n",
        "\n",
        "%matplotlib inline\n",
        "\n",
        "print(f'Tensorflow version: {tf.__version__}')"
      ]
    },
    {
      "cell_type": "markdown",
      "metadata": {
        "id": "_R2Joft_pOYL"
      },
      "source": [
        "# 2. Download file\n",
        "\n",
        "If you cannot download file correctly, you can directly download file here : https://drive.google.com/file/d/1GuTgP9b462jWqfdx4AntFjhhinpxxcYW/view?usp=sharing"
      ]
    },
    {
      "cell_type": "code",
      "execution_count": null,
      "metadata": {
        "colab": {
          "base_uri": "https://localhost:8080/"
        },
        "id": "s9HXTdFnoWX4",
        "outputId": "3336ad46-976a-4d72-9360-7cfddab762f3"
      },
      "outputs": [
        {
          "output_type": "stream",
          "name": "stdout",
          "text": [
            "Downloading...\n",
            "From: https://drive.google.com/uc?id=1GuTgP9b462jWqfdx4AntFjhhinpxxcYW\n",
            "To: /content/winequality-red.csv\n",
            "\r  0% 0.00/101k [00:00<?, ?B/s]\r100% 101k/101k [00:00<00:00, 80.8MB/s]\n"
          ]
        }
      ],
      "source": [
        "!gdown 1GuTgP9b462jWqfdx4AntFjhhinpxxcYW"
      ]
    },
    {
      "cell_type": "markdown",
      "metadata": {
        "id": "wz0v73x7pqk9"
      },
      "source": [
        "# 3. Load file\n",
        "\n",
        "* Source: https://archive.ics.uci.edu/ml/datasets/wine+quality\n",
        "\n",
        "* Data Set Information:\n",
        "\n",
        "  The dataset is related to red variants of the Portuguese \"Vinho Verde\" wine. For more details, consult: https://www.vinhoverde.pt/en/ or the reference [Cortez et al., 2009]. Due to privacy and logistic issues, only physicochemical (inputs) and sensory (the output) variables are available (e.g. there is no data about grape types, wine brand, wine selling price, etc.).\n",
        "\n",
        "  These datasets can be viewed as classification or regression tasks. The classes are ordered and not balanced (e.g. there are many more normal wines than excellent or poor ones). Outlier detection algorithms could be used to detect the few excellent or poor wines. Also, we are not sure if all input variables are relevant. So it could be interesting to test feature selection methods.\n",
        "\n",
        "\n",
        "* Attribute Information:\n",
        "  For more information, read [Cortez et al., 2009].\n",
        "  * Input variables (based on physicochemical tests):\n",
        "    1. fixed acidity\n",
        "    2. volatile acidity\n",
        "    3. citric acid\n",
        "    4. residual sugar\n",
        "    5. chlorides\n",
        "    6. free sulfur dioxide\n",
        "    7. total sulfur dioxide\n",
        "    8. density\n",
        "    9. pH\n",
        "    10. sulphates\n",
        "    11. alcohol\n",
        "  * Output variable (based on sensory data):\n",
        "    12. quality (score between 0 and 10)"
      ]
    },
    {
      "cell_type": "code",
      "execution_count": 2,
      "metadata": {
        "colab": {
          "base_uri": "https://localhost:8080/",
          "height": 206
        },
        "id": "gYgWmBdippoX",
        "outputId": "95892e27-d39c-432d-fc8d-a0b9c562c6d6"
      },
      "outputs": [
        {
          "output_type": "execute_result",
          "data": {
            "text/plain": [
              "   fixed acidity  volatile acidity  citric acid  residual sugar  chlorides  \\\n",
              "0            7.4              0.70         0.00             1.9      0.076   \n",
              "1            7.8              0.88         0.00             2.6      0.098   \n",
              "2            7.8              0.76         0.04             2.3      0.092   \n",
              "3           11.2              0.28         0.56             1.9      0.075   \n",
              "4            7.4              0.70         0.00             1.9      0.076   \n",
              "\n",
              "   free sulfur dioxide  total sulfur dioxide  density    pH  sulphates  \\\n",
              "0                 11.0                  34.0   0.9978  3.51       0.56   \n",
              "1                 25.0                  67.0   0.9968  3.20       0.68   \n",
              "2                 15.0                  54.0   0.9970  3.26       0.65   \n",
              "3                 17.0                  60.0   0.9980  3.16       0.58   \n",
              "4                 11.0                  34.0   0.9978  3.51       0.56   \n",
              "\n",
              "   alcohol  quality  \n",
              "0      9.4        5  \n",
              "1      9.8        5  \n",
              "2      9.8        5  \n",
              "3      9.8        6  \n",
              "4      9.4        5  "
            ],
            "text/html": [
              "\n",
              "  <div id=\"df-b70cc9d8-ff75-4a1a-9c80-9f638f19a127\">\n",
              "    <div class=\"colab-df-container\">\n",
              "      <div>\n",
              "<style scoped>\n",
              "    .dataframe tbody tr th:only-of-type {\n",
              "        vertical-align: middle;\n",
              "    }\n",
              "\n",
              "    .dataframe tbody tr th {\n",
              "        vertical-align: top;\n",
              "    }\n",
              "\n",
              "    .dataframe thead th {\n",
              "        text-align: right;\n",
              "    }\n",
              "</style>\n",
              "<table border=\"1\" class=\"dataframe\">\n",
              "  <thead>\n",
              "    <tr style=\"text-align: right;\">\n",
              "      <th></th>\n",
              "      <th>fixed acidity</th>\n",
              "      <th>volatile acidity</th>\n",
              "      <th>citric acid</th>\n",
              "      <th>residual sugar</th>\n",
              "      <th>chlorides</th>\n",
              "      <th>free sulfur dioxide</th>\n",
              "      <th>total sulfur dioxide</th>\n",
              "      <th>density</th>\n",
              "      <th>pH</th>\n",
              "      <th>sulphates</th>\n",
              "      <th>alcohol</th>\n",
              "      <th>quality</th>\n",
              "    </tr>\n",
              "  </thead>\n",
              "  <tbody>\n",
              "    <tr>\n",
              "      <th>0</th>\n",
              "      <td>7.4</td>\n",
              "      <td>0.70</td>\n",
              "      <td>0.00</td>\n",
              "      <td>1.9</td>\n",
              "      <td>0.076</td>\n",
              "      <td>11.0</td>\n",
              "      <td>34.0</td>\n",
              "      <td>0.9978</td>\n",
              "      <td>3.51</td>\n",
              "      <td>0.56</td>\n",
              "      <td>9.4</td>\n",
              "      <td>5</td>\n",
              "    </tr>\n",
              "    <tr>\n",
              "      <th>1</th>\n",
              "      <td>7.8</td>\n",
              "      <td>0.88</td>\n",
              "      <td>0.00</td>\n",
              "      <td>2.6</td>\n",
              "      <td>0.098</td>\n",
              "      <td>25.0</td>\n",
              "      <td>67.0</td>\n",
              "      <td>0.9968</td>\n",
              "      <td>3.20</td>\n",
              "      <td>0.68</td>\n",
              "      <td>9.8</td>\n",
              "      <td>5</td>\n",
              "    </tr>\n",
              "    <tr>\n",
              "      <th>2</th>\n",
              "      <td>7.8</td>\n",
              "      <td>0.76</td>\n",
              "      <td>0.04</td>\n",
              "      <td>2.3</td>\n",
              "      <td>0.092</td>\n",
              "      <td>15.0</td>\n",
              "      <td>54.0</td>\n",
              "      <td>0.9970</td>\n",
              "      <td>3.26</td>\n",
              "      <td>0.65</td>\n",
              "      <td>9.8</td>\n",
              "      <td>5</td>\n",
              "    </tr>\n",
              "    <tr>\n",
              "      <th>3</th>\n",
              "      <td>11.2</td>\n",
              "      <td>0.28</td>\n",
              "      <td>0.56</td>\n",
              "      <td>1.9</td>\n",
              "      <td>0.075</td>\n",
              "      <td>17.0</td>\n",
              "      <td>60.0</td>\n",
              "      <td>0.9980</td>\n",
              "      <td>3.16</td>\n",
              "      <td>0.58</td>\n",
              "      <td>9.8</td>\n",
              "      <td>6</td>\n",
              "    </tr>\n",
              "    <tr>\n",
              "      <th>4</th>\n",
              "      <td>7.4</td>\n",
              "      <td>0.70</td>\n",
              "      <td>0.00</td>\n",
              "      <td>1.9</td>\n",
              "      <td>0.076</td>\n",
              "      <td>11.0</td>\n",
              "      <td>34.0</td>\n",
              "      <td>0.9978</td>\n",
              "      <td>3.51</td>\n",
              "      <td>0.56</td>\n",
              "      <td>9.4</td>\n",
              "      <td>5</td>\n",
              "    </tr>\n",
              "  </tbody>\n",
              "</table>\n",
              "</div>\n",
              "      <button class=\"colab-df-convert\" onclick=\"convertToInteractive('df-b70cc9d8-ff75-4a1a-9c80-9f638f19a127')\"\n",
              "              title=\"Convert this dataframe to an interactive table.\"\n",
              "              style=\"display:none;\">\n",
              "        \n",
              "  <svg xmlns=\"http://www.w3.org/2000/svg\" height=\"24px\"viewBox=\"0 0 24 24\"\n",
              "       width=\"24px\">\n",
              "    <path d=\"M0 0h24v24H0V0z\" fill=\"none\"/>\n",
              "    <path d=\"M18.56 5.44l.94 2.06.94-2.06 2.06-.94-2.06-.94-.94-2.06-.94 2.06-2.06.94zm-11 1L8.5 8.5l.94-2.06 2.06-.94-2.06-.94L8.5 2.5l-.94 2.06-2.06.94zm10 10l.94 2.06.94-2.06 2.06-.94-2.06-.94-.94-2.06-.94 2.06-2.06.94z\"/><path d=\"M17.41 7.96l-1.37-1.37c-.4-.4-.92-.59-1.43-.59-.52 0-1.04.2-1.43.59L10.3 9.45l-7.72 7.72c-.78.78-.78 2.05 0 2.83L4 21.41c.39.39.9.59 1.41.59.51 0 1.02-.2 1.41-.59l7.78-7.78 2.81-2.81c.8-.78.8-2.07 0-2.86zM5.41 20L4 18.59l7.72-7.72 1.47 1.35L5.41 20z\"/>\n",
              "  </svg>\n",
              "      </button>\n",
              "      \n",
              "  <style>\n",
              "    .colab-df-container {\n",
              "      display:flex;\n",
              "      flex-wrap:wrap;\n",
              "      gap: 12px;\n",
              "    }\n",
              "\n",
              "    .colab-df-convert {\n",
              "      background-color: #E8F0FE;\n",
              "      border: none;\n",
              "      border-radius: 50%;\n",
              "      cursor: pointer;\n",
              "      display: none;\n",
              "      fill: #1967D2;\n",
              "      height: 32px;\n",
              "      padding: 0 0 0 0;\n",
              "      width: 32px;\n",
              "    }\n",
              "\n",
              "    .colab-df-convert:hover {\n",
              "      background-color: #E2EBFA;\n",
              "      box-shadow: 0px 1px 2px rgba(60, 64, 67, 0.3), 0px 1px 3px 1px rgba(60, 64, 67, 0.15);\n",
              "      fill: #174EA6;\n",
              "    }\n",
              "\n",
              "    [theme=dark] .colab-df-convert {\n",
              "      background-color: #3B4455;\n",
              "      fill: #D2E3FC;\n",
              "    }\n",
              "\n",
              "    [theme=dark] .colab-df-convert:hover {\n",
              "      background-color: #434B5C;\n",
              "      box-shadow: 0px 1px 3px 1px rgba(0, 0, 0, 0.15);\n",
              "      filter: drop-shadow(0px 1px 2px rgba(0, 0, 0, 0.3));\n",
              "      fill: #FFFFFF;\n",
              "    }\n",
              "  </style>\n",
              "\n",
              "      <script>\n",
              "        const buttonEl =\n",
              "          document.querySelector('#df-b70cc9d8-ff75-4a1a-9c80-9f638f19a127 button.colab-df-convert');\n",
              "        buttonEl.style.display =\n",
              "          google.colab.kernel.accessAllowed ? 'block' : 'none';\n",
              "\n",
              "        async function convertToInteractive(key) {\n",
              "          const element = document.querySelector('#df-b70cc9d8-ff75-4a1a-9c80-9f638f19a127');\n",
              "          const dataTable =\n",
              "            await google.colab.kernel.invokeFunction('convertToInteractive',\n",
              "                                                     [key], {});\n",
              "          if (!dataTable) return;\n",
              "\n",
              "          const docLinkHtml = 'Like what you see? Visit the ' +\n",
              "            '<a target=\"_blank\" href=https://colab.research.google.com/notebooks/data_table.ipynb>data table notebook</a>'\n",
              "            + ' to learn more about interactive tables.';\n",
              "          element.innerHTML = '';\n",
              "          dataTable['output_type'] = 'display_data';\n",
              "          await google.colab.output.renderOutput(dataTable, element);\n",
              "          const docLink = document.createElement('div');\n",
              "          docLink.innerHTML = docLinkHtml;\n",
              "          element.appendChild(docLink);\n",
              "        }\n",
              "      </script>\n",
              "    </div>\n",
              "  </div>\n",
              "  "
            ]
          },
          "metadata": {},
          "execution_count": 2
        }
      ],
      "source": [
        "wine_data = pd.read_csv('winequality-red.csv')\n",
        "wine_data.head(5)"
      ]
    },
    {
      "cell_type": "markdown",
      "metadata": {
        "id": "KTNZgUgxvem5"
      },
      "source": [
        "## 3.1.1 Change quality to 0 and 1\n",
        "To simply the problem, we transfer quality to two class: bad and good. <br>\n",
        "If quality <= 5: bad (0)<br>\n",
        "If quality > 5: good (1)"
      ]
    },
    {
      "cell_type": "code",
      "execution_count": 3,
      "metadata": {
        "id": "2Cq8tK2-vFp1"
      },
      "outputs": [],
      "source": [
        "wine_data['quality'] = wine_data['quality'].apply(lambda x: 1 if x > 5 else 0)"
      ]
    },
    {
      "cell_type": "code",
      "execution_count": 4,
      "metadata": {
        "colab": {
          "base_uri": "https://localhost:8080/",
          "height": 331
        },
        "id": "ahHa9VtItu5A",
        "outputId": "b91bd91c-0850-4507-f394-b0bfefb61608"
      },
      "outputs": [
        {
          "output_type": "stream",
          "name": "stdout",
          "text": [
            "1    855\n",
            "0    744\n",
            "Name: quality, dtype: int64\n"
          ]
        },
        {
          "output_type": "execute_result",
          "data": {
            "text/plain": [
              "<matplotlib.axes._subplots.AxesSubplot at 0x7f3c1fc2b790>"
            ]
          },
          "metadata": {},
          "execution_count": 4
        },
        {
          "output_type": "display_data",
          "data": {
            "text/plain": [
              "<Figure size 432x288 with 1 Axes>"
            ],
            "image/png": "[encoded data removed]"
          },
          "metadata": {
            "needs_background": "light"
          }
        }
      ],
      "source": [
        "print(wine_data['quality'].value_counts())\n",
        "wine_data['quality'].value_counts().plot(kind='bar')"
      ]
    },
    {
      "cell_type": "markdown",
      "metadata": {
        "id": "bLCZAMXHiTxi"
      },
      "source": [
        "## 3.1.2 data analysis(要跑很久，別隨便執行)\n",
        "將資料視覺化後\n",
        "可推論volatile acidity、total sulfur dioxide、sulphates及alcohol(1,6,9,10)為較重要的特徵\n",
        "(0,2,3,4,5,7,8)為較不重要的特徵"
      ]
    },
    {
      "cell_type": "code",
      "execution_count": null,
      "metadata": {
        "id": "NRv4AbxQiTjK"
      },
      "outputs": [],
      "source": [
        "sns.pairplot(wine_data,hue=\"quality\")"
      ]
    },
    {
      "cell_type": "markdown",
      "metadata": {
        "id": "VxLiYSzzwQF2"
      },
      "source": [
        "## 3.2 Split input and output\n"
      ]
    },
    {
      "cell_type": "code",
      "execution_count": 29,
      "metadata": {
        "id": "97i73EMBsRym",
        "colab": {
          "base_uri": "https://localhost:8080/"
        },
        "outputId": "3e29b27f-659d-4e19-c30c-9c0e10e1980a"
      },
      "outputs": [
        {
          "output_type": "stream",
          "name": "stdout",
          "text": [
            "Columns of input: ['fixed acidity', 'volatile acidity', 'citric acid', 'residual sugar', 'chlorides', 'free sulfur dioxide', 'total sulfur dioxide', 'density', 'pH', 'sulphates', 'alcohol']\n",
            "Columns of output: quality\n",
            "Shape of input: (1599, 11)\n",
            "Shape of output: (1599,)\n"
          ]
        }
      ],
      "source": [
        "x = wine_data.iloc[:, :-1]\n",
        "y = wine_data.iloc[:, -1]\n",
        "\n",
        "print(f\"Columns of input: {list(x.columns)}\")\n",
        "print(f\"Columns of output: {y.name}\")\n",
        "print(f\"Shape of input: {x.shape}\")\n",
        "print(f\"Shape of output: {y.shape}\")"
      ]
    },
    {
      "cell_type": "markdown",
      "source": [
        "## 3.2.2 only input important feature(暫時淘汰方案)\n",
        "只取volatile acidity、total sulfur dioxide、sulphates及alcohol四個feature"
      ],
      "metadata": {
        "id": "5Up9af9PqLab"
      }
    },
    {
      "cell_type": "code",
      "source": [
        "x1 = wine_data.iloc[:,[1,6,9,10]]\n",
        "y1 = wine_data.iloc[:, -1]\n",
        "\n",
        "print(f\"Columns of input: {list(x.columns)}\")\n",
        "print(f\"Columns of output: {y.name}\")\n",
        "print(f\"Shape of input: {x.shape}\")\n",
        "print(f\"Shape of output: {y.shape}\")"
      ],
      "metadata": {
        "id": "8_FOIledqLRj"
      },
      "execution_count": null,
      "outputs": []
    },
    {
      "cell_type": "markdown",
      "source": [
        "## 3.2.3 add new feature by mix two original feature\n",
        "以下指令合法\n",
        "print(wine_data.iloc[:,[0]])\n",
        "g = wine_data.iloc[:,[0]]*wine_data.iloc[:,[0]]\n",
        "print(g)"
      ],
      "metadata": {
        "id": "qcO_4P_2Bk7b"
      }
    },
    {
      "cell_type": "code",
      "source": [
        "a10 = wine_data\n",
        "a100 = a10.to_numpy()\n",
        "\n",
        "for i in range(11):\n",
        "  for j in range(i+1,11):\n",
        "    x.insert(11, \"insert\", (a100[:,i]**2+a100[:,j]**2)/4 , allow_duplicates=True)"
      ],
      "metadata": {
        "id": "oopFs6xtBkwz"
      },
      "execution_count": 30,
      "outputs": []
    },
    {
      "cell_type": "code",
      "source": [
        "print(x)"
      ],
      "metadata": {
        "id": "gCbbDf6pKUtJ"
      },
      "execution_count": null,
      "outputs": []
    },
    {
      "cell_type": "markdown",
      "metadata": {
        "id": "eyEdPyAkyybx"
      },
      "source": [
        "## 3.3 Split train and test data"
      ]
    },
    {
      "cell_type": "code",
      "execution_count": 31,
      "metadata": {
        "colab": {
          "base_uri": "https://localhost:8080/"
        },
        "id": "yccDqvRyx8n2",
        "outputId": "1deffe8d-0a03-4e0e-d2c7-4e8a1ffd21f8"
      },
      "outputs": [
        {
          "output_type": "stream",
          "name": "stdout",
          "text": [
            "Shape of x_train: (1279, 66)\n",
            "Shape of x_test: (320, 66)\n",
            "Shape of y_train: (1279,)\n",
            "Shape of y_test: (320,)\n"
          ]
        }
      ],
      "source": [
        "from sklearn.model_selection import train_test_split\n",
        "\n",
        "x_train, x_test, y_train, y_test = train_test_split(x, y, test_size=0.2, random_state=1234)\n",
        "\n",
        "print(f\"Shape of x_train: {x_train.shape}\")\n",
        "print(f\"Shape of x_test: {x_test.shape}\")\n",
        "print(f\"Shape of y_train: {y_train.shape}\")\n",
        "print(f\"Shape of y_test: {y_test.shape}\")"
      ]
    },
    {
      "cell_type": "markdown",
      "metadata": {
        "id": "tOiKok5Lzlzg"
      },
      "source": [
        "## 3.4 Normalize data\n",
        "\n",
        "Simply using [StandardScaler](https://scikit-learn.org/stable/modules/generated/sklearn.preprocessing.StandardScaler.html)"
      ]
    },
    {
      "cell_type": "code",
      "source": [
        "#廢棄方案：將特定資料先取平方\n",
        "#平方後再正規化\n",
        "#進model前和進入後資料型態不同\n",
        "x_train.iloc[:,[0,2,3,4,5,7,8]] = x_train.iloc[:,[0,2,3,4,5,7,8]]**2\n",
        "x_test.iloc[:,[0,2,3,4,5,7,8]] = x_test.iloc[:,[0,2,3,4,5,7,8]]**2\n",
        "\n",
        "x_train.iloc[:,[1,6,9,10]] = x_train.iloc[:,[1,6,9,10]]**2\n",
        "x_test.iloc[:,[1,6,9,10]] = x_test.iloc[:,[1,6,9,10]]**2"
      ],
      "metadata": {
        "id": "XMkN3ByWAgf3"
      },
      "execution_count": null,
      "outputs": []
    },
    {
      "cell_type": "code",
      "execution_count": 32,
      "metadata": {
        "id": "Xxj3pNVzyfbx"
      },
      "outputs": [],
      "source": [
        "scaler = StandardScaler()\n",
        "x_train = scaler.fit_transform(x_train)\n",
        "x_test = scaler.transform(x_test)"
      ]
    },
    {
      "cell_type": "code",
      "source": [
        "#廢棄方案：將資料獨立賦予權重\n",
        "weight = 1.0\n",
        "x_train[:,[1,6,9,10]] = weight * x_train[:,[1,6,9,10]]**2\n",
        "x_test[:,[1,6,9,10]] = weight * x_test[:,[1,6,9,10]]**2"
      ],
      "metadata": {
        "id": "URrXZxjhuh66"
      },
      "execution_count": null,
      "outputs": []
    },
    {
      "cell_type": "markdown",
      "metadata": {
        "id": "uKUZCVBG0oY_"
      },
      "source": [
        "# 4. Build model"
      ]
    },
    {
      "cell_type": "code",
      "execution_count": 33,
      "metadata": {
        "colab": {
          "base_uri": "https://localhost:8080/"
        },
        "id": "EKDMJUGezCAH",
        "outputId": "fc731276-a284-4758-c42f-9a7980114b91"
      },
      "outputs": [
        {
          "output_type": "stream",
          "name": "stdout",
          "text": [
            "Model: \"sequential_5\"\n",
            "_________________________________________________________________\n",
            " Layer (type)                Output Shape              Param #   \n",
            "=================================================================\n",
            " dense_21 (Dense)            (None, 128)               8576      \n",
            "                                                                 \n",
            " dense_22 (Dense)            (None, 64)                8256      \n",
            "                                                                 \n",
            " dense_23 (Dense)            (None, 32)                2080      \n",
            "                                                                 \n",
            " dense_24 (Dense)            (None, 16)                528       \n",
            "                                                                 \n",
            " dense_25 (Dense)            (None, 2)                 34        \n",
            "                                                                 \n",
            "=================================================================\n",
            "Total params: 19,474\n",
            "Trainable params: 19,474\n",
            "Non-trainable params: 0\n",
            "_________________________________________________________________\n"
          ]
        }
      ],
      "source": [
        "# You can change the structure of the model here\n",
        "del model \n",
        "model = tf.keras.models.Sequential([\n",
        "  tf.keras.layers.Dense(units=128, input_shape=(x_train.shape[1],), activation='elu'),\n",
        "  tf.keras.layers.Dense(units=64, activation='relu'),\n",
        "  tf.keras.layers.Dense(units=32, activation='relu'),\n",
        "  tf.keras.layers.Dense(units=16, activation='relu'),\n",
        "  tf.keras.layers.Dense(units=2, activation='softmax')\n",
        "])\n",
        "\n",
        "# You can change the optimizer here (ref: https://www.tensorflow.org/api_docs/python/tf/keras/optimizers)\n",
        "model.compile(optimizer='sgd', loss='sparse_categorical_crossentropy', metrics=['accuracy'])\n",
        "model.summary()"
      ]
    },
    {
      "cell_type": "markdown",
      "metadata": {
        "id": "KT6IGWTo1U2s"
      },
      "source": [
        "## 4.1. Setting callback function"
      ]
    },
    {
      "cell_type": "code",
      "execution_count": 34,
      "metadata": {
        "id": "f7w7WvLl1T0f"
      },
      "outputs": [],
      "source": [
        "early_stopping = tf.keras.callbacks.EarlyStopping(\n",
        "    min_delta=0.001, # minimium amount of change to count as an improvement\n",
        "    patience=20, # how many epochs to wait before stopping\n",
        "    restore_best_weights=True,\n",
        ")"
      ]
    },
    {
      "cell_type": "markdown",
      "metadata": {
        "id": "_qDvDC9i2Bbg"
      },
      "source": [
        "# 5. Train model"
      ]
    },
    {
      "cell_type": "code",
      "execution_count": 35,
      "metadata": {
        "colab": {
          "base_uri": "https://localhost:8080/"
        },
        "id": "gOt971SX2DHY",
        "outputId": "3758e7f4-ff64-499c-cccb-3a48cce6ef7c"
      },
      "outputs": [
        {
          "output_type": "stream",
          "name": "stdout",
          "text": [
            "Epoch 1/100\n",
            "20/20 [==============================] - 1s 13ms/step - loss: 0.6627 - accuracy: 0.6075 - val_loss: 0.6212 - val_accuracy: 0.7063\n",
            "Epoch 2/100\n",
            "20/20 [==============================] - 0s 4ms/step - loss: 0.6234 - accuracy: 0.6935 - val_loss: 0.5935 - val_accuracy: 0.7312\n",
            "Epoch 3/100\n",
            "20/20 [==============================] - 0s 4ms/step - loss: 0.6003 - accuracy: 0.7232 - val_loss: 0.5736 - val_accuracy: 0.7281\n",
            "Epoch 4/100\n",
            "20/20 [==============================] - 0s 4ms/step - loss: 0.5822 - accuracy: 0.7381 - val_loss: 0.5580 - val_accuracy: 0.7437\n",
            "Epoch 5/100\n",
            "20/20 [==============================] - 0s 4ms/step - loss: 0.5676 - accuracy: 0.7428 - val_loss: 0.5454 - val_accuracy: 0.7531\n",
            "Epoch 6/100\n",
            "20/20 [==============================] - 0s 4ms/step - loss: 0.5562 - accuracy: 0.7404 - val_loss: 0.5358 - val_accuracy: 0.7531\n",
            "Epoch 7/100\n",
            "20/20 [==============================] - 0s 4ms/step - loss: 0.5476 - accuracy: 0.7404 - val_loss: 0.5284 - val_accuracy: 0.7563\n",
            "Epoch 8/100\n",
            "20/20 [==============================] - 0s 5ms/step - loss: 0.5400 - accuracy: 0.7412 - val_loss: 0.5222 - val_accuracy: 0.7563\n",
            "Epoch 9/100\n",
            "20/20 [==============================] - 0s 4ms/step - loss: 0.5336 - accuracy: 0.7459 - val_loss: 0.5168 - val_accuracy: 0.7688\n",
            "Epoch 10/100\n",
            "20/20 [==============================] - 0s 4ms/step - loss: 0.5282 - accuracy: 0.7475 - val_loss: 0.5123 - val_accuracy: 0.7750\n",
            "Epoch 11/100\n",
            "20/20 [==============================] - 0s 4ms/step - loss: 0.5233 - accuracy: 0.7490 - val_loss: 0.5079 - val_accuracy: 0.7750\n",
            "Epoch 12/100\n",
            "20/20 [==============================] - 0s 4ms/step - loss: 0.5191 - accuracy: 0.7529 - val_loss: 0.5039 - val_accuracy: 0.7688\n",
            "Epoch 13/100\n",
            "20/20 [==============================] - 0s 3ms/step - loss: 0.5156 - accuracy: 0.7506 - val_loss: 0.5013 - val_accuracy: 0.7719\n",
            "Epoch 14/100\n",
            "20/20 [==============================] - 0s 5ms/step - loss: 0.5121 - accuracy: 0.7545 - val_loss: 0.4983 - val_accuracy: 0.7688\n",
            "Epoch 15/100\n",
            "20/20 [==============================] - 0s 4ms/step - loss: 0.5090 - accuracy: 0.7537 - val_loss: 0.4964 - val_accuracy: 0.7750\n",
            "Epoch 16/100\n",
            "20/20 [==============================] - 0s 4ms/step - loss: 0.5062 - accuracy: 0.7584 - val_loss: 0.4932 - val_accuracy: 0.7750\n",
            "Epoch 17/100\n",
            "20/20 [==============================] - 0s 4ms/step - loss: 0.5030 - accuracy: 0.7576 - val_loss: 0.4900 - val_accuracy: 0.7781\n",
            "Epoch 18/100\n",
            "20/20 [==============================] - 0s 3ms/step - loss: 0.5003 - accuracy: 0.7608 - val_loss: 0.4889 - val_accuracy: 0.7844\n",
            "Epoch 19/100\n",
            "20/20 [==============================] - 0s 4ms/step - loss: 0.4976 - accuracy: 0.7631 - val_loss: 0.4872 - val_accuracy: 0.7812\n",
            "Epoch 20/100\n",
            "20/20 [==============================] - 0s 4ms/step - loss: 0.4953 - accuracy: 0.7654 - val_loss: 0.4855 - val_accuracy: 0.7781\n",
            "Epoch 21/100\n",
            "20/20 [==============================] - 0s 4ms/step - loss: 0.4926 - accuracy: 0.7639 - val_loss: 0.4818 - val_accuracy: 0.7844\n",
            "Epoch 22/100\n",
            "20/20 [==============================] - 0s 4ms/step - loss: 0.4902 - accuracy: 0.7709 - val_loss: 0.4808 - val_accuracy: 0.7875\n",
            "Epoch 23/100\n",
            "20/20 [==============================] - 0s 4ms/step - loss: 0.4879 - accuracy: 0.7670 - val_loss: 0.4795 - val_accuracy: 0.7875\n",
            "Epoch 24/100\n",
            "20/20 [==============================] - 0s 4ms/step - loss: 0.4858 - accuracy: 0.7670 - val_loss: 0.4776 - val_accuracy: 0.7812\n",
            "Epoch 25/100\n",
            "20/20 [==============================] - 0s 4ms/step - loss: 0.4837 - accuracy: 0.7694 - val_loss: 0.4765 - val_accuracy: 0.7812\n",
            "Epoch 26/100\n",
            "20/20 [==============================] - 0s 3ms/step - loss: 0.4822 - accuracy: 0.7701 - val_loss: 0.4748 - val_accuracy: 0.7781\n",
            "Epoch 27/100\n",
            "20/20 [==============================] - 0s 4ms/step - loss: 0.4800 - accuracy: 0.7678 - val_loss: 0.4727 - val_accuracy: 0.7781\n",
            "Epoch 28/100\n",
            "20/20 [==============================] - 0s 4ms/step - loss: 0.4780 - accuracy: 0.7694 - val_loss: 0.4696 - val_accuracy: 0.7906\n",
            "Epoch 29/100\n",
            "20/20 [==============================] - 0s 3ms/step - loss: 0.4762 - accuracy: 0.7686 - val_loss: 0.4691 - val_accuracy: 0.7812\n",
            "Epoch 30/100\n",
            "20/20 [==============================] - 0s 4ms/step - loss: 0.4745 - accuracy: 0.7717 - val_loss: 0.4671 - val_accuracy: 0.7844\n",
            "Epoch 31/100\n",
            "20/20 [==============================] - 0s 4ms/step - loss: 0.4725 - accuracy: 0.7772 - val_loss: 0.4657 - val_accuracy: 0.7906\n",
            "Epoch 32/100\n",
            "20/20 [==============================] - 0s 3ms/step - loss: 0.4710 - accuracy: 0.7748 - val_loss: 0.4633 - val_accuracy: 0.7875\n",
            "Epoch 33/100\n",
            "20/20 [==============================] - 0s 3ms/step - loss: 0.4688 - accuracy: 0.7756 - val_loss: 0.4636 - val_accuracy: 0.7844\n",
            "Epoch 34/100\n",
            "20/20 [==============================] - 0s 4ms/step - loss: 0.4676 - accuracy: 0.7772 - val_loss: 0.4616 - val_accuracy: 0.7844\n",
            "Epoch 35/100\n",
            "20/20 [==============================] - 0s 4ms/step - loss: 0.4660 - accuracy: 0.7733 - val_loss: 0.4598 - val_accuracy: 0.7906\n",
            "Epoch 36/100\n",
            "20/20 [==============================] - 0s 3ms/step - loss: 0.4644 - accuracy: 0.7811 - val_loss: 0.4603 - val_accuracy: 0.7844\n",
            "Epoch 37/100\n",
            "20/20 [==============================] - 0s 4ms/step - loss: 0.4632 - accuracy: 0.7795 - val_loss: 0.4586 - val_accuracy: 0.7812\n",
            "Epoch 38/100\n",
            "20/20 [==============================] - 0s 4ms/step - loss: 0.4621 - accuracy: 0.7803 - val_loss: 0.4572 - val_accuracy: 0.7844\n",
            "Epoch 39/100\n",
            "20/20 [==============================] - 0s 4ms/step - loss: 0.4598 - accuracy: 0.7787 - val_loss: 0.4552 - val_accuracy: 0.7844\n",
            "Epoch 40/100\n",
            "20/20 [==============================] - 0s 4ms/step - loss: 0.4586 - accuracy: 0.7787 - val_loss: 0.4547 - val_accuracy: 0.7875\n",
            "Epoch 41/100\n",
            "20/20 [==============================] - 0s 4ms/step - loss: 0.4572 - accuracy: 0.7826 - val_loss: 0.4541 - val_accuracy: 0.7937\n",
            "Epoch 42/100\n",
            "20/20 [==============================] - 0s 4ms/step - loss: 0.4555 - accuracy: 0.7873 - val_loss: 0.4551 - val_accuracy: 0.7906\n",
            "Epoch 43/100\n",
            "20/20 [==============================] - 0s 4ms/step - loss: 0.4545 - accuracy: 0.7834 - val_loss: 0.4533 - val_accuracy: 0.7875\n",
            "Epoch 44/100\n",
            "20/20 [==============================] - 0s 4ms/step - loss: 0.4533 - accuracy: 0.7819 - val_loss: 0.4520 - val_accuracy: 0.7875\n",
            "Epoch 45/100\n",
            "20/20 [==============================] - 0s 3ms/step - loss: 0.4515 - accuracy: 0.7850 - val_loss: 0.4512 - val_accuracy: 0.7875\n",
            "Epoch 46/100\n",
            "20/20 [==============================] - 0s 3ms/step - loss: 0.4506 - accuracy: 0.7850 - val_loss: 0.4510 - val_accuracy: 0.7844\n",
            "Epoch 47/100\n",
            "20/20 [==============================] - 0s 3ms/step - loss: 0.4489 - accuracy: 0.7881 - val_loss: 0.4512 - val_accuracy: 0.7844\n",
            "Epoch 48/100\n",
            "20/20 [==============================] - 0s 3ms/step - loss: 0.4474 - accuracy: 0.7842 - val_loss: 0.4508 - val_accuracy: 0.7875\n",
            "Epoch 49/100\n",
            "20/20 [==============================] - 0s 4ms/step - loss: 0.4462 - accuracy: 0.7866 - val_loss: 0.4489 - val_accuracy: 0.7937\n",
            "Epoch 50/100\n",
            "20/20 [==============================] - 0s 3ms/step - loss: 0.4446 - accuracy: 0.7858 - val_loss: 0.4506 - val_accuracy: 0.7781\n",
            "Epoch 51/100\n",
            "20/20 [==============================] - 0s 3ms/step - loss: 0.4432 - accuracy: 0.7873 - val_loss: 0.4477 - val_accuracy: 0.7906\n",
            "Epoch 52/100\n",
            "20/20 [==============================] - 0s 4ms/step - loss: 0.4420 - accuracy: 0.7905 - val_loss: 0.4464 - val_accuracy: 0.7906\n",
            "Epoch 53/100\n",
            "20/20 [==============================] - 0s 4ms/step - loss: 0.4410 - accuracy: 0.7897 - val_loss: 0.4478 - val_accuracy: 0.7875\n",
            "Epoch 54/100\n",
            "20/20 [==============================] - 0s 3ms/step - loss: 0.4393 - accuracy: 0.7912 - val_loss: 0.4441 - val_accuracy: 0.7875\n",
            "Epoch 55/100\n",
            "20/20 [==============================] - 0s 4ms/step - loss: 0.4383 - accuracy: 0.7959 - val_loss: 0.4450 - val_accuracy: 0.7844\n",
            "Epoch 56/100\n",
            "20/20 [==============================] - 0s 4ms/step - loss: 0.4369 - accuracy: 0.7967 - val_loss: 0.4441 - val_accuracy: 0.7844\n",
            "Epoch 57/100\n",
            "20/20 [==============================] - 0s 4ms/step - loss: 0.4358 - accuracy: 0.7952 - val_loss: 0.4422 - val_accuracy: 0.7875\n",
            "Epoch 58/100\n",
            "20/20 [==============================] - 0s 4ms/step - loss: 0.4344 - accuracy: 0.7936 - val_loss: 0.4451 - val_accuracy: 0.7844\n",
            "Epoch 59/100\n",
            "20/20 [==============================] - 0s 4ms/step - loss: 0.4327 - accuracy: 0.7952 - val_loss: 0.4460 - val_accuracy: 0.7844\n",
            "Epoch 60/100\n",
            "20/20 [==============================] - 0s 4ms/step - loss: 0.4316 - accuracy: 0.7936 - val_loss: 0.4445 - val_accuracy: 0.8031\n",
            "Epoch 61/100\n",
            "20/20 [==============================] - 0s 4ms/step - loss: 0.4301 - accuracy: 0.7975 - val_loss: 0.4417 - val_accuracy: 0.7969\n",
            "Epoch 62/100\n",
            "20/20 [==============================] - 0s 4ms/step - loss: 0.4289 - accuracy: 0.7952 - val_loss: 0.4418 - val_accuracy: 0.7906\n",
            "Epoch 63/100\n",
            "20/20 [==============================] - 0s 4ms/step - loss: 0.4268 - accuracy: 0.7959 - val_loss: 0.4404 - val_accuracy: 0.7875\n",
            "Epoch 64/100\n",
            "20/20 [==============================] - 0s 4ms/step - loss: 0.4262 - accuracy: 0.7936 - val_loss: 0.4396 - val_accuracy: 0.7906\n",
            "Epoch 65/100\n",
            "20/20 [==============================] - 0s 3ms/step - loss: 0.4252 - accuracy: 0.7998 - val_loss: 0.4391 - val_accuracy: 0.7937\n",
            "Epoch 66/100\n",
            "20/20 [==============================] - 0s 4ms/step - loss: 0.4240 - accuracy: 0.7975 - val_loss: 0.4417 - val_accuracy: 0.7906\n",
            "Epoch 67/100\n",
            "20/20 [==============================] - 0s 4ms/step - loss: 0.4230 - accuracy: 0.8022 - val_loss: 0.4424 - val_accuracy: 0.7906\n",
            "Epoch 68/100\n",
            "20/20 [==============================] - 0s 4ms/step - loss: 0.4212 - accuracy: 0.8038 - val_loss: 0.4384 - val_accuracy: 0.8031\n",
            "Epoch 69/100\n",
            "20/20 [==============================] - 0s 4ms/step - loss: 0.4201 - accuracy: 0.8006 - val_loss: 0.4406 - val_accuracy: 0.7875\n",
            "Epoch 70/100\n",
            "20/20 [==============================] - 0s 5ms/step - loss: 0.4196 - accuracy: 0.8038 - val_loss: 0.4396 - val_accuracy: 0.7906\n",
            "Epoch 71/100\n",
            "20/20 [==============================] - 0s 3ms/step - loss: 0.4176 - accuracy: 0.8077 - val_loss: 0.4407 - val_accuracy: 0.7906\n",
            "Epoch 72/100\n",
            "20/20 [==============================] - 0s 4ms/step - loss: 0.4159 - accuracy: 0.8061 - val_loss: 0.4413 - val_accuracy: 0.7906\n",
            "Epoch 73/100\n",
            "20/20 [==============================] - 0s 5ms/step - loss: 0.4157 - accuracy: 0.8053 - val_loss: 0.4408 - val_accuracy: 0.7906\n",
            "Epoch 74/100\n",
            "20/20 [==============================] - 0s 4ms/step - loss: 0.4141 - accuracy: 0.8092 - val_loss: 0.4363 - val_accuracy: 0.8062\n",
            "Epoch 75/100\n",
            "20/20 [==============================] - 0s 4ms/step - loss: 0.4131 - accuracy: 0.8100 - val_loss: 0.4367 - val_accuracy: 0.7937\n",
            "Epoch 76/100\n",
            "20/20 [==============================] - 0s 4ms/step - loss: 0.4113 - accuracy: 0.8092 - val_loss: 0.4389 - val_accuracy: 0.7969\n",
            "Epoch 77/100\n",
            "20/20 [==============================] - 0s 4ms/step - loss: 0.4105 - accuracy: 0.8061 - val_loss: 0.4387 - val_accuracy: 0.7969\n",
            "Epoch 78/100\n",
            "20/20 [==============================] - 0s 3ms/step - loss: 0.4095 - accuracy: 0.8108 - val_loss: 0.4381 - val_accuracy: 0.8000\n",
            "Epoch 79/100\n",
            "20/20 [==============================] - 0s 4ms/step - loss: 0.4070 - accuracy: 0.8092 - val_loss: 0.4412 - val_accuracy: 0.8000\n",
            "Epoch 80/100\n",
            "20/20 [==============================] - 0s 4ms/step - loss: 0.4070 - accuracy: 0.8100 - val_loss: 0.4377 - val_accuracy: 0.8156\n",
            "Epoch 81/100\n",
            "20/20 [==============================] - 0s 4ms/step - loss: 0.4057 - accuracy: 0.8139 - val_loss: 0.4375 - val_accuracy: 0.7969\n",
            "Epoch 82/100\n",
            "20/20 [==============================] - 0s 4ms/step - loss: 0.4048 - accuracy: 0.8124 - val_loss: 0.4389 - val_accuracy: 0.8031\n",
            "Epoch 83/100\n",
            "20/20 [==============================] - 0s 4ms/step - loss: 0.4028 - accuracy: 0.8178 - val_loss: 0.4341 - val_accuracy: 0.8125\n",
            "Epoch 84/100\n",
            "20/20 [==============================] - 0s 4ms/step - loss: 0.4020 - accuracy: 0.8170 - val_loss: 0.4387 - val_accuracy: 0.8000\n",
            "Epoch 85/100\n",
            "20/20 [==============================] - 0s 3ms/step - loss: 0.4007 - accuracy: 0.8178 - val_loss: 0.4391 - val_accuracy: 0.8031\n",
            "Epoch 86/100\n",
            "20/20 [==============================] - 0s 4ms/step - loss: 0.3998 - accuracy: 0.8170 - val_loss: 0.4346 - val_accuracy: 0.8062\n",
            "Epoch 87/100\n",
            "20/20 [==============================] - 0s 5ms/step - loss: 0.3973 - accuracy: 0.8202 - val_loss: 0.4377 - val_accuracy: 0.8062\n",
            "Epoch 88/100\n",
            "20/20 [==============================] - 0s 3ms/step - loss: 0.3976 - accuracy: 0.8202 - val_loss: 0.4350 - val_accuracy: 0.8188\n",
            "Epoch 89/100\n",
            "20/20 [==============================] - 0s 3ms/step - loss: 0.3959 - accuracy: 0.8210 - val_loss: 0.4343 - val_accuracy: 0.8094\n",
            "Epoch 90/100\n",
            "20/20 [==============================] - 0s 4ms/step - loss: 0.3956 - accuracy: 0.8233 - val_loss: 0.4356 - val_accuracy: 0.8094\n",
            "Epoch 91/100\n",
            "20/20 [==============================] - 0s 4ms/step - loss: 0.3926 - accuracy: 0.8233 - val_loss: 0.4337 - val_accuracy: 0.8094\n",
            "Epoch 92/100\n",
            "20/20 [==============================] - 0s 4ms/step - loss: 0.3915 - accuracy: 0.8233 - val_loss: 0.4365 - val_accuracy: 0.8000\n",
            "Epoch 93/100\n",
            "20/20 [==============================] - 0s 4ms/step - loss: 0.3913 - accuracy: 0.8217 - val_loss: 0.4343 - val_accuracy: 0.8188\n",
            "Epoch 94/100\n",
            "20/20 [==============================] - 0s 4ms/step - loss: 0.3891 - accuracy: 0.8296 - val_loss: 0.4299 - val_accuracy: 0.8094\n",
            "Epoch 95/100\n",
            "20/20 [==============================] - 0s 3ms/step - loss: 0.3882 - accuracy: 0.8225 - val_loss: 0.4358 - val_accuracy: 0.8156\n",
            "Epoch 96/100\n",
            "20/20 [==============================] - 0s 4ms/step - loss: 0.3869 - accuracy: 0.8225 - val_loss: 0.4316 - val_accuracy: 0.8250\n",
            "Epoch 97/100\n",
            "20/20 [==============================] - 0s 4ms/step - loss: 0.3855 - accuracy: 0.8311 - val_loss: 0.4340 - val_accuracy: 0.8219\n",
            "Epoch 98/100\n",
            "20/20 [==============================] - 0s 5ms/step - loss: 0.3835 - accuracy: 0.8319 - val_loss: 0.4322 - val_accuracy: 0.8250\n",
            "Epoch 99/100\n",
            "20/20 [==============================] - 0s 4ms/step - loss: 0.3835 - accuracy: 0.8241 - val_loss: 0.4354 - val_accuracy: 0.8188\n",
            "Epoch 100/100\n",
            "20/20 [==============================] - 0s 4ms/step - loss: 0.3825 - accuracy: 0.8264 - val_loss: 0.4304 - val_accuracy: 0.8188\n"
          ]
        }
      ],
      "source": [
        "history = model.fit(\n",
        "    x_train, y_train,\n",
        "    validation_data=(x_test, y_test),\n",
        "    batch_size=64,\n",
        "    epochs=100,\n",
        "    callbacks=[early_stopping], # put your callbacks in a list\n",
        ")"
      ]
    },
    {
      "cell_type": "markdown",
      "metadata": {
        "id": "_wkD0coJ2b79"
      },
      "source": [
        "## 6. After training"
      ]
    },
    {
      "cell_type": "code",
      "execution_count": 36,
      "metadata": {
        "id": "gtdjcwCK5SZC"
      },
      "outputs": [],
      "source": [
        "model.save(\"redwine_model_2.h5\")"
      ]
    },
    {
      "cell_type": "markdown",
      "metadata": {
        "id": "4oIElbyE3ttP"
      },
      "source": [
        "## 6.1. Plot learning curve"
      ]
    },
    {
      "cell_type": "code",
      "execution_count": 37,
      "metadata": {
        "colab": {
          "base_uri": "https://localhost:8080/",
          "height": 545
        },
        "id": "8Cd_9tYw2Sii",
        "outputId": "b2f41ea6-9906-43ba-9744-45cfadb578de"
      },
      "outputs": [
        {
          "output_type": "display_data",
          "data": {
            "text/plain": [
              "<Figure size 576x288 with 1 Axes>"
            ],
            "image/png": "[encoded data removed]"
          },
          "metadata": {
            "needs_background": "light"
          }
        },
        {
          "output_type": "display_data",
          "data": {
            "text/plain": [
              "<Figure size 576x288 with 1 Axes>"
            ],
            "image/png": "[encoded data removed]"
          },
          "metadata": {
            "needs_background": "light"
          }
        }
      ],
      "source": [
        "# Loss\n",
        "fig, ax = plt.subplots(figsize=(8,4))\n",
        "plt.title('loss')\n",
        "plt.plot(history.history['loss'], label='loss')\n",
        "plt.plot(history.history['val_loss'], label='val_loss', linestyle='--')\n",
        "plt.legend()\n",
        "plt.show()\n",
        "\n",
        "# Accuracy\n",
        "fig, ax = plt.subplots(figsize=(8,4))\n",
        "plt.title('accuracy')\n",
        "plt.plot(history.history['accuracy'], label='accuracy')\n",
        "plt.plot(history.history['val_accuracy'], label='val_accuracy', linestyle='--')\n",
        "plt.legend()\n",
        "plt.show()"
      ]
    },
    {
      "cell_type": "markdown",
      "metadata": {
        "id": "_O7Qlfd-3ygM"
      },
      "source": [
        "## 6.2. Evaluate model"
      ]
    },
    {
      "cell_type": "code",
      "execution_count": 38,
      "metadata": {
        "colab": {
          "base_uri": "https://localhost:8080/"
        },
        "id": "ABnbmhHD2iGZ",
        "outputId": "c3aced86-b2b6-45a1-e141-3162ca4fb42f"
      },
      "outputs": [
        {
          "output_type": "stream",
          "name": "stdout",
          "text": [
            "10/10 [==============================] - 0s 3ms/step - loss: 0.4304 - accuracy: 0.8188\n",
            "Test Loss is 0.4304044842720032\n",
            "Test Accuracy is 0.8187500238418579\n"
          ]
        }
      ],
      "source": [
        "test_loss, test_acc = model.evaluate(x_test, y_test)\n",
        "\n",
        "print(f'Test Loss is {test_loss}')\n",
        "print(f'Test Accuracy is {test_acc}')"
      ]
    },
    {
      "cell_type": "markdown",
      "metadata": {
        "id": "vClf0U6938Rq"
      },
      "source": [
        "## 6.3. Create classification report"
      ]
    },
    {
      "cell_type": "code",
      "execution_count": 39,
      "metadata": {
        "colab": {
          "base_uri": "https://localhost:8080/"
        },
        "id": "_Xz9YWHd3KAJ",
        "outputId": "e71840d7-8825-4f14-a496-19e7537c98ab"
      },
      "outputs": [
        {
          "output_type": "stream",
          "name": "stdout",
          "text": [
            "              precision    recall  f1-score   support\n",
            "\n",
            "           0       0.81      0.80      0.80       148\n",
            "           1       0.83      0.84      0.83       172\n",
            "\n",
            "    accuracy                           0.82       320\n",
            "   macro avg       0.82      0.82      0.82       320\n",
            "weighted avg       0.82      0.82      0.82       320\n",
            "\n"
          ]
        }
      ],
      "source": [
        "predict = model.predict(x_test)\n",
        "\n",
        "y_pred=[]\n",
        "for i in range(len(predict)):\n",
        "  y_pred.append(np.argmax(predict[i]))\n",
        "\n",
        "cr = classification_report(y_test, y_pred)\n",
        "print(cr)"
      ]
    },
    {
      "cell_type": "markdown",
      "metadata": {
        "id": "UupgOdD54C1p"
      },
      "source": [
        "## 6.4. Show [confusion matrix](https://www.ycc.idv.tw/confusion-matrix.html)"
      ]
    },
    {
      "cell_type": "code",
      "execution_count": 40,
      "metadata": {
        "colab": {
          "base_uri": "https://localhost:8080/",
          "height": 404
        },
        "id": "ZJVWXaoa3P2U",
        "outputId": "17a9a107-3e53-4b97-f003-a38134432cb0"
      },
      "outputs": [
        {
          "output_type": "display_data",
          "data": {
            "text/plain": [
              "<Figure size 1080x432 with 2 Axes>"
            ],
            "image/png": "[encoded data removed]"
          },
          "metadata": {
            "needs_background": "light"
          }
        }
      ],
      "source": [
        "p_test = predict.argmax(axis=1)\n",
        "cm = tf.math.confusion_matrix(y_test, p_test)\n",
        "\n",
        "f, ax = plt.subplots(figsize=(15, 6))\n",
        "sns.heatmap(cm, annot=True, cmap='Blues', square=True, linewidths=0.01, linecolor='grey', fmt=\"d\")\n",
        "plt.title('Confustion matrix')\n",
        "plt.ylabel('True label')\n",
        "plt.xlabel('Predicted label')\n",
        "plt.show()"
      ]
    },
    {
      "cell_type": "markdown",
      "source": [
        "# 結論\n",
        "使用了三種方法來來善原始的模型\n",
        "1. 生成額外的特徵：將原始特徵兩兩取平方後，相加除以四。取平方目的是放大相同特徵之間的數值差異；除四是為了，如果不同特徵之間數值如果相近，相加後數值之間的差距會再加大。正常情況下會考慮兩特徵之間，A特徵較B特徵大，A特徵取平方後增加數值之間的差異，再加上B特徵的平方作為偏移值。\n",
        "2. 將第一層relu改成elu：相較relu，elu的輸出較為平滑，較適合作為輸入層使用\n",
        "3. 將layer的unit增大：因為特徵增加，將unit適度增加能確保新生成的特徵有有效的使用\n",
        "\n",
        "另外也有廢棄方案\n",
        "1. 分析數據後只取重要之特徵：特徵不夠，分類後的結果根用猜的機率差不多\n",
        "2. 在正規化後給予特定特徵權重：可能適度調整權重會是可行方案，不過若是給予重要特徵1.5的權重，整個模型就會有過度擬合的情況\n",
        "3. 將特定資料先取平方後再正規化：會過度擬合\n",
        "4. 增加層數：會過度擬合\n",
        "5. 過度地增加unit數：會過度擬合"
      ],
      "metadata": {
        "id": "OFIE5mzFqzN-"
      }
    }
  ],
  "metadata": {
    "colab": {
      "collapsed_sections": [],
      "provenance": []
    },
    "kernelspec": {
      "display_name": "Python 3",
      "name": "python3"
    },
    "language_info": {
      "name": "python"
    }
  },
  "nbformat": 4,
  "nbformat_minor": 0
}